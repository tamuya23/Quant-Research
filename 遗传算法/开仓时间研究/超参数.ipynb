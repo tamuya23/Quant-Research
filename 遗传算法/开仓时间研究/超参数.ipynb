{
 "cells": [
  {
   "cell_type": "code",
   "execution_count": 1,
   "id": "e1110abf-6ca8-4a4e-a049-ac55e9731f4f",
   "metadata": {},
   "outputs": [],
   "source": [
    "import sys\n",
    "sys.path.append('/home/wangs/rs/lib')\n",
    "import ff\n",
    "import numpy as np\n",
    "import pandas as pd\n",
    "import matplotlib.pyplot as plt\n",
    "from multiprocessing import Pool\n",
    "from tqdm import tqdm"
   ]
  },
  {
   "cell_type": "code",
   "execution_count": 2,
   "id": "ce1603a4-d2f7-41de-be60-00f72494b044",
   "metadata": {},
   "outputs": [],
   "source": [
    "from scipy.stats import pearsonr,spearmanr\n",
    "from gplearn.genetic import SymbolicRegressor,SymbolicTransformer\n",
    "from gplearn import fitness\n",
    "from gplearn.functions import make_function\n",
    "from gplearn.fitness import make_fitness"
   ]
  },
  {
   "cell_type": "code",
   "execution_count": 3,
   "id": "b6006799-0b25-469d-aba1-605e2017b8e4",
   "metadata": {},
   "outputs": [],
   "source": [
    "feature = pd.read_pickle('/home/wangs/data/check/all_status.pk').loc['20200104':'20230101']\n",
    "fields = list(feature.columns)\n",
    "feature = feature.rank()/feature.count()\n",
    "feature['test_date'] = feature.index\n",
    "test_date = feature.index"
   ]
  },
  {
   "cell_type": "code",
   "execution_count": 4,
   "id": "2d61b905-6263-4427-9af2-eeb78fa3bcc1",
   "metadata": {},
   "outputs": [],
   "source": [
    "function_set = ['add','sub','mul','div','sqrt','log','inv','abs','neg']"
   ]
  },
  {
   "cell_type": "code",
   "execution_count": 5,
   "id": "d1b61d73-5136-4025-81f2-108fd3489399",
   "metadata": {},
   "outputs": [],
   "source": [
    "close_ = ff.read('close').loc[:,'20210104':'20230101']\n",
    "ret = (close_ - close_.shift(axis = 1))/close_.shift(axis = 1)\n",
    "event = ff.read('Gpalpha014').loc[:,'20210104':'20230101']"
   ]
  },
  {
   "cell_type": "code",
   "execution_count": 6,
   "id": "89cc6454-fe5a-4eb2-bbb9-db36798da0d8",
   "metadata": {},
   "outputs": [],
   "source": [
    "rolling_days = [5]\n",
    "quantile_ratio = [1/5,1/3,1/2,2/3]\n",
    "stock_num = [10,20,50,100]\n",
    "paras = [(day,ratio,num) for day in rolling_days for ratio in quantile_ratio for num in stock_num]"
   ]
  },
  {
   "cell_type": "code",
   "execution_count": 7,
   "id": "6ce4b423-6b1c-4e1b-9af5-246cb848ca62",
   "metadata": {},
   "outputs": [],
   "source": [
    "import statsmodels.api as sm\n",
    "best_dict = {}\n",
    "def open_day_matrix(y,y_pred,w=None):\n",
    "    best_rate = 0\n",
    "    best_para = (0,0,0)\n",
    "    if len(np.unique(y_pred))<=2:\n",
    "        return 0\n",
    "    else:\n",
    "        data=pd.DataFrame({'y_pred':y_pred,'date':test_date})\n",
    "        ts = pd.Series(data.loc[:,'y_pred'].values,index = data['date'])\n",
    "        for para in paras:\n",
    "            rolling_day,ratio,num = para\n",
    "            open_day = ((ts < ts.rolling(rolling_day,closed = 'left').quantile(ratio)).loc['20210104':'20230101']).replace({True:1.0,False:0})\n",
    "            if (open_day.sum() == 0):\n",
    "                return 0\n",
    "            ret_all = []\n",
    "            for day in event.columns:\n",
    "                buy_stock =  (event*ff.filter1.loc[:,'20210104':'20230101'])[day].dropna().sort_values().head(num).index\n",
    "                ret_all.append(ret.shift(-1,axis = 1).loc[buy_stock][day].mean())\n",
    "            ret_all[-1] = 0.0\n",
    "            if ff.cal_returns(ret_all * open_day)['收益回撤比'] > best_rate:\n",
    "                best_rate = ff.cal_returns(ret_all * open_day)['收益回撤比']\n",
    "                best_para = para\n",
    "        best_dict[best_rate] = best_para\n",
    "        return best_rate"
   ]
  },
  {
   "cell_type": "code",
   "execution_count": 8,
   "id": "c20f48c2-9eed-4847-8ef0-aa711b48cdd7",
   "metadata": {},
   "outputs": [],
   "source": [
    "open_day_fc=make_fitness(function=open_day_matrix,greater_is_better=True)"
   ]
  },
  {
   "cell_type": "code",
   "execution_count": 9,
   "id": "a4635fd7-873a-4fcb-b221-5ab31af77ecf",
   "metadata": {},
   "outputs": [],
   "source": [
    "test_gp=SymbolicTransformer(feature_names = fields,\n",
    "                            function_set = function_set, #所有算子\n",
    "                            generations = 4, #进化代数\n",
    "                            population_size = 1000, #种群规模\n",
    "                            tournament_size = 10, #竞标赛规模\n",
    "                            p_crossover=0.4,\n",
    "                            p_subtree_mutation=0.05,\n",
    "                            p_hoist_mutation=0.01,\n",
    "                            p_point_mutation=0.03,\n",
    "                            p_point_replace=0.35,\n",
    "                            init_depth=(1,4),\n",
    "                            const_range = None,\n",
    "                            metric=open_day_fc,\n",
    "                            parsimony_coefficient = 'auto',\n",
    "                            low_memory=True,\n",
    "                            verbose=2,\n",
    "                            n_jobs = 6,\n",
    "                           stopping_criteria=30.0)"
   ]
  },
  {
   "cell_type": "code",
   "execution_count": 10,
   "id": "39bda779-2cc8-469b-927a-c61872ca4091",
   "metadata": {},
   "outputs": [
    {
     "name": "stdout",
     "output_type": "stream",
     "text": [
      "    |   Population Average    |             Best Individual              |\n",
      "---- ------------------------- ------------------------------------------ ----------\n",
      " Gen   Length          Fitness   Length          Fitness      OOB Fitness  Time Left\n"
     ]
    },
    {
     "name": "stderr",
     "output_type": "stream",
     "text": [
      "[Parallel(n_jobs=6)]: Using backend LokyBackend with 6 concurrent workers.\n",
      "[Parallel(n_jobs=6)]: Done   2 out of   6 | elapsed: 601.2min remaining: 1202.3min\n"
     ]
    },
    {
     "name": "stdout",
     "output_type": "stream",
     "text": [
      "   0     4.69          2.12546        3          8.14443              N/A   1993.72m\n"
     ]
    },
    {
     "name": "stderr",
     "output_type": "stream",
     "text": [
      "[Parallel(n_jobs=6)]: Done   6 out of   6 | elapsed: 664.6min finished\n",
      "[Parallel(n_jobs=6)]: Using backend LokyBackend with 6 concurrent workers.\n",
      "[Parallel(n_jobs=6)]: Done   2 out of   6 | elapsed: 854.5min remaining: 1709.0min\n"
     ]
    },
    {
     "name": "stdout",
     "output_type": "stream",
     "text": [
      "   1     4.52          3.85059        4          9.68625              N/A   1760.09m\n"
     ]
    },
    {
     "name": "stderr",
     "output_type": "stream",
     "text": [
      "[Parallel(n_jobs=6)]: Done   6 out of   6 | elapsed: 880.0min finished\n",
      "[Parallel(n_jobs=6)]: Using backend LokyBackend with 6 concurrent workers.\n",
      "[Parallel(n_jobs=6)]: Done   2 out of   6 | elapsed: 679.3min remaining: 1358.7min\n"
     ]
    },
    {
     "name": "stdout",
     "output_type": "stream",
     "text": [
      "   2     4.50          5.39173        4          9.68625              N/A    705.48m\n"
     ]
    },
    {
     "name": "stderr",
     "output_type": "stream",
     "text": [
      "[Parallel(n_jobs=6)]: Done   6 out of   6 | elapsed: 705.5min finished\n",
      "[Parallel(n_jobs=6)]: Using backend LokyBackend with 6 concurrent workers.\n",
      "[Parallel(n_jobs=6)]: Done   2 out of   6 | elapsed: 757.4min remaining: 1514.8min\n"
     ]
    },
    {
     "name": "stdout",
     "output_type": "stream",
     "text": [
      "   3     3.92          6.51836        4          9.68625              N/A      0.00s\n"
     ]
    },
    {
     "name": "stderr",
     "output_type": "stream",
     "text": [
      "[Parallel(n_jobs=6)]: Done   6 out of   6 | elapsed: 776.3min finished\n"
     ]
    },
    {
     "data": {
      "text/html": [
       "<style>#sk-container-id-1 {color: black;background-color: white;}#sk-container-id-1 pre{padding: 0;}#sk-container-id-1 div.sk-toggleable {background-color: white;}#sk-container-id-1 label.sk-toggleable__label {cursor: pointer;display: block;width: 100%;margin-bottom: 0;padding: 0.3em;box-sizing: border-box;text-align: center;}#sk-container-id-1 label.sk-toggleable__label-arrow:before {content: \"▸\";float: left;margin-right: 0.25em;color: #696969;}#sk-container-id-1 label.sk-toggleable__label-arrow:hover:before {color: black;}#sk-container-id-1 div.sk-estimator:hover label.sk-toggleable__label-arrow:before {color: black;}#sk-container-id-1 div.sk-toggleable__content {max-height: 0;max-width: 0;overflow: hidden;text-align: left;background-color: #f0f8ff;}#sk-container-id-1 div.sk-toggleable__content pre {margin: 0.2em;color: black;border-radius: 0.25em;background-color: #f0f8ff;}#sk-container-id-1 input.sk-toggleable__control:checked~div.sk-toggleable__content {max-height: 200px;max-width: 100%;overflow: auto;}#sk-container-id-1 input.sk-toggleable__control:checked~label.sk-toggleable__label-arrow:before {content: \"▾\";}#sk-container-id-1 div.sk-estimator input.sk-toggleable__control:checked~label.sk-toggleable__label {background-color: #d4ebff;}#sk-container-id-1 div.sk-label input.sk-toggleable__control:checked~label.sk-toggleable__label {background-color: #d4ebff;}#sk-container-id-1 input.sk-hidden--visually {border: 0;clip: rect(1px 1px 1px 1px);clip: rect(1px, 1px, 1px, 1px);height: 1px;margin: -1px;overflow: hidden;padding: 0;position: absolute;width: 1px;}#sk-container-id-1 div.sk-estimator {font-family: monospace;background-color: #f0f8ff;border: 1px dotted black;border-radius: 0.25em;box-sizing: border-box;margin-bottom: 0.5em;}#sk-container-id-1 div.sk-estimator:hover {background-color: #d4ebff;}#sk-container-id-1 div.sk-parallel-item::after {content: \"\";width: 100%;border-bottom: 1px solid gray;flex-grow: 1;}#sk-container-id-1 div.sk-label:hover label.sk-toggleable__label {background-color: #d4ebff;}#sk-container-id-1 div.sk-serial::before {content: \"\";position: absolute;border-left: 1px solid gray;box-sizing: border-box;top: 0;bottom: 0;left: 50%;z-index: 0;}#sk-container-id-1 div.sk-serial {display: flex;flex-direction: column;align-items: center;background-color: white;padding-right: 0.2em;padding-left: 0.2em;position: relative;}#sk-container-id-1 div.sk-item {position: relative;z-index: 1;}#sk-container-id-1 div.sk-parallel {display: flex;align-items: stretch;justify-content: center;background-color: white;position: relative;}#sk-container-id-1 div.sk-item::before, #sk-container-id-1 div.sk-parallel-item::before {content: \"\";position: absolute;border-left: 1px solid gray;box-sizing: border-box;top: 0;bottom: 0;left: 50%;z-index: -1;}#sk-container-id-1 div.sk-parallel-item {display: flex;flex-direction: column;z-index: 1;position: relative;background-color: white;}#sk-container-id-1 div.sk-parallel-item:first-child::after {align-self: flex-end;width: 50%;}#sk-container-id-1 div.sk-parallel-item:last-child::after {align-self: flex-start;width: 50%;}#sk-container-id-1 div.sk-parallel-item:only-child::after {width: 0;}#sk-container-id-1 div.sk-dashed-wrapped {border: 1px dashed gray;margin: 0 0.4em 0.5em 0.4em;box-sizing: border-box;padding-bottom: 0.4em;background-color: white;}#sk-container-id-1 div.sk-label label {font-family: monospace;font-weight: bold;display: inline-block;line-height: 1.2em;}#sk-container-id-1 div.sk-label-container {text-align: center;}#sk-container-id-1 div.sk-container {/* jupyter's `normalize.less` sets `[hidden] { display: none; }` but bootstrap.min.css set `[hidden] { display: none !important; }` so we also need the `!important` here to be able to override the default hidden behavior on the sphinx rendered scikit-learn.org. See: https://github.com/scikit-learn/scikit-learn/issues/21755 */display: inline-block !important;position: relative;}#sk-container-id-1 div.sk-text-repr-fallback {display: none;}</style><div id=\"sk-container-id-1\" class=\"sk-top-container\"><div class=\"sk-text-repr-fallback\"><pre>[div(log(low60_rate), high60_rate),\n",
       " add(high60_rate, log(low60_rate)),\n",
       " add(high60_rate, add(low20_rate, percentile60_mean)),\n",
       " sub(div(low60_rate, percentile60_skew), amount60),\n",
       " div(low240_rate, PE),\n",
       " div(low240_rate, PE),\n",
       " div(low240_rate, PE),\n",
       " div(low240_rate, PE),\n",
       " div(low240_rate, PE),\n",
       " div(low240_rate, PE)]</pre><b>In a Jupyter environment, please rerun this cell to show the HTML representation or trust the notebook. <br />On GitHub, the HTML representation is unable to render, please try loading this page with nbviewer.org.</b></div><div class=\"sk-container\" hidden><div class=\"sk-item\"><div class=\"sk-estimator sk-toggleable\"><input class=\"sk-toggleable__control sk-hidden--visually\" id=\"sk-estimator-id-1\" type=\"checkbox\" checked><label for=\"sk-estimator-id-1\" class=\"sk-toggleable__label sk-toggleable__label-arrow\">SymbolicTransformer</label><div class=\"sk-toggleable__content\"><pre>[div(log(low60_rate), high60_rate),\n",
       " add(high60_rate, log(low60_rate)),\n",
       " add(high60_rate, add(low20_rate, percentile60_mean)),\n",
       " sub(div(low60_rate, percentile60_skew), amount60),\n",
       " div(low240_rate, PE),\n",
       " div(low240_rate, PE),\n",
       " div(low240_rate, PE),\n",
       " div(low240_rate, PE),\n",
       " div(low240_rate, PE),\n",
       " div(low240_rate, PE)]</pre></div></div></div></div></div>"
      ],
      "text/plain": [
       "SymbolicTransformer(const_range=None,\n",
       "                    feature_names=['PB', 'PE', 'std_type_raw', 'ILQ_type_raw',\n",
       "                                   'std_type', 'ILQ_type', 'high5_rate',\n",
       "                                   'high20_rate', 'high60_rate', 'high240_rate',\n",
       "                                   'low5_rate', 'low20_rate', 'low60_rate',\n",
       "                                   'low240_rate', 'amount_vol', 'circ_mv_vol',\n",
       "                                   'turnover_rate_vol', 'turnover_rate_f_vol',\n",
       "                                   'percentile60_mean', 'percentile60_median',\n",
       "                                   'percentile60_ske...\n",
       "                                   'amount60', ...],\n",
       "                    function_set=['add', 'sub', 'mul', 'div', 'sqrt', 'log',\n",
       "                                  'inv', 'abs', 'neg'],\n",
       "                    generations=4, init_depth=(1, 4), low_memory=True,\n",
       "                    metric=<gplearn.fitness._Fitness object at 0x7f62c0a98610>,\n",
       "                    n_jobs=6, p_crossover=0.4, p_point_mutation=0.03,\n",
       "                    p_point_replace=0.35, p_subtree_mutation=0.05,\n",
       "                    parsimony_coefficient='auto', stopping_criteria=30.0,\n",
       "                    tournament_size=10, verbose=2)"
      ]
     },
     "execution_count": 10,
     "metadata": {},
     "output_type": "execute_result"
    }
   ],
   "source": [
    "test_gp.fit(np.nan_to_num(feature.loc[:,fields].values),pd.Series(0,feature.index).values)"
   ]
  },
  {
   "cell_type": "code",
   "execution_count": 11,
   "id": "a52e354f-fd4d-4b99-b188-410865e46d29",
   "metadata": {},
   "outputs": [],
   "source": [
    "feature_2 = pd.read_pickle('/home/wangs/data/check/all_status.pk').loc['20200104':'20230101']\n",
    "fields = list(feature_2.columns)\n",
    "feature_2 = feature_2.rank()/feature_2.count()"
   ]
  },
  {
   "cell_type": "code",
   "execution_count": 12,
   "id": "9f44d472-7800-4e4f-93ce-981c3c786e87",
   "metadata": {},
   "outputs": [
    {
     "name": "stdout",
     "output_type": "stream",
     "text": [
      "Program 1: div(log(low60_rate), high60_rate)9.686249800199167\n"
     ]
    },
    {
     "ename": "KeyError",
     "evalue": "9.686249800199167",
     "output_type": "error",
     "traceback": [
      "\u001b[0;31m---------------------------------------------------------------------------\u001b[0m",
      "\u001b[0;31mKeyError\u001b[0m                                  Traceback (most recent call last)",
      "Cell \u001b[0;32mIn[12], line 3\u001b[0m\n\u001b[1;32m      1\u001b[0m \u001b[38;5;28;01mfor\u001b[39;00m i, program \u001b[38;5;129;01min\u001b[39;00m \u001b[38;5;28menumerate\u001b[39m(test_gp\u001b[38;5;241m.\u001b[39m_best_programs):\n\u001b[1;32m      2\u001b[0m     \u001b[38;5;28mprint\u001b[39m(\u001b[38;5;124mf\u001b[39m\u001b[38;5;124m'\u001b[39m\u001b[38;5;124mProgram \u001b[39m\u001b[38;5;132;01m{\u001b[39;00mi\u001b[38;5;241m+\u001b[39m\u001b[38;5;241m1\u001b[39m\u001b[38;5;132;01m}\u001b[39;00m\u001b[38;5;124m: \u001b[39m\u001b[38;5;132;01m{\u001b[39;00mprogram\u001b[38;5;132;01m}\u001b[39;00m\u001b[38;5;132;01m{\u001b[39;00mprogram\u001b[38;5;241m.\u001b[39mraw_fitness_\u001b[38;5;132;01m}\u001b[39;00m\u001b[38;5;124m'\u001b[39m)\n\u001b[0;32m----> 3\u001b[0m     rolling_day,ratio,num \u001b[38;5;241m=\u001b[39m \u001b[43mbest_dict\u001b[49m\u001b[43m[\u001b[49m\u001b[43mprogram\u001b[49m\u001b[38;5;241;43m.\u001b[39;49m\u001b[43mraw_fitness_\u001b[49m\u001b[43m]\u001b[49m\n\u001b[1;32m      4\u001b[0m     transform_X \u001b[38;5;241m=\u001b[39m program\u001b[38;5;241m.\u001b[39mexecute(np\u001b[38;5;241m.\u001b[39mnan_to_num(feature_2\u001b[38;5;241m.\u001b[39mloc[:,fields]\u001b[38;5;241m.\u001b[39mvalues))\n\u001b[1;32m      5\u001b[0m     ts \u001b[38;5;241m=\u001b[39m pd\u001b[38;5;241m.\u001b[39mSeries(transform_X,ff\u001b[38;5;241m.\u001b[39mread(\u001b[38;5;124m'\u001b[39m\u001b[38;5;124mGpalpha014\u001b[39m\u001b[38;5;124m'\u001b[39m)\u001b[38;5;241m.\u001b[39mloc[:,\u001b[38;5;124m'\u001b[39m\u001b[38;5;124m20200104\u001b[39m\u001b[38;5;124m'\u001b[39m:\u001b[38;5;124m'\u001b[39m\u001b[38;5;124m20230101\u001b[39m\u001b[38;5;124m'\u001b[39m]\u001b[38;5;241m.\u001b[39mcolumns)\n",
      "\u001b[0;31mKeyError\u001b[0m: 9.686249800199167"
     ]
    }
   ],
   "source": [
    "for i, program in enumerate(test_gp._best_programs):\n",
    "    print(f'Program {i+1}: {program}{program.raw_fitness_}')\n",
    "    rolling_day,ratio,num = best_dict[program.raw_fitness_]\n",
    "    transform_X = program.execute(np.nan_to_num(feature_2.loc[:,fields].values))\n",
    "    ts = pd.Series(transform_X,ff.read('Gpalpha014').loc[:,'20200104':'20230101'].columns)\n",
    "    open_day = ((ts < ts.rolling(rolling_day,closed = 'left').quantile(ratio)).loc['20210104':'20230101']).replace({True:1.0,False:0})\n",
    "    ret_all = []\n",
    "    for day in event.columns:\n",
    "        buy_stock =  (event*ff.filter1.loc[:,'20210104':'20230101'])[day].dropna().sort_values().head(num).index\n",
    "        ret_all.append(ret.shift(-1,axis = 1).loc[buy_stock][day].mean())\n",
    "    ret_all[-1] = 0.0\n",
    "    if i < 3:\n",
    "        (ret_all * open_day.loc['20210104':'20230101']).cumsum().plot()"
   ]
  },
  {
   "cell_type": "code",
   "execution_count": null,
   "id": "71055653-bb05-465d-bc65-36fd14a8ef6a",
   "metadata": {},
   "outputs": [],
   "source": [
    "feature.loc[:,fields]"
   ]
  },
  {
   "cell_type": "code",
   "execution_count": null,
   "id": "75ab20de-a007-48d8-b09c-826c5f7f85d7",
   "metadata": {},
   "outputs": [],
   "source": [
    "feature = pd.read_pickle('/home/wangs/data/check/all_status.pk')\n",
    "data = feature['PB'].rank()/feature['PB'].sum() + feature['PE'].rank()/feature['PE'].sum()"
   ]
  },
  {
   "cell_type": "code",
   "execution_count": null,
   "id": "08ae0fcc-7bbd-4fcc-908a-cbd9c74f8191",
   "metadata": {},
   "outputs": [],
   "source": [
    "data.loc['20200101':'20210301'] > data.loc['20200101':'20210101'].quantile(0.3)"
   ]
  },
  {
   "cell_type": "code",
   "execution_count": null,
   "id": "5add766c-d74f-4848-8421-f8a1b2b65064",
   "metadata": {},
   "outputs": [],
   "source": [
    "data.loc['20200101':'20210101'].quantile(0.7)"
   ]
  },
  {
   "cell_type": "code",
   "execution_count": null,
   "id": "035c28a5-3db9-48a6-8455-05297aa0bcfa",
   "metadata": {},
   "outputs": [],
   "source": [
    "data.plot()"
   ]
  },
  {
   "cell_type": "code",
   "execution_count": null,
   "id": "a103709f-fd31-410c-9e91-01ba1537406d",
   "metadata": {},
   "outputs": [],
   "source": [
    "((data > data.rolling(5,closed = 'left').quantile(2/3)).loc['20210104':'20240101']).replace({True:1.0,False:0})"
   ]
  },
  {
   "cell_type": "code",
   "execution_count": null,
   "id": "abf962af-29dc-4255-ba59-b0c1861c39e5",
   "metadata": {},
   "outputs": [],
   "source": [
    "rolling_day = [5,10,20,50,100]"
   ]
  },
  {
   "cell_type": "code",
   "execution_count": null,
   "id": "6fdbcd08-35b7-418c-a345-8bf3f7779bca",
   "metadata": {},
   "outputs": [],
   "source": [
    "test_day_index = data.loc['20210104':'20240101'].index"
   ]
  },
  {
   "cell_type": "code",
   "execution_count": null,
   "id": "77526a3e-5681-409f-a83f-7f64556c5d8f",
   "metadata": {},
   "outputs": [],
   "source": [
    "data > data.rolling(30).quantile(0.7)"
   ]
  },
  {
   "cell_type": "code",
   "execution_count": null,
   "id": "a24987ae-ad64-4189-b01f-41c4d72e21d9",
   "metadata": {},
   "outputs": [],
   "source": [
    "feature['ILQ_type_raw'].quantile(1/5)"
   ]
  },
  {
   "cell_type": "code",
   "execution_count": null,
   "id": "ea620f92-ebfb-4fe7-960a-fdf45cdea91e",
   "metadata": {},
   "outputs": [],
   "source": []
  }
 ],
 "metadata": {
  "kernelspec": {
   "display_name": "Python 3 (ipykernel)",
   "language": "python",
   "name": "python3"
  },
  "language_info": {
   "codemirror_mode": {
    "name": "ipython",
    "version": 3
   },
   "file_extension": ".py",
   "mimetype": "text/x-python",
   "name": "python",
   "nbconvert_exporter": "python",
   "pygments_lexer": "ipython3",
   "version": "3.9.16"
  }
 },
 "nbformat": 4,
 "nbformat_minor": 5
}
