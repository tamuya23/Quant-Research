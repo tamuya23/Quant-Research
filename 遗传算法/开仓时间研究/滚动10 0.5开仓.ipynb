{
 "cells": [
  {
   "cell_type": "code",
   "execution_count": 1,
   "id": "e1110abf-6ca8-4a4e-a049-ac55e9731f4f",
   "metadata": {},
   "outputs": [],
   "source": [
    "import sys\n",
    "sys.path.append('/home/wangs/rs/lib')\n",
    "import ff\n",
    "import numpy as np\n",
    "import pandas as pd\n",
    "import matplotlib.pyplot as plt\n",
    "from multiprocessing import Pool\n",
    "from tqdm import tqdm"
   ]
  },
  {
   "cell_type": "code",
   "execution_count": 2,
   "id": "ce1603a4-d2f7-41de-be60-00f72494b044",
   "metadata": {},
   "outputs": [],
   "source": [
    "from scipy.stats import pearsonr,spearmanr\n",
    "from gplearn.genetic import SymbolicRegressor,SymbolicTransformer\n",
    "from gplearn import fitness\n",
    "from gplearn.functions import make_function\n",
    "from gplearn.fitness import make_fitness"
   ]
  },
  {
   "cell_type": "code",
   "execution_count": 3,
   "id": "b6006799-0b25-469d-aba1-605e2017b8e4",
   "metadata": {},
   "outputs": [],
   "source": [
    "feature = pd.read_pickle('/home/wangs/data/check/all_status.pk').loc['20200104':'20230101']\n",
    "fields = list(feature.columns)\n",
    "feature = feature.rank()/feature.count()\n",
    "feature['test_date'] = feature.index\n",
    "test_date = feature.index"
   ]
  },
  {
   "cell_type": "code",
   "execution_count": 4,
   "id": "2d61b905-6263-4427-9af2-eeb78fa3bcc1",
   "metadata": {},
   "outputs": [],
   "source": [
    "function_set = ['add','sub','mul','div','sqrt','log','inv','abs','neg']"
   ]
  },
  {
   "cell_type": "code",
   "execution_count": 5,
   "id": "d1b61d73-5136-4025-81f2-108fd3489399",
   "metadata": {},
   "outputs": [],
   "source": [
    "close_ = ff.read('close').loc[:,'20210104':'20230101']\n",
    "ret = (close_ - close_.shift(axis = 1))/close_.shift(axis = 1)\n",
    "event = ff.read('Gpalpha014').loc[:,'20210104':'20230101']"
   ]
  },
  {
   "cell_type": "code",
   "execution_count": 6,
   "id": "6ce4b423-6b1c-4e1b-9af5-246cb848ca62",
   "metadata": {},
   "outputs": [],
   "source": [
    "import statsmodels.api as sm\n",
    "def open_day_matrix(y,y_pred,w=None):\n",
    "    best_rate = []\n",
    "    if len(np.unique(y_pred))<=2:\n",
    "        return 0\n",
    "    else:\n",
    "        data=pd.DataFrame({'y_pred':y_pred,'date':test_date})\n",
    "        ts = pd.Series(data.loc[:,'y_pred'].values,index = data['date'])\n",
    "        # for day_len in [5,10,20,50,100]:\n",
    "        #     open_day = ((ts > ts.rolling(day_len,closed = 'left').quantile(2/3)).loc['20210104':'20230101']).replace({True:1.0,False:0})\n",
    "        #     ret_all = []\n",
    "        #     for day in event.columns:\n",
    "        #         buy_stock =  (event*ff.filter1.loc[:,'20210104':'20230101'])[day].dropna().sort_values().head(20).index\n",
    "        #         ret_all.append(ret.shift(-1,axis = 1).loc[buy_stock][day].mean())\n",
    "        #     ret_all[-1] = 0.0\n",
    "        #     best_rate.append(ff.cal_returns(ret_all * open_day.loc['20210104':'20230101'])['收益回撤比'])\n",
    "        # return np.max(best_rate)\n",
    "        open_day = ((ts < ts.rolling(10,closed = 'left').quantile(1/2)).loc['20210104':'20230101']).replace({True:1.0,False:0})\n",
    "        # open_day = ((ts < ts.quantile(1/2)).loc['20210104':'20230101']).replace({True:1.0,False:0})\n",
    "        if (open_day.sum() == 0):\n",
    "            return 0\n",
    "        ret_all = []\n",
    "        for day in event.columns:\n",
    "            buy_stock =  (event*ff.filter1.loc[:,'20210104':'20230101'])[day].dropna().sort_values().head(20).index\n",
    "            ret_all.append(ret.shift(-1,axis = 1).loc[buy_stock][day].mean())\n",
    "        ret_all[-1] = 0.0\n",
    "        return ff.cal_returns(ret_all * open_day)['收益回撤比']"
   ]
  },
  {
   "cell_type": "code",
   "execution_count": 7,
   "id": "c20f48c2-9eed-4847-8ef0-aa711b48cdd7",
   "metadata": {},
   "outputs": [],
   "source": [
    "open_day_fc=make_fitness(function=open_day_matrix,greater_is_better=True)"
   ]
  },
  {
   "cell_type": "code",
   "execution_count": 8,
   "id": "a4635fd7-873a-4fcb-b221-5ab31af77ecf",
   "metadata": {},
   "outputs": [],
   "source": [
    "test_gp=SymbolicTransformer(feature_names = fields,\n",
    "                            function_set = function_set, #所有算子\n",
    "                            generations = 4, #进化代数\n",
    "                            population_size = 500, #种群规模\n",
    "                            tournament_size = 10, #竞标赛规模\n",
    "                            p_crossover=0.4,\n",
    "                            p_subtree_mutation=0.05,\n",
    "                            p_hoist_mutation=0.01,\n",
    "                            p_point_mutation=0.03,\n",
    "                            p_point_replace=0.35,\n",
    "                            init_depth=(1,4),\n",
    "                            const_range = None,\n",
    "                            metric=open_day_fc,\n",
    "                            parsimony_coefficient = 'auto',\n",
    "                            low_memory=True,\n",
    "                            verbose=2,\n",
    "                            n_jobs = 6,\n",
    "                           stopping_criteria=30.0)"
   ]
  },
  {
   "cell_type": "code",
   "execution_count": 9,
   "id": "39bda779-2cc8-469b-927a-c61872ca4091",
   "metadata": {},
   "outputs": [
    {
     "name": "stdout",
     "output_type": "stream",
     "text": [
      "    |   Population Average    |             Best Individual              |\n",
      "---- ------------------------- ------------------------------------------ ----------\n",
      " Gen   Length          Fitness   Length          Fitness      OOB Fitness  Time Left\n"
     ]
    },
    {
     "name": "stderr",
     "output_type": "stream",
     "text": [
      "[Parallel(n_jobs=6)]: Using backend LokyBackend with 6 concurrent workers.\n",
      "[Parallel(n_jobs=6)]: Done   2 out of   6 | elapsed: 28.9min remaining: 57.8min\n",
      "[Parallel(n_jobs=6)]: Done   6 out of   6 | elapsed: 31.2min finished\n",
      "[Parallel(n_jobs=6)]: Using backend LokyBackend with 6 concurrent workers.\n"
     ]
    },
    {
     "name": "stdout",
     "output_type": "stream",
     "text": [
      "   0     4.67          1.40966        3          5.93091              N/A     93.46m\n"
     ]
    },
    {
     "name": "stderr",
     "output_type": "stream",
     "text": [
      "[Parallel(n_jobs=6)]: Done   2 out of   6 | elapsed: 51.5min remaining: 103.1min\n",
      "[Parallel(n_jobs=6)]: Done   6 out of   6 | elapsed: 55.6min finished\n",
      "[Parallel(n_jobs=6)]: Using backend LokyBackend with 6 concurrent workers.\n"
     ]
    },
    {
     "name": "stdout",
     "output_type": "stream",
     "text": [
      "   1     4.86          2.50834        5          6.86392              N/A    111.10m\n"
     ]
    },
    {
     "name": "stderr",
     "output_type": "stream",
     "text": [
      "[Parallel(n_jobs=6)]: Done   2 out of   6 | elapsed: 35.1min remaining: 70.1min\n"
     ]
    },
    {
     "name": "stdout",
     "output_type": "stream",
     "text": [
      "   2     4.11          3.99839        5          6.86392              N/A     46.50m\n"
     ]
    },
    {
     "name": "stderr",
     "output_type": "stream",
     "text": [
      "[Parallel(n_jobs=6)]: Done   6 out of   6 | elapsed: 46.5min finished\n",
      "[Parallel(n_jobs=6)]: Using backend LokyBackend with 6 concurrent workers.\n",
      "[Parallel(n_jobs=6)]: Done   2 out of   6 | elapsed: 39.2min remaining: 78.3min\n",
      "[Parallel(n_jobs=6)]: Done   6 out of   6 | elapsed: 82.8min finished\n"
     ]
    },
    {
     "name": "stdout",
     "output_type": "stream",
     "text": [
      "   3     4.09          5.20565        5          6.86392              N/A      0.00s\n"
     ]
    },
    {
     "data": {
      "text/html": [
       "<style>#sk-container-id-1 {color: black;background-color: white;}#sk-container-id-1 pre{padding: 0;}#sk-container-id-1 div.sk-toggleable {background-color: white;}#sk-container-id-1 label.sk-toggleable__label {cursor: pointer;display: block;width: 100%;margin-bottom: 0;padding: 0.3em;box-sizing: border-box;text-align: center;}#sk-container-id-1 label.sk-toggleable__label-arrow:before {content: \"▸\";float: left;margin-right: 0.25em;color: #696969;}#sk-container-id-1 label.sk-toggleable__label-arrow:hover:before {color: black;}#sk-container-id-1 div.sk-estimator:hover label.sk-toggleable__label-arrow:before {color: black;}#sk-container-id-1 div.sk-toggleable__content {max-height: 0;max-width: 0;overflow: hidden;text-align: left;background-color: #f0f8ff;}#sk-container-id-1 div.sk-toggleable__content pre {margin: 0.2em;color: black;border-radius: 0.25em;background-color: #f0f8ff;}#sk-container-id-1 input.sk-toggleable__control:checked~div.sk-toggleable__content {max-height: 200px;max-width: 100%;overflow: auto;}#sk-container-id-1 input.sk-toggleable__control:checked~label.sk-toggleable__label-arrow:before {content: \"▾\";}#sk-container-id-1 div.sk-estimator input.sk-toggleable__control:checked~label.sk-toggleable__label {background-color: #d4ebff;}#sk-container-id-1 div.sk-label input.sk-toggleable__control:checked~label.sk-toggleable__label {background-color: #d4ebff;}#sk-container-id-1 input.sk-hidden--visually {border: 0;clip: rect(1px 1px 1px 1px);clip: rect(1px, 1px, 1px, 1px);height: 1px;margin: -1px;overflow: hidden;padding: 0;position: absolute;width: 1px;}#sk-container-id-1 div.sk-estimator {font-family: monospace;background-color: #f0f8ff;border: 1px dotted black;border-radius: 0.25em;box-sizing: border-box;margin-bottom: 0.5em;}#sk-container-id-1 div.sk-estimator:hover {background-color: #d4ebff;}#sk-container-id-1 div.sk-parallel-item::after {content: \"\";width: 100%;border-bottom: 1px solid gray;flex-grow: 1;}#sk-container-id-1 div.sk-label:hover label.sk-toggleable__label {background-color: #d4ebff;}#sk-container-id-1 div.sk-serial::before {content: \"\";position: absolute;border-left: 1px solid gray;box-sizing: border-box;top: 0;bottom: 0;left: 50%;z-index: 0;}#sk-container-id-1 div.sk-serial {display: flex;flex-direction: column;align-items: center;background-color: white;padding-right: 0.2em;padding-left: 0.2em;position: relative;}#sk-container-id-1 div.sk-item {position: relative;z-index: 1;}#sk-container-id-1 div.sk-parallel {display: flex;align-items: stretch;justify-content: center;background-color: white;position: relative;}#sk-container-id-1 div.sk-item::before, #sk-container-id-1 div.sk-parallel-item::before {content: \"\";position: absolute;border-left: 1px solid gray;box-sizing: border-box;top: 0;bottom: 0;left: 50%;z-index: -1;}#sk-container-id-1 div.sk-parallel-item {display: flex;flex-direction: column;z-index: 1;position: relative;background-color: white;}#sk-container-id-1 div.sk-parallel-item:first-child::after {align-self: flex-end;width: 50%;}#sk-container-id-1 div.sk-parallel-item:last-child::after {align-self: flex-start;width: 50%;}#sk-container-id-1 div.sk-parallel-item:only-child::after {width: 0;}#sk-container-id-1 div.sk-dashed-wrapped {border: 1px dashed gray;margin: 0 0.4em 0.5em 0.4em;box-sizing: border-box;padding-bottom: 0.4em;background-color: white;}#sk-container-id-1 div.sk-label label {font-family: monospace;font-weight: bold;display: inline-block;line-height: 1.2em;}#sk-container-id-1 div.sk-label-container {text-align: center;}#sk-container-id-1 div.sk-container {/* jupyter's `normalize.less` sets `[hidden] { display: none; }` but bootstrap.min.css set `[hidden] { display: none !important; }` so we also need the `!important` here to be able to override the default hidden behavior on the sphinx rendered scikit-learn.org. See: https://github.com/scikit-learn/scikit-learn/issues/21755 */display: inline-block !important;position: relative;}#sk-container-id-1 div.sk-text-repr-fallback {display: none;}</style><div id=\"sk-container-id-1\" class=\"sk-top-container\"><div class=\"sk-text-repr-fallback\"><pre>[log(neg(div(down_rate, PE))),\n",
       " div(down_rate, PE),\n",
       " sqrt(div(down_rate, PE)),\n",
       " div(down_rate, PE),\n",
       " div(down_rate, PE),\n",
       " abs(div(down_rate, PE)),\n",
       " abs(div(down_rate, PE)),\n",
       " sqrt(div(down_rate, PE)),\n",
       " sqrt(div(down_rate, PE)),\n",
       " sqrt(div(down_rate, PE))]</pre><b>In a Jupyter environment, please rerun this cell to show the HTML representation or trust the notebook. <br />On GitHub, the HTML representation is unable to render, please try loading this page with nbviewer.org.</b></div><div class=\"sk-container\" hidden><div class=\"sk-item\"><div class=\"sk-estimator sk-toggleable\"><input class=\"sk-toggleable__control sk-hidden--visually\" id=\"sk-estimator-id-1\" type=\"checkbox\" checked><label for=\"sk-estimator-id-1\" class=\"sk-toggleable__label sk-toggleable__label-arrow\">SymbolicTransformer</label><div class=\"sk-toggleable__content\"><pre>[log(neg(div(down_rate, PE))),\n",
       " div(down_rate, PE),\n",
       " sqrt(div(down_rate, PE)),\n",
       " div(down_rate, PE),\n",
       " div(down_rate, PE),\n",
       " abs(div(down_rate, PE)),\n",
       " abs(div(down_rate, PE)),\n",
       " sqrt(div(down_rate, PE)),\n",
       " sqrt(div(down_rate, PE)),\n",
       " sqrt(div(down_rate, PE))]</pre></div></div></div></div></div>"
      ],
      "text/plain": [
       "SymbolicTransformer(const_range=None,\n",
       "                    feature_names=['PB', 'PE', 'std_type_raw', 'ILQ_type_raw',\n",
       "                                   'std_type', 'ILQ_type', 'high5_rate',\n",
       "                                   'high20_rate', 'high60_rate', 'high240_rate',\n",
       "                                   'low5_rate', 'low20_rate', 'low60_rate',\n",
       "                                   'low240_rate', 'amount_vol', 'circ_mv_vol',\n",
       "                                   'turnover_rate_vol', 'turnover_rate_f_vol',\n",
       "                                   'percentile60_mean', 'percentile60_median',\n",
       "                                   'percentile60_ske...\n",
       "                    function_set=['add', 'sub', 'mul', 'div', 'sqrt', 'log',\n",
       "                                  'inv', 'abs', 'neg'],\n",
       "                    generations=4, init_depth=(1, 4), low_memory=True,\n",
       "                    metric=<gplearn.fitness._Fitness object at 0x7f27c0203970>,\n",
       "                    n_jobs=6, p_crossover=0.4, p_point_mutation=0.03,\n",
       "                    p_point_replace=0.35, p_subtree_mutation=0.05,\n",
       "                    parsimony_coefficient='auto', population_size=500,\n",
       "                    stopping_criteria=30.0, tournament_size=10, verbose=2)"
      ]
     },
     "execution_count": 9,
     "metadata": {},
     "output_type": "execute_result"
    }
   ],
   "source": [
    "test_gp.fit(np.nan_to_num(feature.loc[:,fields].values),pd.Series(0,feature.index).values)"
   ]
  },
  {
   "cell_type": "code",
   "execution_count": 10,
   "id": "a52e354f-fd4d-4b99-b188-410865e46d29",
   "metadata": {},
   "outputs": [],
   "source": [
    "feature_2 = pd.read_pickle('/home/wangs/data/check/all_status.pk').loc['20200104':'20230101']\n",
    "fields = list(feature_2.columns)\n",
    "feature_2 = feature_2.rank()/feature_2.count()"
   ]
  },
  {
   "cell_type": "code",
   "execution_count": 11,
   "id": "9f44d472-7800-4e4f-93ce-981c3c786e87",
   "metadata": {},
   "outputs": [
    {
     "name": "stdout",
     "output_type": "stream",
     "text": [
      "Program 1: log(neg(div(down_rate, PE)))\n",
      "Program 2: div(down_rate, PE)\n",
      "Program 3: sqrt(div(down_rate, PE))\n",
      "Program 4: div(down_rate, PE)\n",
      "Program 5: div(down_rate, PE)\n",
      "Program 6: abs(div(down_rate, PE))\n",
      "Program 7: abs(div(down_rate, PE))\n",
      "Program 8: sqrt(div(down_rate, PE))\n",
      "Program 9: sqrt(div(down_rate, PE))\n",
      "Program 10: sqrt(div(down_rate, PE))\n"
     ]
    },
    {
     "data": {
      "image/png": "[encoded data removed]",
      "text/plain": [
       "<Figure size 640x480 with 1 Axes>"
      ]
     },
     "metadata": {},
     "output_type": "display_data"
    }
   ],
   "source": [
    "for i, program in enumerate(test_gp._best_programs):\n",
    "    print(f'Program {i+1}: {program}')\n",
    "    transform_X = program.execute(np.nan_to_num(feature_2.loc[:,fields].values))\n",
    "    ts = pd.Series(transform_X,ff.read('Gpalpha014').loc[:,'20200104':'20230101'].columns)\n",
    "    open_day = ((ts < ts.rolling(10,closed = 'left').quantile(1/2)).loc['20210104':'20230101']).replace({True:1.0,False:0})\n",
    "    ret_all = []\n",
    "    for day in event.columns:\n",
    "        buy_stock =  (event*ff.filter1.loc[:,'20210104':'20230101'])[day].dropna().sort_values().head(20).index\n",
    "        ret_all.append(ret.shift(-1,axis = 1).loc[buy_stock][day].mean())\n",
    "    ret_all[-1] = 0.0\n",
    "    if i < 3:\n",
    "        (ret_all * open_day.loc['20210104':'20230101']).cumsum().plot()"
   ]
  },
  {
   "cell_type": "code",
   "execution_count": 12,
   "id": "71055653-bb05-465d-bc65-36fd14a8ef6a",
   "metadata": {},
   "outputs": [
    {
     "data": {
      "text/html": [
       "<div>\n",
       "<style scoped>\n",
       "    .dataframe tbody tr th:only-of-type {\n",
       "        vertical-align: middle;\n",
       "    }\n",
       "\n",
       "    .dataframe tbody tr th {\n",
       "        vertical-align: top;\n",
       "    }\n",
       "\n",
       "    .dataframe thead th {\n",
       "        text-align: right;\n",
       "    }\n",
       "</style>\n",
       "<table border=\"1\" class=\"dataframe\">\n",
       "  <thead>\n",
       "    <tr style=\"text-align: right;\">\n",
       "      <th></th>\n",
       "      <th>PB</th>\n",
       "      <th>PE</th>\n",
       "      <th>std_type_raw</th>\n",
       "      <th>ILQ_type_raw</th>\n",
       "      <th>std_type</th>\n",
       "      <th>ILQ_type</th>\n",
       "      <th>high5_rate</th>\n",
       "      <th>high20_rate</th>\n",
       "      <th>high60_rate</th>\n",
       "      <th>high240_rate</th>\n",
       "      <th>...</th>\n",
       "      <th>amount_mean</th>\n",
       "      <th>up_rate</th>\n",
       "      <th>down_rate</th>\n",
       "      <th>continue_up</th>\n",
       "      <th>profit_5</th>\n",
       "      <th>profit_20</th>\n",
       "      <th>profit_120</th>\n",
       "      <th>profit_240</th>\n",
       "      <th>win_ratio</th>\n",
       "      <th>winloss_prop</th>\n",
       "    </tr>\n",
       "  </thead>\n",
       "  <tbody>\n",
       "    <tr>\n",
       "      <th>20200106</th>\n",
       "      <td>0.192837</td>\n",
       "      <td>0.398072</td>\n",
       "      <td>0.140496</td>\n",
       "      <td>0.763774</td>\n",
       "      <td>0.365014</td>\n",
       "      <td>0.763774</td>\n",
       "      <td>0.931129</td>\n",
       "      <td>0.987603</td>\n",
       "      <td>0.980716</td>\n",
       "      <td>0.903581</td>\n",
       "      <td>...</td>\n",
       "      <td>0.045455</td>\n",
       "      <td>0.842975</td>\n",
       "      <td>0.249311</td>\n",
       "      <td>0.844353</td>\n",
       "      <td>0.891185</td>\n",
       "      <td>0.982094</td>\n",
       "      <td>0.920110</td>\n",
       "      <td>0.757576</td>\n",
       "      <td>0.632231</td>\n",
       "      <td>0.929752</td>\n",
       "    </tr>\n",
       "    <tr>\n",
       "      <th>20200107</th>\n",
       "      <td>0.249311</td>\n",
       "      <td>0.433884</td>\n",
       "      <td>0.140496</td>\n",
       "      <td>0.763774</td>\n",
       "      <td>0.365014</td>\n",
       "      <td>0.763774</td>\n",
       "      <td>0.975207</td>\n",
       "      <td>0.993113</td>\n",
       "      <td>0.988981</td>\n",
       "      <td>0.936639</td>\n",
       "      <td>...</td>\n",
       "      <td>0.020661</td>\n",
       "      <td>0.882920</td>\n",
       "      <td>0.162534</td>\n",
       "      <td>0.847796</td>\n",
       "      <td>0.957300</td>\n",
       "      <td>0.988981</td>\n",
       "      <td>0.938017</td>\n",
       "      <td>0.798898</td>\n",
       "      <td>0.910468</td>\n",
       "      <td>0.844353</td>\n",
       "    </tr>\n",
       "    <tr>\n",
       "      <th>20200108</th>\n",
       "      <td>0.172176</td>\n",
       "      <td>0.395317</td>\n",
       "      <td>0.140496</td>\n",
       "      <td>0.763774</td>\n",
       "      <td>0.365014</td>\n",
       "      <td>0.763774</td>\n",
       "      <td>0.404959</td>\n",
       "      <td>0.757576</td>\n",
       "      <td>0.893939</td>\n",
       "      <td>0.801653</td>\n",
       "      <td>...</td>\n",
       "      <td>0.005510</td>\n",
       "      <td>0.599174</td>\n",
       "      <td>0.247934</td>\n",
       "      <td>0.497245</td>\n",
       "      <td>0.344353</td>\n",
       "      <td>0.949036</td>\n",
       "      <td>0.914601</td>\n",
       "      <td>0.747934</td>\n",
       "      <td>0.082645</td>\n",
       "      <td>0.392562</td>\n",
       "    </tr>\n",
       "    <tr>\n",
       "      <th>20200109</th>\n",
       "      <td>0.241047</td>\n",
       "      <td>0.451791</td>\n",
       "      <td>0.504821</td>\n",
       "      <td>0.763774</td>\n",
       "      <td>0.365014</td>\n",
       "      <td>0.763774</td>\n",
       "      <td>0.775482</td>\n",
       "      <td>0.960055</td>\n",
       "      <td>0.973829</td>\n",
       "      <td>0.915978</td>\n",
       "      <td>...</td>\n",
       "      <td>0.099174</td>\n",
       "      <td>0.746556</td>\n",
       "      <td>0.037190</td>\n",
       "      <td>0.184573</td>\n",
       "      <td>0.787879</td>\n",
       "      <td>0.986226</td>\n",
       "      <td>0.935262</td>\n",
       "      <td>0.789256</td>\n",
       "      <td>0.954545</td>\n",
       "      <td>0.359504</td>\n",
       "    </tr>\n",
       "    <tr>\n",
       "      <th>20200110</th>\n",
       "      <td>0.228650</td>\n",
       "      <td>0.454545</td>\n",
       "      <td>0.504821</td>\n",
       "      <td>0.763774</td>\n",
       "      <td>0.365014</td>\n",
       "      <td>0.763774</td>\n",
       "      <td>0.586777</td>\n",
       "      <td>0.853994</td>\n",
       "      <td>0.899449</td>\n",
       "      <td>0.851240</td>\n",
       "      <td>...</td>\n",
       "      <td>0.148760</td>\n",
       "      <td>0.285124</td>\n",
       "      <td>0.486226</td>\n",
       "      <td>0.117080</td>\n",
       "      <td>0.570248</td>\n",
       "      <td>0.980716</td>\n",
       "      <td>0.931129</td>\n",
       "      <td>0.775482</td>\n",
       "      <td>0.308540</td>\n",
       "      <td>0.545455</td>\n",
       "    </tr>\n",
       "    <tr>\n",
       "      <th>...</th>\n",
       "      <td>...</td>\n",
       "      <td>...</td>\n",
       "      <td>...</td>\n",
       "      <td>...</td>\n",
       "      <td>...</td>\n",
       "      <td>...</td>\n",
       "      <td>...</td>\n",
       "      <td>...</td>\n",
       "      <td>...</td>\n",
       "      <td>...</td>\n",
       "      <td>...</td>\n",
       "      <td>...</td>\n",
       "      <td>...</td>\n",
       "      <td>...</td>\n",
       "      <td>...</td>\n",
       "      <td>...</td>\n",
       "      <td>...</td>\n",
       "      <td>...</td>\n",
       "      <td>...</td>\n",
       "      <td>...</td>\n",
       "      <td>...</td>\n",
       "    </tr>\n",
       "    <tr>\n",
       "      <th>20221226</th>\n",
       "      <td>0.184573</td>\n",
       "      <td>0.067493</td>\n",
       "      <td>0.140496</td>\n",
       "      <td>0.763774</td>\n",
       "      <td>0.365014</td>\n",
       "      <td>0.763774</td>\n",
       "      <td>0.323691</td>\n",
       "      <td>0.037190</td>\n",
       "      <td>0.045455</td>\n",
       "      <td>0.034435</td>\n",
       "      <td>...</td>\n",
       "      <td>0.333333</td>\n",
       "      <td>0.487603</td>\n",
       "      <td>0.250689</td>\n",
       "      <td>0.179752</td>\n",
       "      <td>0.630854</td>\n",
       "      <td>0.048209</td>\n",
       "      <td>0.203857</td>\n",
       "      <td>0.134986</td>\n",
       "      <td>0.869146</td>\n",
       "      <td>0.922865</td>\n",
       "    </tr>\n",
       "    <tr>\n",
       "      <th>20221227</th>\n",
       "      <td>0.185950</td>\n",
       "      <td>0.086777</td>\n",
       "      <td>0.140496</td>\n",
       "      <td>0.763774</td>\n",
       "      <td>0.365014</td>\n",
       "      <td>0.763774</td>\n",
       "      <td>0.677686</td>\n",
       "      <td>0.079890</td>\n",
       "      <td>0.108815</td>\n",
       "      <td>0.019284</td>\n",
       "      <td>...</td>\n",
       "      <td>0.265840</td>\n",
       "      <td>0.213499</td>\n",
       "      <td>0.493113</td>\n",
       "      <td>0.581956</td>\n",
       "      <td>0.844353</td>\n",
       "      <td>0.088154</td>\n",
       "      <td>0.235537</td>\n",
       "      <td>0.147383</td>\n",
       "      <td>0.692837</td>\n",
       "      <td>0.426997</td>\n",
       "    </tr>\n",
       "    <tr>\n",
       "      <th>20221228</th>\n",
       "      <td>0.152893</td>\n",
       "      <td>0.059229</td>\n",
       "      <td>0.140496</td>\n",
       "      <td>0.763774</td>\n",
       "      <td>0.365014</td>\n",
       "      <td>0.763774</td>\n",
       "      <td>0.272727</td>\n",
       "      <td>0.070248</td>\n",
       "      <td>0.150138</td>\n",
       "      <td>0.049587</td>\n",
       "      <td>...</td>\n",
       "      <td>0.179063</td>\n",
       "      <td>0.085399</td>\n",
       "      <td>0.329201</td>\n",
       "      <td>0.437328</td>\n",
       "      <td>0.447658</td>\n",
       "      <td>0.068871</td>\n",
       "      <td>0.169421</td>\n",
       "      <td>0.123967</td>\n",
       "      <td>0.089532</td>\n",
       "      <td>0.278237</td>\n",
       "    </tr>\n",
       "    <tr>\n",
       "      <th>20221229</th>\n",
       "      <td>0.137741</td>\n",
       "      <td>0.060606</td>\n",
       "      <td>0.140496</td>\n",
       "      <td>0.763774</td>\n",
       "      <td>0.365014</td>\n",
       "      <td>0.763774</td>\n",
       "      <td>0.246556</td>\n",
       "      <td>0.052342</td>\n",
       "      <td>0.078512</td>\n",
       "      <td>0.060606</td>\n",
       "      <td>...</td>\n",
       "      <td>0.185950</td>\n",
       "      <td>0.119835</td>\n",
       "      <td>0.371901</td>\n",
       "      <td>0.853306</td>\n",
       "      <td>0.261708</td>\n",
       "      <td>0.071625</td>\n",
       "      <td>0.148760</td>\n",
       "      <td>0.103306</td>\n",
       "      <td>0.258953</td>\n",
       "      <td>0.533058</td>\n",
       "    </tr>\n",
       "    <tr>\n",
       "      <th>20221230</th>\n",
       "      <td>0.161157</td>\n",
       "      <td>0.066116</td>\n",
       "      <td>0.140496</td>\n",
       "      <td>0.763774</td>\n",
       "      <td>0.365014</td>\n",
       "      <td>0.763774</td>\n",
       "      <td>0.486226</td>\n",
       "      <td>0.128099</td>\n",
       "      <td>0.264463</td>\n",
       "      <td>0.136364</td>\n",
       "      <td>...</td>\n",
       "      <td>0.121212</td>\n",
       "      <td>0.209366</td>\n",
       "      <td>0.074380</td>\n",
       "      <td>0.699725</td>\n",
       "      <td>0.422865</td>\n",
       "      <td>0.104683</td>\n",
       "      <td>0.207989</td>\n",
       "      <td>0.137741</td>\n",
       "      <td>0.774105</td>\n",
       "      <td>0.506887</td>\n",
       "    </tr>\n",
       "  </tbody>\n",
       "</table>\n",
       "<p>726 rows × 42 columns</p>\n",
       "</div>"
      ],
      "text/plain": [
       "                PB        PE  std_type_raw  ILQ_type_raw  std_type  ILQ_type  \\\n",
       "20200106  0.192837  0.398072      0.140496      0.763774  0.365014  0.763774   \n",
       "20200107  0.249311  0.433884      0.140496      0.763774  0.365014  0.763774   \n",
       "20200108  0.172176  0.395317      0.140496      0.763774  0.365014  0.763774   \n",
       "20200109  0.241047  0.451791      0.504821      0.763774  0.365014  0.763774   \n",
       "20200110  0.228650  0.454545      0.504821      0.763774  0.365014  0.763774   \n",
       "...            ...       ...           ...           ...       ...       ...   \n",
       "20221226  0.184573  0.067493      0.140496      0.763774  0.365014  0.763774   \n",
       "20221227  0.185950  0.086777      0.140496      0.763774  0.365014  0.763774   \n",
       "20221228  0.152893  0.059229      0.140496      0.763774  0.365014  0.763774   \n",
       "20221229  0.137741  0.060606      0.140496      0.763774  0.365014  0.763774   \n",
       "20221230  0.161157  0.066116      0.140496      0.763774  0.365014  0.763774   \n",
       "\n",
       "          high5_rate  high20_rate  high60_rate  high240_rate  ...  \\\n",
       "20200106    0.931129     0.987603     0.980716      0.903581  ...   \n",
       "20200107    0.975207     0.993113     0.988981      0.936639  ...   \n",
       "20200108    0.404959     0.757576     0.893939      0.801653  ...   \n",
       "20200109    0.775482     0.960055     0.973829      0.915978  ...   \n",
       "20200110    0.586777     0.853994     0.899449      0.851240  ...   \n",
       "...              ...          ...          ...           ...  ...   \n",
       "20221226    0.323691     0.037190     0.045455      0.034435  ...   \n",
       "20221227    0.677686     0.079890     0.108815      0.019284  ...   \n",
       "20221228    0.272727     0.070248     0.150138      0.049587  ...   \n",
       "20221229    0.246556     0.052342     0.078512      0.060606  ...   \n",
       "20221230    0.486226     0.128099     0.264463      0.136364  ...   \n",
       "\n",
       "          amount_mean   up_rate  down_rate  continue_up  profit_5  profit_20  \\\n",
       "20200106     0.045455  0.842975   0.249311     0.844353  0.891185   0.982094   \n",
       "20200107     0.020661  0.882920   0.162534     0.847796  0.957300   0.988981   \n",
       "20200108     0.005510  0.599174   0.247934     0.497245  0.344353   0.949036   \n",
       "20200109     0.099174  0.746556   0.037190     0.184573  0.787879   0.986226   \n",
       "20200110     0.148760  0.285124   0.486226     0.117080  0.570248   0.980716   \n",
       "...               ...       ...        ...          ...       ...        ...   \n",
       "20221226     0.333333  0.487603   0.250689     0.179752  0.630854   0.048209   \n",
       "20221227     0.265840  0.213499   0.493113     0.581956  0.844353   0.088154   \n",
       "20221228     0.179063  0.085399   0.329201     0.437328  0.447658   0.068871   \n",
       "20221229     0.185950  0.119835   0.371901     0.853306  0.261708   0.071625   \n",
       "20221230     0.121212  0.209366   0.074380     0.699725  0.422865   0.104683   \n",
       "\n",
       "          profit_120  profit_240  win_ratio  winloss_prop  \n",
       "20200106    0.920110    0.757576   0.632231      0.929752  \n",
       "20200107    0.938017    0.798898   0.910468      0.844353  \n",
       "20200108    0.914601    0.747934   0.082645      0.392562  \n",
       "20200109    0.935262    0.789256   0.954545      0.359504  \n",
       "20200110    0.931129    0.775482   0.308540      0.545455  \n",
       "...              ...         ...        ...           ...  \n",
       "20221226    0.203857    0.134986   0.869146      0.922865  \n",
       "20221227    0.235537    0.147383   0.692837      0.426997  \n",
       "20221228    0.169421    0.123967   0.089532      0.278237  \n",
       "20221229    0.148760    0.103306   0.258953      0.533058  \n",
       "20221230    0.207989    0.137741   0.774105      0.506887  \n",
       "\n",
       "[726 rows x 42 columns]"
      ]
     },
     "execution_count": 12,
     "metadata": {},
     "output_type": "execute_result"
    }
   ],
   "source": [
    "feature.loc[:,fields]"
   ]
  },
  {
   "cell_type": "code",
   "execution_count": 13,
   "id": "75ab20de-a007-48d8-b09c-826c5f7f85d7",
   "metadata": {},
   "outputs": [],
   "source": [
    "feature = pd.read_pickle('/home/wangs/data/check/all_status.pk')\n",
    "data = feature['PB'].rank()/feature['PB'].sum() + feature['PE'].rank()/feature['PE'].sum()"
   ]
  },
  {
   "cell_type": "code",
   "execution_count": 14,
   "id": "08ae0fcc-7bbd-4fcc-908a-cbd9c74f8191",
   "metadata": {},
   "outputs": [
    {
     "data": {
      "text/plain": [
       "20200102    False\n",
       "20200103    False\n",
       "20200106     True\n",
       "20200107     True\n",
       "20200108    False\n",
       "            ...  \n",
       "20210223     True\n",
       "20210224     True\n",
       "20210225     True\n",
       "20210226     True\n",
       "20210301     True\n",
       "Length: 279, dtype: bool"
      ]
     },
     "execution_count": 14,
     "metadata": {},
     "output_type": "execute_result"
    }
   ],
   "source": [
    "data.loc['20200101':'20210301'] > data.loc['20200101':'20210101'].quantile(0.3)"
   ]
  },
  {
   "cell_type": "code",
   "execution_count": 15,
   "id": "5add766c-d74f-4848-8421-f8a1b2b65064",
   "metadata": {},
   "outputs": [
    {
     "data": {
      "text/plain": [
       "0.19160701776636"
      ]
     },
     "execution_count": 15,
     "metadata": {},
     "output_type": "execute_result"
    }
   ],
   "source": [
    "data.loc['20200101':'20210101'].quantile(0.7)"
   ]
  },
  {
   "cell_type": "code",
   "execution_count": 16,
   "id": "035c28a5-3db9-48a6-8455-05297aa0bcfa",
   "metadata": {},
   "outputs": [
    {
     "data": {
      "text/plain": [
       "<Axes: >"
      ]
     },
     "execution_count": 16,
     "metadata": {},
     "output_type": "execute_result"
    },
    {
     "data": {
      "image/png": "[encoded data removed]",
      "text/plain": [
       "<Figure size 640x480 with 1 Axes>"
      ]
     },
     "metadata": {},
     "output_type": "display_data"
    }
   ],
   "source": [
    "data.plot()"
   ]
  },
  {
   "cell_type": "code",
   "execution_count": 17,
   "id": "a103709f-fd31-410c-9e91-01ba1537406d",
   "metadata": {},
   "outputs": [
    {
     "data": {
      "text/plain": [
       "20210104    1.0\n",
       "20210105    1.0\n",
       "20210106    0.0\n",
       "20210107    0.0\n",
       "20210108    0.0\n",
       "           ... \n",
       "20231225    0.0\n",
       "20231226    0.0\n",
       "20231227    0.0\n",
       "20231228    1.0\n",
       "20231229    1.0\n",
       "Length: 727, dtype: float64"
      ]
     },
     "execution_count": 17,
     "metadata": {},
     "output_type": "execute_result"
    }
   ],
   "source": [
    "((data > data.rolling(5,closed = 'left').quantile(2/3)).loc['20210104':'20240101']).replace({True:1.0,False:0})"
   ]
  },
  {
   "cell_type": "code",
   "execution_count": 18,
   "id": "abf962af-29dc-4255-ba59-b0c1861c39e5",
   "metadata": {},
   "outputs": [],
   "source": [
    "rolling_day = [5,10,20,50,100]"
   ]
  },
  {
   "cell_type": "code",
   "execution_count": 19,
   "id": "6fdbcd08-35b7-418c-a345-8bf3f7779bca",
   "metadata": {},
   "outputs": [],
   "source": [
    "test_day_index = data.loc['20210104':'20240101'].index"
   ]
  },
  {
   "cell_type": "code",
   "execution_count": 20,
   "id": "77526a3e-5681-409f-a83f-7f64556c5d8f",
   "metadata": {
    "scrolled": true
   },
   "outputs": [
    {
     "data": {
      "text/plain": [
       "20100104    False\n",
       "20100105    False\n",
       "20100106    False\n",
       "20100107    False\n",
       "20100108    False\n",
       "            ...  \n",
       "20240604    False\n",
       "20240605    False\n",
       "20240606    False\n",
       "20240607    False\n",
       "20240611    False\n",
       "Length: 3505, dtype: bool"
      ]
     },
     "execution_count": 20,
     "metadata": {},
     "output_type": "execute_result"
    }
   ],
   "source": [
    "data > data.rolling(30).quantile(0.7)"
   ]
  },
  {
   "cell_type": "code",
   "execution_count": 21,
   "id": "a24987ae-ad64-4189-b01f-41c4d72e21d9",
   "metadata": {},
   "outputs": [
    {
     "data": {
      "text/plain": [
       "0.0"
      ]
     },
     "execution_count": 21,
     "metadata": {},
     "output_type": "execute_result"
    }
   ],
   "source": [
    "feature['ILQ_type_raw'].quantile(1/5)"
   ]
  },
  {
   "cell_type": "code",
   "execution_count": null,
   "id": "ea620f92-ebfb-4fe7-960a-fdf45cdea91e",
   "metadata": {},
   "outputs": [],
   "source": []
  }
 ],
 "metadata": {
  "kernelspec": {
   "display_name": "Python 3 (ipykernel)",
   "language": "python",
   "name": "python3"
  },
  "language_info": {
   "codemirror_mode": {
    "name": "ipython",
    "version": 3
   },
   "file_extension": ".py",
   "mimetype": "text/x-python",
   "name": "python",
   "nbconvert_exporter": "python",
   "pygments_lexer": "ipython3",
   "version": "3.9.16"
  }
 },
 "nbformat": 4,
 "nbformat_minor": 5
}
