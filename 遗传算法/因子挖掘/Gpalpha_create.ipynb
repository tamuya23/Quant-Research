{
 "cells": [
  {
   "cell_type": "code",
   "execution_count": 1,
   "id": "83c2f6a7-25b6-4df8-968b-014d415e8b7f",
   "metadata": {},
   "outputs": [],
   "source": [
    "import sys\n",
    "sys.path.append('/home/wangs/rs/lib')\n",
    "import ff\n",
    "import numpy as np\n",
    "import pandas as pd\n",
    "import matplotlib.pyplot as plt\n",
    "from multiprocessing import Pool\n",
    "from tqdm import tqdm"
   ]
  },
  {
   "cell_type": "code",
   "execution_count": 2,
   "id": "3ca45aad-e983-4d2a-937c-94bff8c3a475",
   "metadata": {},
   "outputs": [],
   "source": [
    "#np.add、np.subtract、np.multiply、np.negative、np.abs、np.maximum、np.minimum\n",
    "def div(x1, x2):\n",
    "    with np.errstate(divide='ignore', invalid='ignore'):\n",
    "        return np.where(np.abs(x2) > 0.001, np.divide(x1, x2), 1.)\n",
    "def sqrt(x1):\n",
    "    return np.sqrt(np.abs(x1))\n",
    "def log(x1):\n",
    "    with np.errstate(divide='ignore', invalid='ignore'):\n",
    "        return np.where(np.abs(x1) > 0.001, np.log(np.abs(x1)), 0.)\n",
    "def inv(x1):\n",
    "    with np.errstate(divide='ignore', invalid='ignore'):\n",
    "        return np.where(np.abs(x1) > 0.001, 1. / x1, 0.)\n",
    "def sig(x1):\n",
    "    with np.errstate(over='ignore', under='ignore'):\n",
    "        return 1 / (1 + np.exp(-x1))\n",
    "def add(x1,x2):\n",
    "    return np.add(x1,x2)\n",
    "def sub(x1,x2):\n",
    "    return np.subtract(x1,x2)\n",
    "def mul(x1,x2):\n",
    "    return np.multiply(x1,x2)\n",
    "def abs(x1):\n",
    "    return np.abs(x1)\n",
    "def neg(x):\n",
    "    return np.negative(x1)"
   ]
  },
  {
   "cell_type": "code",
   "execution_count": 3,
   "id": "fa14ed99-5997-4c5a-af37-ed6ac5a638c3",
   "metadata": {},
   "outputs": [],
   "source": [
    "def rank(data):  # 因子在截面上的分位数\n",
    "    if len(np.unique(data))<=2:\n",
    "        return np.zeros(len(data))\n",
    "    try:\n",
    "        df=pd.DataFrame({'data':data})\n",
    "        df['date']=test_date\n",
    "        df['code']=test_code\n",
    "        value=df.groupby('date')['data'].transform(lambda s : s.rank()/s.count())\n",
    "        return np.nan_to_num(value.values)\n",
    "    except:\n",
    "        return np.zeros(len(data))"
   ]
  },
  {
   "cell_type": "code",
   "execution_count": 4,
   "id": "44e85cdc-2b16-42e6-b054-729b8c569652",
   "metadata": {},
   "outputs": [],
   "source": [
    "post=ff.read('post')\n",
    "filter0=ff.filter0\n",
    "close=ff.read('close')*post*filter0\n",
    "open_=ff.read('open')*post*filter0\n",
    "high=ff.read('high')*post*filter0\n",
    "low=ff.read('low')*post*filter0\n",
    "vol=ff.read('vol')*filter0\n",
    "amount=ff.read('amount')*post*filter0"
   ]
  },
  {
   "cell_type": "code",
   "execution_count": 5,
   "id": "d422829a-e371-4843-ae24-12664ebf8329",
   "metadata": {},
   "outputs": [],
   "source": [
    "factor_names1=['closer', 'openr', 'lowr', 'highr', 'ocret', 'lcret', 'hcret', 'ohret', 'ret5', 'ret10', 'ret20', 'ret30', 'excess5', 'excess10', 'excess20', 'excess30', 'ma5', 'bias5', 'ma10',\n",
    "               'bias10', 'ma15', 'bias15', 'ma20', 'bias20', 'vwap_ret', 'vwaph_ret', 'll5', 'll15', 'll20', 'll30', 'a0', 'a5', 'a15', 'a30', 'ah5', 'ah10', 'ah15', 'std', 'amt_std', 'vol_std', \n",
    "               'amt_mean', 'vol_mean', 'turnover', 'turnover_mean', 'turnover_std', 'turnover_skew', 'turnoverf', 'turnoverf_mean', 'turnoverf_std', 'turnoverf_skew', 'mkv', 'l_mkv', 'lhret', \n",
    "               'STR', 'MTR', 'SMTR', 'ILLIQ','close','high','low']\n",
    "factor_names2=['ARRP', 'ARRP_5d_20mean', 'AmpMod', 'BVol', 'CDPDVP', 'ILLIQ', 'IVoldeCorr', 'IntraDayMom20', 'MTR', 'RCP', 'SMTR', 'SPS', 'STR', 'a30', \n",
    "               'afternoon_ratio_1', 'ah15', 'amt', 'amt_ma20', 'amt_mean', 'amt_score0', 'amt_score1', 'amt_score2', 'amt_std', 'amt_std20', 'bias10', 'bias15', 'bias20', 'bias5', \n",
    "               'cross_std10', 'cross_std10adj', 'ctrade', 'excess10', 'excess20', 'excess30', 'excess5', 'growth_a', 'growth_b', 'growth_c', 'h_rankamt_corr_10', 'h_rankv_corr_10', 'h_rankv_corr_36', \n",
    "               'hcret', 'idiov', 'intro_high80_corr', 'ivr', 'l_mkv', 'mkv', 'mom1', 'mom_spring', 'nl_mkv', 'nl_mom', 'open0931ratio', 'open5ratio_ma10vol', 'rank_2_corr_hv10', 'rank_2_corr_hv20', 'rank_ha_corr_sum', \n",
    "               'ret20', 'ret30', 'ret5', 'roc121', 'roc20', 'roc240', 'roc5', 'scr', 'std', 'std20', 'std21', 'std240', 'stddev_cov', 'stddev_cov_right', 'sub', 'sysv', 'tail_ratio_1', 'tailrets0', 'tailrets1', 'tliq', \n",
    "               'turn20', 'turnover', 'turnover_mean', 'turnover_scale_z', 'turnover_score_ts_mean', 'turnover_score_ts_std', 'turnover_skew', 'turnover_std', 'turnoverf', 'turnoverf_mean', 'turnoverf_skew', 'turnoverf_std', \n",
    "               'up_KURS', 'up_plus_down_KURS', 'vol', 'vol_mean', 'vol_std', 'vol_std20', 'volroc_skew', '滞后日内量价corr']\n",
    "factor_name3 =['accelerated_turnover_rank_RC','CSK_XYY_UP_DOWN_120D_RC','high_fre_vol_RC','high_fre_diff_vol_RC','high_fre_absdiff_vol_RC','peak_count_vol_RC','overnightsmart20_RC','CTR_RC','jumpCTR_RC','turnover_rate_proportion_l','synergy']\n",
    "factor_name4 = ['ll60','ll120', 'lr5', 'lr10', 'lr20', 'lr30','lr60','lr120','posi60','posi120','posi240','nhigh20','nhigh60', 'nhigh120','nhigh20','nhigh60','nhigh120']\n",
    "factor_name5 = ['rtn_condVaR', 'CTR_RC', 'jumpCTR_RC', 'openr', 'CCOIV', 'lr30', 'SZXZ', 'vol_DW', 'buy_sm_amount', 'lr20', 'TCV', 'ah10', 'buy_elg_amount', 'ret10', 'vol_LBQ', 'ah5', 'lr120', 'ma15', 'correlation_matrix13', 'high_fre_diff_vol', 'posi120', 'nlow60', 'roc30', 'accelerated_turnover_rank', 'VolStd', 'low', 'sell_sm_amount', 'vwap_ret', 'rtn_DW', 'high', 'sell_md_amount', 'll5', 'SBZL', 'lhret', 'nhigh120', 'SQ', 'draw30', 'lr60', 'SPR', 'close', 'rtn_LBQ', 'WBGM', 'closer', 'SCOV', 'll60', 'feph', 'ID_Vol_deCorr', 'highr', 'NCV', 'buy_md_amount', 'lcret', 'SCCOIV', 'VoPC', 'highStdRtn_meanN', 'lowr', 'up', 'nhigh20', 'll20', 'high_fre_vol', 'ma5', 'ZMCW', 'bias30', 'high_fre_absdiff_vol', 'a5', 'nlow120', 'UID', 'll15', 'sell_elg_amount', 'posi60', 'a0', 'ma20', 'roc60', 'correlation_matrix12', 'overnightsmart20_RC', 'peak_count_vol', 'roc15', 'lr10', 'VoWVR', 'rtn_rho', 'nhigh60', 'down', 'posi240', 'foc_Comb', 'vwaph_ret', 'vol_rho', 'GYCQ', 'draw60', 'up_limit', 'post', 'PCV', 'UTD10', 'RPV', 'buy_lg_amount', 'draw15', 'ocret', 'ma10', 'll30', 'rtn_foc', 'sell_lg_amount', 'vwap', 'YMSL', 'ohret', 'net_mf_amount', 'DW_Comb', 'market_mean_IV', 'CSK_XYY_UP_DOWN_120D', 'correlation_matrix11', 'down_limit', 'HYLJ', 'nlow20', 'bias60', 'SRV', 'LBQ_Comb', 'UTD20', 'open', 'a15', 'COYCYV', 'rho_Comb', 'll120', 'highStdRtn_mean', 'lr5', 'vol_foc']\n",
    "fields = factor_names1 + factor_names2 + factor_name3 + factor_name4 + factor_name5\n",
    "fields = list(set(fields))"
   ]
  },
  {
   "cell_type": "code",
   "execution_count": 6,
   "id": "730da88f-ed22-4214-bcb7-7e487b8f03fd",
   "metadata": {},
   "outputs": [],
   "source": [
    "def rcread(factor):\n",
    "    return pd.DataFrame((ff.read(factor).loc[:,'20200101':'20240101']).rank()/ (ff.read(factor).loc[:,'20200101':'20240101']).count(),index= ff.read('ll60').index,columns=ff.read('turnover').loc[:,'20200102':'20240101'].columns)"
   ]
  },
  {
   "cell_type": "code",
   "execution_count": 85,
   "id": "ace636db-b9b3-406a-a84b-5179d1166235",
   "metadata": {},
   "outputs": [],
   "source": [
    "#Gpalpha001 add(ll30, bias15) 6.76\n",
    "factor = (ff.read('ll30').replace({np.nan:0})).loc[:,'20200102':'20240101'] + ff.read('bias15').loc[:,'20200102':'20240101']\n",
    "ff.save('Gpalpha001',factor)\n",
    "#ff.run(factor*ff.filter0.loc[:,'20200101':'20240101'], positions = 100, period = 1, fees = 0)"
   ]
  },
  {
   "cell_type": "code",
   "execution_count": 86,
   "id": "b41ae258-62c6-46e5-9e46-e722b8d72867",
   "metadata": {},
   "outputs": [],
   "source": [
    "#超额 + rank标准化 4.27\n",
    "#sqrt(sub(div(roc15, mkv), sub(nhigh20, add(amt_score0, nhigh20))))\n",
    "# factor = sqrt(sub(div(rcread('roc15'), rcread('mkv')), sub(rcread('nhigh20'), add(rcread('amt_score0'), rcread('nhigh20')))))\n",
    "# ff.run((factor)*ff.filter0.loc[:,'20200101':'20240101'], positions = 100, period = 1, fees = 0)"
   ]
  },
  {
   "cell_type": "code",
   "execution_count": 87,
   "id": "0cb3cbf7-1859-4eae-bc81-6641637006cd",
   "metadata": {},
   "outputs": [],
   "source": [
    "#Gpalpha002 add(amt_score0, roc15) 6.013\n",
    "factor = add(rcread('amt_score0'),rcread('roc15'))\n",
    "ff.save('Gpalpha002',factor)\n",
    "# ff.run((factor)*ff.filter0.loc[:,'20200101':'20240101'], positions = 100, period = 1, fees = 0)"
   ]
  },
  {
   "cell_type": "code",
   "execution_count": 88,
   "id": "ede8a4d7-d634-4e88-ab27-c74ea3e83a8f",
   "metadata": {},
   "outputs": [],
   "source": [
    "#Gpalpha003 add(amt_score1, div(bias15, closer)) 6.449\n",
    "factor = add(rcread('amt_score1'), div(rcread('bias15'), rcread('closer')))\n",
    "ff.save('Gpalpha003',factor)\n",
    "# ff.run((factor)*ff.filter0.loc[:,'20200101':'20240101'], positions = 100, period = 1, fees = 0)"
   ]
  },
  {
   "cell_type": "code",
   "execution_count": 89,
   "id": "0b50ea08-57ad-451d-afed-b62284b5a2da",
   "metadata": {},
   "outputs": [],
   "source": [
    "#Gpalpha004 add(add(roc15, rtn_condVaR), inv(nhigh120)) 5.578\n",
    "factor = add(add(rcread('roc15'), rcread('rtn_condVaR')), inv(rcread('nhigh120')))\n",
    "ff.save('Gpalpha004',factor)\n",
    "# ff.run((factor)*ff.filter0.loc[:,'20200101':'20240101'], positions = 100, period = 1, fees = 0)"
   ]
  },
  {
   "cell_type": "code",
   "execution_count": 90,
   "id": "43c32b51-5311-481e-9904-d7a04b62b4f4",
   "metadata": {},
   "outputs": [],
   "source": [
    "#Gpalpha005 add(add(draw30, UTD20), sub(roc15, hcret)) 8.153\t\n",
    "factor = add(add(rcread('draw30'), rcread('UTD20')), sub(rcread('roc15'), rcread('hcret')))\n",
    "ff.save('Gpalpha005',factor)\n",
    "# ff.run(factor*ff.filter0.loc[:,'20200101':'20240101'], positions = 100, period = 1, fees = 0)"
   ]
  },
  {
   "cell_type": "code",
   "execution_count": 91,
   "id": "8769de60-c989-492f-a0e1-f0bb62218a21",
   "metadata": {},
   "outputs": [],
   "source": [
    "#Gpalpha006 add(add(bias15, add(nlow20, SRV)), UTD20) 6.912\n",
    "factor = add(add(rcread('bias15'), add(rcread('nlow20'), rcread('SRV'))), rcread('UTD20'))\n",
    "ff.save('Gpalpha006',factor)\n",
    "# ff.run(factor*ff.filter0.loc[:,'2020101':'20240101'], positions = 100, period = 1, fees = 0)"
   ]
  },
  {
   "cell_type": "code",
   "execution_count": 92,
   "id": "4e7de515-bc2f-4303-99d5-df5ae7fe0617",
   "metadata": {},
   "outputs": [],
   "source": [
    "#Gpalpha007 add(add(SPS, roc60), draw15) 7.296\n",
    "factor = add(add(rcread('SPS'), rcread('roc60')), rcread('draw15'))\n",
    "ff.save('Gpalpha007',factor)\n",
    "# ff.run(factor*ff.filter0.loc[:,'20200101':'20240101'], positions = 100, period = 1, fees = 0)"
   ]
  },
  {
   "cell_type": "code",
   "execution_count": 93,
   "id": "69bf56b5-2fbc-4cfe-b051-af6ad3c2e7b1",
   "metadata": {},
   "outputs": [],
   "source": [
    "#Gpalpha008 add(bias15, turnover_rate_proportion_l) 6.369\n",
    "factor = add(rcread('bias15'), rcread('turnover_rate_proportion_l'))\n",
    "ff.save('Gpalpha008',factor)\n",
    "# ff.run(factor*ff.filter0.loc[:,'20200101':'20240101'], positions = 100, period = 1, fees = 0)"
   ]
  },
  {
   "cell_type": "code",
   "execution_count": 94,
   "id": "1e4606e8-c430-424d-b3d7-871d9d147527",
   "metadata": {},
   "outputs": [],
   "source": [
    "# #add(bias15, div(amt_score0, sqrt(buy_sm_amount))) 5.149\t\n",
    "# factor = add(rcread('bias15'), div(rcread('amt_score0'), sqrt(rcread('buy_sm_amount'))))\n",
    "# # ff.run(factor*ff.filter0.loc[:,'20200101':'20240101'], positions = 100, period = 1, fees = 0)"
   ]
  },
  {
   "cell_type": "code",
   "execution_count": 95,
   "id": "fcefa9c3-c124-4316-83e1-c21ffbec0714",
   "metadata": {},
   "outputs": [],
   "source": [
    "#Gpalpha009 add(add(turnover_rate_proportion_l, roc15), sqrt(amt_score0)) 5.322\t\n",
    "factor = add(add(rcread('turnover_rate_proportion_l'), rcread('roc15')), sqrt(rcread('amt_score0')))\n",
    "ff.save('Gpalpha009',factor)\n",
    "# ff.run(factor*ff.filter0.loc[:,'20200101':'20240101'], positions = 100, period = 1, fees = 0)"
   ]
  },
  {
   "cell_type": "code",
   "execution_count": 96,
   "id": "92b7afec-606e-447c-9f4a-d004e63846ff",
   "metadata": {},
   "outputs": [],
   "source": [
    "#Gpalpha010 div(div(tailrets1, tailrets0), lowr) 6.781\n",
    "factor = div(div(rcread('tailrets1'), rcread('tailrets0')), rcread('lowr'))\n",
    "factor = pd.DataFrame(factor,index= ff.read('ll60').index,columns=ff.read('turnover').loc[:,'20200102':'20240101'].columns)\n",
    "ff.save('Gpalpha010',factor)\n",
    "# ff.run(factor*ff.filter0.loc[ff.read('ll60').index,'20200101':'20240101'], positions = 100, period = 1, fees = 0)"
   ]
  },
  {
   "cell_type": "code",
   "execution_count": 97,
   "id": "fbad6247-6901-4058-a782-f1672fdbda8a",
   "metadata": {},
   "outputs": [],
   "source": [
    "# #add(sub(up_plus_down_KURS, IntraDayMom20), bias30) 4.736\n",
    "# factor = add(sub(rcread('up_plus_down_KURS'), rcread('IntraDayMom20')), rcread('bias30'))\n",
    "# ff.run(factor*ff.filter0.loc[:,'20200101':'20240101'], positions = 100, period = 1, fees = 0)"
   ]
  },
  {
   "cell_type": "code",
   "execution_count": 98,
   "id": "575ea5fd-2e05-4dbc-a6d2-53b0a242e143",
   "metadata": {},
   "outputs": [],
   "source": [
    "# #div(add(draw15, add(ll30, bias15)), add(high_fre_absdiff_vol, nl_mom))\n",
    "# factor = div(add(rcread('draw15'), add(rcread('ll30'), rcread('bias15'))), add(rcread('high_fre_absdiff_vol'), rcread('nl_mom')))\n",
    "# ff.run(factor*ff.filter0.loc[ff.read('ll60').index,'20200101':'20240101'], positions = 100, period = 1, fees = 0)"
   ]
  },
  {
   "cell_type": "code",
   "execution_count": 131,
   "id": "90b8549b-1cfb-477e-b4a3-a03a519024f9",
   "metadata": {},
   "outputs": [],
   "source": [
    "list = []\n",
    "for i in range(15):\n",
    "    if i < 9:\n",
    "        list.append('Gpalpha' + '00' + str(i+1))\n",
    "    else:\n",
    "        list.append('Gpalpha' + '0' + str(i+1))"
   ]
  },
  {
   "cell_type": "code",
   "execution_count": 133,
   "id": "3c62f44b-a8d6-4bee-ab19-07ad6c713bd8",
   "metadata": {},
   "outputs": [],
   "source": [
    "Gpalpha_factor = ['Gpalpha001','Gpalpha002','Gpalpha003','Gpalpha004','Gpalpha005','Gpalpha006','Gpalpha007','Gpalpha008','Gpalpha009','Gpalpha010','Gpalpha011','Gpalpha012','Gpalpha013','Gpalpha014','Gpalpha015']"
   ]
  },
  {
   "cell_type": "code",
   "execution_count": null,
   "id": "1a4ba9d0-1df5-45ad-a3c7-1a2824bc8f5f",
   "metadata": {},
   "outputs": [],
   "source": []
  }
 ],
 "metadata": {
  "kernelspec": {
   "display_name": "Python 3 (ipykernel)",
   "language": "python",
   "name": "python3"
  },
  "language_info": {
   "codemirror_mode": {
    "name": "ipython",
    "version": 3
   },
   "file_extension": ".py",
   "mimetype": "text/x-python",
   "name": "python",
   "nbconvert_exporter": "python",
   "pygments_lexer": "ipython3",
   "version": "3.9.16"
  }
 },
 "nbformat": 4,
 "nbformat_minor": 5
}
