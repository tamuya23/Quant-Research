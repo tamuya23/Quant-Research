{
 "cells": [
  {
   "cell_type": "code",
   "execution_count": 1,
   "id": "d59c7f99-2318-4ec5-94fb-8809e0fe5cb7",
   "metadata": {},
   "outputs": [],
   "source": [
    "import sys\n",
    "sys.path.append('/home/wangs/rs/lib')\n",
    "import ff\n",
    "import pickle\n",
    "import numpy as np\n",
    "import pandas as pd\n",
    "import seaborn as sns\n",
    "import matplotlib.pyplot as plt\n",
    "sns.set_style(\"whitegrid\")\n",
    "sns.set_palette(\"pastel\")\n",
    "from multiprocessing import Pool\n",
    "from tqdm import tqdm\n",
    "import statsmodels.api as sm\n",
    "from datetime import datetime\n",
    "import mplfinance as mpf\n",
    "from functools import partial"
   ]
  },
  {
   "cell_type": "code",
   "execution_count": 12,
   "id": "40a9f47a-8404-429e-8b49-04d0c42fa031",
   "metadata": {},
   "outputs": [],
   "source": [
    "filter_first_up = ((ff.read('up').shift(1,axis = 1).replace({1:0,np.nan:1})) * ff.read('up')).replace({0:np.nan})*ff.filter0\n",
    "filtered_index = filter_first_up.index.str.startswith('300') | filter_first_up.index.str.startswith('688') | filter_first_up.index.str.endswith('BJ')\n",
    "filter_first_up.loc[filtered_index,:] = np.nan\n",
    "filter_first_up = filter_first_up.loc[:,'20200102':'20240305']"
   ]
  },
  {
   "cell_type": "code",
   "execution_count": 34,
   "id": "44b46bbf-0586-4a8f-8e65-875f7640121d",
   "metadata": {},
   "outputs": [
    {
     "data": {
      "text/plain": [
       "20200102    39.0\n",
       "20200103    26.0\n",
       "20200106    42.0\n",
       "20200107    36.0\n",
       "20200108    23.0\n",
       "            ... \n",
       "20240228    14.0\n",
       "20240229    79.0\n",
       "20240301    35.0\n",
       "20240304    54.0\n",
       "20240305    31.0\n",
       "Length: 1010, dtype: float64"
      ]
     },
     "execution_count": 34,
     "metadata": {},
     "output_type": "execute_result"
    }
   ],
   "source": [
    "filter_first_up.sum()"
   ]
  },
  {
   "cell_type": "code",
   "execution_count": 32,
   "id": "94b11d65-8544-4d94-aeeb-2f5a8873ab4a",
   "metadata": {},
   "outputs": [
    {
     "name": "stderr",
     "output_type": "stream",
     "text": [
      "100%|█████████████████████████████████████████████████████████████████████████████████████████████| 39/39 [00:52<00:00,  1.34s/it]\n"
     ]
    }
   ],
   "source": [
    "day = '20200102'    \n",
    "stock_ret_list = []\n",
    "for i in range(len(filter_first_up.loc[:,day].dropna().index)):\n",
    "    stock = filter_first_up.loc[:,day].dropna().index[i]\n",
    "    a = (ff.read_min(stock).iloc[:,1]/ff.read_min(stock).iloc[:,1].shift(1)-1).fillna(0) #计算出每一分钟的收益率\n",
    "    formatted_date_list = [dt.strftime('%Y%m%d') for dt in pd.to_datetime(a.index)] #生成所有的分钟时间index\n",
    "    time_start = formatted_date_list.index(day) \n",
    "    stock_ret_list.append(a.iloc[time_start+240:time_start+1440].values)#筛选每支股票首次涨停的1200行数据"
   ]
  },
  {
   "cell_type": "code",
   "execution_count": 35,
   "id": "a80fd8c3-dba8-4649-968d-9ce24df50f55",
   "metadata": {},
   "outputs": [
    {
     "data": {
      "text/plain": [
       "range(0, 39)"
      ]
     },
     "execution_count": 35,
     "metadata": {},
     "output_type": "execute_result"
    }
   ],
   "source": [
    " range(len(filter_first_up.loc[:,day].dropna().index))"
   ]
  },
  {
   "cell_type": "code",
   "execution_count": 36,
   "id": "93244c12-64da-4863-9728-ef2fc0c5350b",
   "metadata": {},
   "outputs": [
    {
     "data": {
      "text/plain": [
       "'603987.SH'"
      ]
     },
     "execution_count": 36,
     "metadata": {},
     "output_type": "execute_result"
    }
   ],
   "source": [
    "filter_first_up.loc[:,day].dropna().index[i]"
   ]
  },
  {
   "cell_type": "code",
   "execution_count": 40,
   "id": "d92cea9e-33ce-4f35-9fc4-6a4a2d06ac9f",
   "metadata": {},
   "outputs": [],
   "source": [
    "stock = filter_first_up.loc[:,day].dropna().index[0]"
   ]
  },
  {
   "cell_type": "code",
   "execution_count": 46,
   "id": "ffb7db45-bb0c-466e-a8da-0410019808a7",
   "metadata": {},
   "outputs": [
    {
     "data": {
      "text/plain": [
       "2020-01-02 09:31:00    0.000000\n",
       "2020-01-02 09:32:00   -0.005636\n",
       "2020-01-02 09:33:00    0.002429\n",
       "2020-01-02 09:34:00    0.000000\n",
       "2020-01-02 09:35:00    0.001616\n",
       "                         ...   \n",
       "2024-03-15 14:56:00    0.000000\n",
       "2024-03-15 14:57:00   -0.000841\n",
       "2024-03-15 14:58:00    0.000000\n",
       "2024-03-15 14:59:00    0.000000\n",
       "2024-03-15 15:00:00    0.001684\n",
       "Name: close, Length: 244320, dtype: float64"
      ]
     },
     "execution_count": 46,
     "metadata": {},
     "output_type": "execute_result"
    }
   ],
   "source": [
    "(ff.read_min(stock).iloc[:,1]/ff.read_min(stock).iloc[:,1].shift(1)-1).fillna(0)"
   ]
  },
  {
   "cell_type": "code",
   "execution_count": 47,
   "id": "50382826-00c8-4e4a-9323-1dd8f5b66a14",
   "metadata": {},
   "outputs": [
    {
     "data": {
      "text/plain": [
       "array([ 0.        , -0.00563607,  0.00242915, ...,  0.        ,\n",
       "        0.        ,  0.00068493])"
      ]
     },
     "execution_count": 47,
     "metadata": {},
     "output_type": "execute_result"
    }
   ],
   "source": [
    "formatted_date_list = [dt.strftime('%Y%m%d') for dt in pd.to_datetime(a.index)] #生成所有的分钟时间index\n",
    "time_start = formatted_date_list.index(day) \n",
    "a.iloc[time_start:time_start+1440].values"
   ]
  },
  {
   "cell_type": "code",
   "execution_count": 43,
   "id": "c68a691b-769f-454f-91ec-0ed190cb0893",
   "metadata": {},
   "outputs": [
    {
     "data": {
      "text/plain": [
       "0"
      ]
     },
     "execution_count": 43,
     "metadata": {},
     "output_type": "execute_result"
    }
   ],
   "source": [
    "time_start"
   ]
  },
  {
   "cell_type": "code",
   "execution_count": 135,
   "id": "80f39d40-5ce2-4e8d-9cb9-1047276aa0e0",
   "metadata": {},
   "outputs": [],
   "source": [
    "def stock_ret_mean(i):\n",
    "    day = filter_first_up.columns[i]\n",
    "    stock_ret_list = []\n",
    "    for i in range(len(filter_first_up.loc[:,day].dropna().index)):\n",
    "        stock = filter_first_up.loc[:,day].dropna().index[i]\n",
    "        formatted_date_list = [dt.strftime('%Y%m%d') for dt in pd.to_datetime(ff.read_min(stock).index)] #生成所有的分钟时间index\n",
    "        time_start = formatted_date_list.index(day) \n",
    "        stock_ret_list.append((ff.read_min(stock).iloc[time_start+240:time_start+1440,1]/ff.read_min(stock).iloc[time_start+239,1]).values)\n",
    "    ret_aver = np.mean(stock_ret_list, axis=0)\n",
    "    return ret_aver"
   ]
  },
  {
   "cell_type": "code",
   "execution_count": 59,
   "id": "6fb89aa6-8b03-4017-8ddf-d4e7a329cc35",
   "metadata": {},
   "outputs": [
    {
     "data": {
      "text/plain": [
       "array([ 1.63300035e-02,  8.09190974e-04, -3.12590973e-04, ...,\n",
       "        3.26908530e-05,  0.00000000e+00, -5.45483177e-05])"
      ]
     },
     "execution_count": 59,
     "metadata": {},
     "output_type": "execute_result"
    }
   ],
   "source": [
    "np.mean(ret_mean,axis = 0)"
   ]
  },
  {
   "cell_type": "code",
   "execution_count": 94,
   "id": "63511dc9-6c41-4743-b2bb-46d4e60aa781",
   "metadata": {},
   "outputs": [
    {
     "name": "stdout",
     "output_type": "stream",
     "text": [
      "0.016821566095989816\n"
     ]
    },
    {
     "data": {
      "image/png": "[encoded data removed]",
      "text/plain": [
       "<Figure size 640x480 with 1 Axes>"
      ]
     },
     "metadata": {},
     "output_type": "display_data"
    }
   ],
   "source": [
    "plt.plot(np.mean(ret_mean,axis = 0).cumsum())\n",
    "print(np.mean(ret_mean,axis = 0).cumsum()[239])"
   ]
  },
  {
   "cell_type": "code",
   "execution_count": 15,
   "id": "ac919860-c159-4f70-98d8-4586451041c2",
   "metadata": {},
   "outputs": [],
   "source": [
    "def daily_K_line(event,n,open,close,high,low):\n",
    "    # 日均事件K线\n",
    "    T0open=event*open  # 以T0open作为基准\n",
    "    pre_close = event * close.shift(axis = 1)\n",
    "    data=pd.DataFrame(columns=['T'+str(j) for j in range(n)])\n",
    "    for j in range(n):\n",
    "        _open=(event*open.shift(-j,axis=1))/T0open\n",
    "        _close=(event*close.shift(-j,axis=1))/pre_close\n",
    "        _low=(event*low.shift(-j,axis=1))/T0open\n",
    "        _high=(event*high.shift(-j,axis=1))/pre_close\n",
    "        lst=[_open.mean().mean(),_close.mean().mean(),_low.mean().mean(),_high.mean().mean()]\n",
    "        data['T'+str(j)]=lst\n",
    "    data.index=['open','close','low','high']\n",
    "    data=data.T\n",
    "    data.index=pd.to_datetime(['20200101','20200102','20200103','20200104','20200105'])\n",
    "    print(data)\n",
    "    mpf.plot(data,type='candle',style='default')\n",
    "    return data"
   ]
  },
  {
   "cell_type": "code",
   "execution_count": 17,
   "id": "dfb66abd-51c9-472a-9cb2-f0badf13440b",
   "metadata": {},
   "outputs": [
    {
     "name": "stdout",
     "output_type": "stream",
     "text": [
      "                open     close       low      high\n",
      "2020-01-01  1.000000  1.143790  0.988383  1.177668\n",
      "2020-01-02  1.110025  1.133157  1.070276  1.182922\n",
      "2020-01-03  1.110861  1.132059  1.073035  1.180442\n",
      "2020-01-04  1.112609  1.133004  1.074955  1.179737\n",
      "2020-01-05  1.112397  1.133071  1.075761  1.177287\n"
     ]
    },
    {
     "data": {
      "image/png": "[encoded data removed]",
      "text/plain": [
       "<Figure size 800x575 with 2 Axes>"
      ]
     },
     "metadata": {},
     "output_type": "display_data"
    },
    {
     "data": {
      "text/html": [
       "<div>\n",
       "<style scoped>\n",
       "    .dataframe tbody tr th:only-of-type {\n",
       "        vertical-align: middle;\n",
       "    }\n",
       "\n",
       "    .dataframe tbody tr th {\n",
       "        vertical-align: top;\n",
       "    }\n",
       "\n",
       "    .dataframe thead th {\n",
       "        text-align: right;\n",
       "    }\n",
       "</style>\n",
       "<table border=\"1\" class=\"dataframe\">\n",
       "  <thead>\n",
       "    <tr style=\"text-align: right;\">\n",
       "      <th></th>\n",
       "      <th>open</th>\n",
       "      <th>close</th>\n",
       "      <th>low</th>\n",
       "      <th>high</th>\n",
       "    </tr>\n",
       "  </thead>\n",
       "  <tbody>\n",
       "    <tr>\n",
       "      <th>2020-01-01</th>\n",
       "      <td>1.000000</td>\n",
       "      <td>1.143790</td>\n",
       "      <td>0.988383</td>\n",
       "      <td>1.177668</td>\n",
       "    </tr>\n",
       "    <tr>\n",
       "      <th>2020-01-02</th>\n",
       "      <td>1.110025</td>\n",
       "      <td>1.133157</td>\n",
       "      <td>1.070276</td>\n",
       "      <td>1.182922</td>\n",
       "    </tr>\n",
       "    <tr>\n",
       "      <th>2020-01-03</th>\n",
       "      <td>1.110861</td>\n",
       "      <td>1.132059</td>\n",
       "      <td>1.073035</td>\n",
       "      <td>1.180442</td>\n",
       "    </tr>\n",
       "    <tr>\n",
       "      <th>2020-01-04</th>\n",
       "      <td>1.112609</td>\n",
       "      <td>1.133004</td>\n",
       "      <td>1.074955</td>\n",
       "      <td>1.179737</td>\n",
       "    </tr>\n",
       "    <tr>\n",
       "      <th>2020-01-05</th>\n",
       "      <td>1.112397</td>\n",
       "      <td>1.133071</td>\n",
       "      <td>1.075761</td>\n",
       "      <td>1.177287</td>\n",
       "    </tr>\n",
       "  </tbody>\n",
       "</table>\n",
       "</div>"
      ],
      "text/plain": [
       "                open     close       low      high\n",
       "2020-01-01  1.000000  1.143790  0.988383  1.177668\n",
       "2020-01-02  1.110025  1.133157  1.070276  1.182922\n",
       "2020-01-03  1.110861  1.132059  1.073035  1.180442\n",
       "2020-01-04  1.112609  1.133004  1.074955  1.179737\n",
       "2020-01-05  1.112397  1.133071  1.075761  1.177287"
      ]
     },
     "execution_count": 17,
     "metadata": {},
     "output_type": "execute_result"
    }
   ],
   "source": [
    "open = ff.read('open')*ff.read('post').loc[:,'20200102':]\n",
    "close = ff.read('close')*ff.read('post').loc[:,'20200102':]\n",
    "high = ff.read('high')*ff.read('post').loc[:,'20200102':]\n",
    "low = ff.read('low')*ff.read('post').loc[:,'20200102':]\n",
    "daily_K_line(filter_first_up,5,open,close,high,low)"
   ]
  },
  {
   "cell_type": "code",
   "execution_count": 70,
   "id": "c4db30a1-eefb-4013-bc05-aae047dc3238",
   "metadata": {},
   "outputs": [
    {
     "data": {
      "text/plain": [
       "array([0.03232854, 0.03066309, 0.02995115, ..., 0.06266878, 0.06266878,\n",
       "       0.06294887])"
      ]
     },
     "execution_count": 70,
     "metadata": {},
     "output_type": "execute_result"
    }
   ],
   "source": [
    "stock_ret_mean(0).cumsum()"
   ]
  },
  {
   "cell_type": "code",
   "execution_count": 134,
   "id": "0f32eefa-1790-4c32-aae1-1569f2a0a2e3",
   "metadata": {},
   "outputs": [
    {
     "data": {
      "text/plain": [
       "array([1.0567602 , 1.04528061, 1.04464286, ..., 0.94897959, 0.94897959,\n",
       "       0.94961735])"
      ]
     },
     "execution_count": 134,
     "metadata": {},
     "output_type": "execute_result"
    }
   ],
   "source": [
    "day = '20200706'\n",
    "stock_ret_list = []\n",
    "# for i in range(len(filter_first_up.loc[:,day].dropna().index)):\n",
    "#     stock = filter_first_up.loc[:,day].dropna().index[i]\n",
    "stock = '000001.SZ'\n",
    "formatted_date_list = [dt.strftime('%Y%m%d') for dt in pd.to_datetime(ff.read_min('000001.SZ').index)] #生成所有的分钟时间index\n",
    "time_start = formatted_date_list.index(day) \n",
    "a = (ff.read_min('000001.SZ').iloc[time_start+240:time_start+1440,1]/ff.read_min('000001.SZ').iloc[time_start+239,1]).values"
   ]
  },
  {
   "cell_type": "code",
   "execution_count": 118,
   "id": "8423ce7e-0761-46e1-89e2-7f44cf806122",
   "metadata": {},
   "outputs": [
    {
     "data": {
      "text/html": [
       "<div>\n",
       "<style scoped>\n",
       "    .dataframe tbody tr th:only-of-type {\n",
       "        vertical-align: middle;\n",
       "    }\n",
       "\n",
       "    .dataframe tbody tr th {\n",
       "        vertical-align: top;\n",
       "    }\n",
       "\n",
       "    .dataframe thead th {\n",
       "        text-align: right;\n",
       "    }\n",
       "</style>\n",
       "<table border=\"1\" class=\"dataframe\">\n",
       "  <thead>\n",
       "    <tr style=\"text-align: right;\">\n",
       "      <th></th>\n",
       "      <th>open</th>\n",
       "      <th>close</th>\n",
       "      <th>low</th>\n",
       "      <th>high</th>\n",
       "      <th>volume</th>\n",
       "      <th>money</th>\n",
       "      <th>high_limit</th>\n",
       "      <th>low_limit</th>\n",
       "      <th>paused</th>\n",
       "    </tr>\n",
       "  </thead>\n",
       "  <tbody>\n",
       "    <tr>\n",
       "      <th>2020-07-06 15:00:00</th>\n",
       "      <td>15.68</td>\n",
       "      <td>15.68</td>\n",
       "      <td>15.68</td>\n",
       "      <td>15.68</td>\n",
       "      <td>1271560.0</td>\n",
       "      <td>19938060.0</td>\n",
       "      <td>15.68</td>\n",
       "      <td>12.83</td>\n",
       "      <td>0.0</td>\n",
       "    </tr>\n",
       "    <tr>\n",
       "      <th>2020-07-07 09:31:00</th>\n",
       "      <td>16.30</td>\n",
       "      <td>16.57</td>\n",
       "      <td>16.21</td>\n",
       "      <td>16.57</td>\n",
       "      <td>30759422.0</td>\n",
       "      <td>502721874.0</td>\n",
       "      <td>17.25</td>\n",
       "      <td>14.11</td>\n",
       "      <td>0.0</td>\n",
       "    </tr>\n",
       "    <tr>\n",
       "      <th>2020-07-07 09:32:00</th>\n",
       "      <td>16.52</td>\n",
       "      <td>16.39</td>\n",
       "      <td>16.39</td>\n",
       "      <td>16.63</td>\n",
       "      <td>14647685.0</td>\n",
       "      <td>241879861.0</td>\n",
       "      <td>17.25</td>\n",
       "      <td>14.11</td>\n",
       "      <td>0.0</td>\n",
       "    </tr>\n",
       "    <tr>\n",
       "      <th>2020-07-07 09:33:00</th>\n",
       "      <td>16.37</td>\n",
       "      <td>16.38</td>\n",
       "      <td>16.30</td>\n",
       "      <td>16.38</td>\n",
       "      <td>8756139.0</td>\n",
       "      <td>143001739.0</td>\n",
       "      <td>17.25</td>\n",
       "      <td>14.11</td>\n",
       "      <td>0.0</td>\n",
       "    </tr>\n",
       "    <tr>\n",
       "      <th>2020-07-07 09:34:00</th>\n",
       "      <td>16.35</td>\n",
       "      <td>16.40</td>\n",
       "      <td>16.35</td>\n",
       "      <td>16.50</td>\n",
       "      <td>10467274.0</td>\n",
       "      <td>172005600.0</td>\n",
       "      <td>17.25</td>\n",
       "      <td>14.11</td>\n",
       "      <td>0.0</td>\n",
       "    </tr>\n",
       "    <tr>\n",
       "      <th>...</th>\n",
       "      <td>...</td>\n",
       "      <td>...</td>\n",
       "      <td>...</td>\n",
       "      <td>...</td>\n",
       "      <td>...</td>\n",
       "      <td>...</td>\n",
       "      <td>...</td>\n",
       "      <td>...</td>\n",
       "      <td>...</td>\n",
       "    </tr>\n",
       "    <tr>\n",
       "      <th>2020-07-13 14:56:00</th>\n",
       "      <td>14.87</td>\n",
       "      <td>14.88</td>\n",
       "      <td>14.86</td>\n",
       "      <td>14.88</td>\n",
       "      <td>745764.0</td>\n",
       "      <td>11092055.0</td>\n",
       "      <td>16.35</td>\n",
       "      <td>13.37</td>\n",
       "      <td>0.0</td>\n",
       "    </tr>\n",
       "    <tr>\n",
       "      <th>2020-07-13 14:57:00</th>\n",
       "      <td>14.88</td>\n",
       "      <td>14.88</td>\n",
       "      <td>14.87</td>\n",
       "      <td>14.89</td>\n",
       "      <td>803100.0</td>\n",
       "      <td>11949488.0</td>\n",
       "      <td>16.35</td>\n",
       "      <td>13.37</td>\n",
       "      <td>0.0</td>\n",
       "    </tr>\n",
       "    <tr>\n",
       "      <th>2020-07-13 14:58:00</th>\n",
       "      <td>14.88</td>\n",
       "      <td>14.88</td>\n",
       "      <td>14.88</td>\n",
       "      <td>14.88</td>\n",
       "      <td>27500.0</td>\n",
       "      <td>409275.0</td>\n",
       "      <td>16.35</td>\n",
       "      <td>13.37</td>\n",
       "      <td>0.0</td>\n",
       "    </tr>\n",
       "    <tr>\n",
       "      <th>2020-07-13 14:59:00</th>\n",
       "      <td>14.88</td>\n",
       "      <td>14.88</td>\n",
       "      <td>14.88</td>\n",
       "      <td>14.88</td>\n",
       "      <td>0.0</td>\n",
       "      <td>0.0</td>\n",
       "      <td>16.35</td>\n",
       "      <td>13.37</td>\n",
       "      <td>0.0</td>\n",
       "    </tr>\n",
       "    <tr>\n",
       "      <th>2020-07-13 15:00:00</th>\n",
       "      <td>14.89</td>\n",
       "      <td>14.89</td>\n",
       "      <td>14.89</td>\n",
       "      <td>14.89</td>\n",
       "      <td>1991790.0</td>\n",
       "      <td>29657753.0</td>\n",
       "      <td>16.35</td>\n",
       "      <td>13.37</td>\n",
       "      <td>0.0</td>\n",
       "    </tr>\n",
       "  </tbody>\n",
       "</table>\n",
       "<p>1201 rows × 9 columns</p>\n",
       "</div>"
      ],
      "text/plain": [
       "                      open  close    low   high      volume        money  \\\n",
       "2020-07-06 15:00:00  15.68  15.68  15.68  15.68   1271560.0   19938060.0   \n",
       "2020-07-07 09:31:00  16.30  16.57  16.21  16.57  30759422.0  502721874.0   \n",
       "2020-07-07 09:32:00  16.52  16.39  16.39  16.63  14647685.0  241879861.0   \n",
       "2020-07-07 09:33:00  16.37  16.38  16.30  16.38   8756139.0  143001739.0   \n",
       "2020-07-07 09:34:00  16.35  16.40  16.35  16.50  10467274.0  172005600.0   \n",
       "...                    ...    ...    ...    ...         ...          ...   \n",
       "2020-07-13 14:56:00  14.87  14.88  14.86  14.88    745764.0   11092055.0   \n",
       "2020-07-13 14:57:00  14.88  14.88  14.87  14.89    803100.0   11949488.0   \n",
       "2020-07-13 14:58:00  14.88  14.88  14.88  14.88     27500.0     409275.0   \n",
       "2020-07-13 14:59:00  14.88  14.88  14.88  14.88         0.0          0.0   \n",
       "2020-07-13 15:00:00  14.89  14.89  14.89  14.89   1991790.0   29657753.0   \n",
       "\n",
       "                     high_limit  low_limit  paused  \n",
       "2020-07-06 15:00:00       15.68      12.83     0.0  \n",
       "2020-07-07 09:31:00       17.25      14.11     0.0  \n",
       "2020-07-07 09:32:00       17.25      14.11     0.0  \n",
       "2020-07-07 09:33:00       17.25      14.11     0.0  \n",
       "2020-07-07 09:34:00       17.25      14.11     0.0  \n",
       "...                         ...        ...     ...  \n",
       "2020-07-13 14:56:00       16.35      13.37     0.0  \n",
       "2020-07-13 14:57:00       16.35      13.37     0.0  \n",
       "2020-07-13 14:58:00       16.35      13.37     0.0  \n",
       "2020-07-13 14:59:00       16.35      13.37     0.0  \n",
       "2020-07-13 15:00:00       16.35      13.37     0.0  \n",
       "\n",
       "[1201 rows x 9 columns]"
      ]
     },
     "execution_count": 118,
     "metadata": {},
     "output_type": "execute_result"
    }
   ],
   "source": [
    "ff.read_min(stock).iloc[time_start+239:time_start+1440]"
   ]
  },
  {
   "cell_type": "code",
   "execution_count": 299,
   "id": "edcd58fd-235a-4577-9021-242ef020e580",
   "metadata": {},
   "outputs": [],
   "source": [
    "filter_st_up = ((ff.read('up_limit')*ff.read('post')/(ff.read('close')*ff.read('post')).shift(axis = 1)-1)<0.055).replace({True:1,False:np.nan}) * ff.if_new * ff.if_trade\n",
    "filter_st_down = ((ff.read('close')*ff.read('post')/(ff.read('close')*ff.read('post')).shift(axis = 1)-1)>0.049).replace({True:1,False:np.nan}) * ff.if_new * ff.if_trade\n",
    "filter_st = filter_st_up * filter_st_down # st股票涨停日期矩阵"
   ]
  },
  {
   "cell_type": "code",
   "execution_count": 301,
   "id": "5c87382c-0ad5-4ce0-9a84-21daa5f1a40f",
   "metadata": {},
   "outputs": [],
   "source": [
    "filter_first_up = ((filter_st.shift(-1,axis = 1).replace({1:0,np.nan:1})) * filter_st).replace({0:np.nan})\n",
    "filter_first_up = ((filter_first_st.shift(1,axis = 1).replace({1:0,np.nan:1})) * filter_first_up).replace({0:np.nan})\n",
    "filter_first_up = filter_first_up.loc[:,'20200102':'20240305']"
   ]
  },
  {
   "cell_type": "code",
   "execution_count": 13,
   "id": "f706e9bb-8279-455c-9165-fc83af175030",
   "metadata": {},
   "outputs": [],
   "source": [
    "def stock_ret_mean(i):\n",
    "    day = filter_first_up.columns[i]\n",
    "    stock_ret_list = []\n",
    "    for i in range(len(filter_first_up.loc[:,day].dropna().index)):\n",
    "        if len(filter_first_up.loc[:,day].dropna().index) == 0:\n",
    "            pass\n",
    "        stock = filter_first_up.loc[:,day].dropna().index[i]\n",
    "        formatted_date_list = [dt.strftime('%Y%m%d') for dt in pd.to_datetime(ff.read_min(stock).index)] #生成所有的分钟时间index\n",
    "        time_start = formatted_date_list.index(day) \n",
    "        stock_ret_list.append((ff.read_min(stock).iloc[time_start+240:time_start+1440,1]/ff.read_min(stock).iloc[time_start+239,1]).values)\n",
    "    ret_aver = np.mean(stock_ret_list, axis=0)\n",
    "    return ret_aver"
   ]
  },
  {
   "cell_type": "code",
   "execution_count": 304,
   "id": "f049919b-556e-44f4-9e37-76578a6b5818",
   "metadata": {},
   "outputs": [
    {
     "name": "stderr",
     "output_type": "stream",
     "text": [
      "100%|█████████████████████████████████████████████████████████████████████████████████████████| 1010/1010 [03:08<00:00,  5.35it/s]\n"
     ]
    }
   ],
   "source": [
    "ret_st_mean = []\n",
    "with Pool(48) as p:\n",
    "    ret_st_mean = list(tqdm(p.imap(stock_ret_mean, range(len(filter_first_up.columns))), total=len(filter_first_up.columns)))"
   ]
  },
  {
   "cell_type": "code",
   "execution_count": 309,
   "id": "e68288ee-7d19-43d6-b347-0c5e800e7e45",
   "metadata": {},
   "outputs": [],
   "source": [
    "mean_without_nan = [arr[~np.isnan(arr)] for arr in ret_st_mean]\n",
    "mean_without_nan = [arr for arr in mean_without_nan if len(arr) > 0]"
   ]
  },
  {
   "cell_type": "code",
   "execution_count": 311,
   "id": "ee28da8c-38b1-4cb9-83b1-abf36ba40bc9",
   "metadata": {
    "scrolled": true
   },
   "outputs": [],
   "source": [
    "mean = np.mean(mean_without_nan,axis = 0)"
   ]
  },
  {
   "cell_type": "code",
   "execution_count": 313,
   "id": "8a5a2f32-f77a-4df2-baa3-019140c7bcb1",
   "metadata": {},
   "outputs": [
    {
     "data": {
      "text/plain": [
       "[<matplotlib.lines.Line2D at 0x7f79704587f0>]"
      ]
     },
     "execution_count": 313,
     "metadata": {},
     "output_type": "execute_result"
    },
    {
     "data": {
      "image/png": "[encoded data removed]",
      "text/plain": [
       "<Figure size 640x480 with 1 Axes>"
      ]
     },
     "metadata": {},
     "output_type": "display_data"
    }
   ],
   "source": [
    "plt.plot(mean)"
   ]
  },
  {
   "cell_type": "code",
   "execution_count": 303,
   "id": "9ca91f2d-5085-487c-9463-af622f257383",
   "metadata": {
    "collapsed": true,
    "jupyter": {
     "outputs_hidden": true
    }
   },
   "outputs": [
    {
     "name": "stdout",
     "output_type": "stream",
     "text": [
      "                open     close       low      high\n",
      "2020-01-01  1.000000  1.050427  0.991456  1.050434\n",
      "2020-01-02  1.050851  1.051289  1.022938  1.082812\n",
      "2020-01-03  1.040115  1.051968  1.019945  1.075701\n",
      "2020-01-04  1.042938  1.052106  1.022632  1.075993\n",
      "2020-01-05  1.044051  1.053568  1.023817  1.076340\n"
     ]
    },
    {
     "data": {
      "image/png": "[encoded data removed]",
      "text/plain": [
       "<Figure size 800x575 with 2 Axes>"
      ]
     },
     "metadata": {},
     "output_type": "display_data"
    },
    {
     "data": {
      "text/html": [
       "<div>\n",
       "<style scoped>\n",
       "    .dataframe tbody tr th:only-of-type {\n",
       "        vertical-align: middle;\n",
       "    }\n",
       "\n",
       "    .dataframe tbody tr th {\n",
       "        vertical-align: top;\n",
       "    }\n",
       "\n",
       "    .dataframe thead th {\n",
       "        text-align: right;\n",
       "    }\n",
       "</style>\n",
       "<table border=\"1\" class=\"dataframe\">\n",
       "  <thead>\n",
       "    <tr style=\"text-align: right;\">\n",
       "      <th></th>\n",
       "      <th>open</th>\n",
       "      <th>close</th>\n",
       "      <th>low</th>\n",
       "      <th>high</th>\n",
       "    </tr>\n",
       "  </thead>\n",
       "  <tbody>\n",
       "    <tr>\n",
       "      <th>2020-01-01</th>\n",
       "      <td>1.000000</td>\n",
       "      <td>1.050427</td>\n",
       "      <td>0.991456</td>\n",
       "      <td>1.050434</td>\n",
       "    </tr>\n",
       "    <tr>\n",
       "      <th>2020-01-02</th>\n",
       "      <td>1.050851</td>\n",
       "      <td>1.051289</td>\n",
       "      <td>1.022938</td>\n",
       "      <td>1.082812</td>\n",
       "    </tr>\n",
       "    <tr>\n",
       "      <th>2020-01-03</th>\n",
       "      <td>1.040115</td>\n",
       "      <td>1.051968</td>\n",
       "      <td>1.019945</td>\n",
       "      <td>1.075701</td>\n",
       "    </tr>\n",
       "    <tr>\n",
       "      <th>2020-01-04</th>\n",
       "      <td>1.042938</td>\n",
       "      <td>1.052106</td>\n",
       "      <td>1.022632</td>\n",
       "      <td>1.075993</td>\n",
       "    </tr>\n",
       "    <tr>\n",
       "      <th>2020-01-05</th>\n",
       "      <td>1.044051</td>\n",
       "      <td>1.053568</td>\n",
       "      <td>1.023817</td>\n",
       "      <td>1.076340</td>\n",
       "    </tr>\n",
       "  </tbody>\n",
       "</table>\n",
       "</div>"
      ],
      "text/plain": [
       "                open     close       low      high\n",
       "2020-01-01  1.000000  1.050427  0.991456  1.050434\n",
       "2020-01-02  1.050851  1.051289  1.022938  1.082812\n",
       "2020-01-03  1.040115  1.051968  1.019945  1.075701\n",
       "2020-01-04  1.042938  1.052106  1.022632  1.075993\n",
       "2020-01-05  1.044051  1.053568  1.023817  1.076340"
      ]
     },
     "execution_count": 303,
     "metadata": {},
     "output_type": "execute_result"
    }
   ],
   "source": [
    "daily_K_line(filter_first_up,5,open,close,high,low)"
   ]
  },
  {
   "cell_type": "code",
   "execution_count": 302,
   "id": "ba35d57e-bcf4-458c-bff3-4a060e1a037e",
   "metadata": {},
   "outputs": [
    {
     "data": {
      "text/plain": [
       "000911.SZ    1.0\n",
       "002306.SZ    1.0\n",
       "600179.SH    1.0\n",
       "600228.SH    1.0\n",
       "600289.SH    1.0\n",
       "603779.SH    1.0\n",
       "Name: 20200107, dtype: float64"
      ]
     },
     "execution_count": 302,
     "metadata": {},
     "output_type": "execute_result"
    }
   ],
   "source": [
    "filter_first_up.loc[:,'20200107'].dropna()"
   ]
  },
  {
   "cell_type": "code",
   "execution_count": 287,
   "id": "21844a36-fa8f-4f3a-8c21-f2ad7a452e95",
   "metadata": {},
   "outputs": [
    {
     "data": {
      "text/plain": [
       "20200106    1.0\n",
       "20200107    1.0\n",
       "20200210    1.0\n",
       "20200226    1.0\n",
       "20200227    1.0\n",
       "20200327    1.0\n",
       "20200508    1.0\n",
       "20200527    1.0\n",
       "20200611    1.0\n",
       "20200612    1.0\n",
       "20200708    1.0\n",
       "20201012    1.0\n",
       "20201015    1.0\n",
       "20201111    1.0\n",
       "20201120    1.0\n",
       "20201123    1.0\n",
       "20201218    1.0\n",
       "20210115    1.0\n",
       "20210127    1.0\n",
       "20210323    1.0\n",
       "Name: 000868.SZ, dtype: float64"
      ]
     },
     "execution_count": 287,
     "metadata": {},
     "output_type": "execute_result"
    }
   ],
   "source": [
    "filter_st.loc['000868.SZ','20191231':'20240305'].dropna()"
   ]
  },
  {
   "cell_type": "code",
   "execution_count": 315,
   "id": "ca49f11b-8c8f-4914-98eb-fe5f6c052ee1",
   "metadata": {},
   "outputs": [],
   "source": [
    "min_data = pd.read_pickle('/mydata2/wangs/data/fmins/close.pk')"
   ]
  },
  {
   "cell_type": "code",
   "execution_count": 319,
   "id": "80bcf855-bf43-4780-a474-12f541c8b540",
   "metadata": {},
   "outputs": [
    {
     "data": {
      "text/html": [
       "<div>\n",
       "<style scoped>\n",
       "    .dataframe tbody tr th:only-of-type {\n",
       "        vertical-align: middle;\n",
       "    }\n",
       "\n",
       "    .dataframe tbody tr th {\n",
       "        vertical-align: top;\n",
       "    }\n",
       "\n",
       "    .dataframe thead th {\n",
       "        text-align: right;\n",
       "    }\n",
       "</style>\n",
       "<table border=\"1\" class=\"dataframe\">\n",
       "  <thead>\n",
       "    <tr style=\"text-align: right;\">\n",
       "      <th></th>\n",
       "      <th>000001.SZ</th>\n",
       "      <th>000002.SZ</th>\n",
       "      <th>000004.SZ</th>\n",
       "      <th>000005.SZ</th>\n",
       "      <th>000006.SZ</th>\n",
       "      <th>000007.SZ</th>\n",
       "      <th>000008.SZ</th>\n",
       "      <th>000009.SZ</th>\n",
       "      <th>000010.SZ</th>\n",
       "      <th>000011.SZ</th>\n",
       "      <th>...</th>\n",
       "      <th>600890.SH</th>\n",
       "      <th>600891.SH</th>\n",
       "      <th>600896.SH</th>\n",
       "      <th>600978.SH</th>\n",
       "      <th>601258.SH</th>\n",
       "      <th>601558.SH</th>\n",
       "      <th>603157.SH</th>\n",
       "      <th>603996.SH</th>\n",
       "      <th>688086.SH</th>\n",
       "      <th>688555.SH</th>\n",
       "    </tr>\n",
       "  </thead>\n",
       "  <tbody>\n",
       "    <tr>\n",
       "      <th>2020-01-02 09:31:00</th>\n",
       "      <td>NaN</td>\n",
       "      <td>NaN</td>\n",
       "      <td>NaN</td>\n",
       "      <td>NaN</td>\n",
       "      <td>NaN</td>\n",
       "      <td>NaN</td>\n",
       "      <td>NaN</td>\n",
       "      <td>NaN</td>\n",
       "      <td>NaN</td>\n",
       "      <td>NaN</td>\n",
       "      <td>...</td>\n",
       "      <td>NaN</td>\n",
       "      <td>NaN</td>\n",
       "      <td>NaN</td>\n",
       "      <td>NaN</td>\n",
       "      <td>NaN</td>\n",
       "      <td>NaN</td>\n",
       "      <td>NaN</td>\n",
       "      <td>NaN</td>\n",
       "      <td>NaN</td>\n",
       "      <td>NaN</td>\n",
       "    </tr>\n",
       "    <tr>\n",
       "      <th>2020-01-02 09:32:00</th>\n",
       "      <td>16.70</td>\n",
       "      <td>33.01</td>\n",
       "      <td>22.85</td>\n",
       "      <td>3.13</td>\n",
       "      <td>5.42</td>\n",
       "      <td>9.55</td>\n",
       "      <td>3.66</td>\n",
       "      <td>6.26</td>\n",
       "      <td>3.40</td>\n",
       "      <td>9.49</td>\n",
       "      <td>...</td>\n",
       "      <td>6.33</td>\n",
       "      <td>1.49</td>\n",
       "      <td>4.28</td>\n",
       "      <td>3.00</td>\n",
       "      <td>1.42</td>\n",
       "      <td>1.10</td>\n",
       "      <td>5.80</td>\n",
       "      <td>4.91</td>\n",
       "      <td>NaN</td>\n",
       "      <td>NaN</td>\n",
       "    </tr>\n",
       "    <tr>\n",
       "      <th>2020-01-02 09:33:00</th>\n",
       "      <td>16.83</td>\n",
       "      <td>33.10</td>\n",
       "      <td>22.78</td>\n",
       "      <td>3.14</td>\n",
       "      <td>5.41</td>\n",
       "      <td>9.48</td>\n",
       "      <td>3.65</td>\n",
       "      <td>6.21</td>\n",
       "      <td>3.41</td>\n",
       "      <td>9.45</td>\n",
       "      <td>...</td>\n",
       "      <td>6.36</td>\n",
       "      <td>1.48</td>\n",
       "      <td>4.28</td>\n",
       "      <td>2.99</td>\n",
       "      <td>1.42</td>\n",
       "      <td>1.09</td>\n",
       "      <td>5.78</td>\n",
       "      <td>4.91</td>\n",
       "      <td>NaN</td>\n",
       "      <td>NaN</td>\n",
       "    </tr>\n",
       "    <tr>\n",
       "      <th>2020-01-02 09:34:00</th>\n",
       "      <td>16.77</td>\n",
       "      <td>33.18</td>\n",
       "      <td>22.70</td>\n",
       "      <td>3.14</td>\n",
       "      <td>5.42</td>\n",
       "      <td>9.46</td>\n",
       "      <td>3.65</td>\n",
       "      <td>6.27</td>\n",
       "      <td>3.42</td>\n",
       "      <td>9.44</td>\n",
       "      <td>...</td>\n",
       "      <td>6.37</td>\n",
       "      <td>1.49</td>\n",
       "      <td>4.29</td>\n",
       "      <td>3.00</td>\n",
       "      <td>1.41</td>\n",
       "      <td>1.09</td>\n",
       "      <td>5.80</td>\n",
       "      <td>4.91</td>\n",
       "      <td>NaN</td>\n",
       "      <td>NaN</td>\n",
       "    </tr>\n",
       "    <tr>\n",
       "      <th>2020-01-02 09:35:00</th>\n",
       "      <td>16.80</td>\n",
       "      <td>33.44</td>\n",
       "      <td>22.49</td>\n",
       "      <td>3.14</td>\n",
       "      <td>5.42</td>\n",
       "      <td>9.50</td>\n",
       "      <td>3.64</td>\n",
       "      <td>6.26</td>\n",
       "      <td>3.42</td>\n",
       "      <td>9.45</td>\n",
       "      <td>...</td>\n",
       "      <td>6.37</td>\n",
       "      <td>1.49</td>\n",
       "      <td>4.28</td>\n",
       "      <td>3.00</td>\n",
       "      <td>1.41</td>\n",
       "      <td>1.09</td>\n",
       "      <td>5.81</td>\n",
       "      <td>4.91</td>\n",
       "      <td>NaN</td>\n",
       "      <td>NaN</td>\n",
       "    </tr>\n",
       "    <tr>\n",
       "      <th>...</th>\n",
       "      <td>...</td>\n",
       "      <td>...</td>\n",
       "      <td>...</td>\n",
       "      <td>...</td>\n",
       "      <td>...</td>\n",
       "      <td>...</td>\n",
       "      <td>...</td>\n",
       "      <td>...</td>\n",
       "      <td>...</td>\n",
       "      <td>...</td>\n",
       "      <td>...</td>\n",
       "      <td>...</td>\n",
       "      <td>...</td>\n",
       "      <td>...</td>\n",
       "      <td>...</td>\n",
       "      <td>...</td>\n",
       "      <td>...</td>\n",
       "      <td>...</td>\n",
       "      <td>...</td>\n",
       "      <td>...</td>\n",
       "      <td>...</td>\n",
       "    </tr>\n",
       "    <tr>\n",
       "      <th>2024-02-27 14:56:00</th>\n",
       "      <td>10.50</td>\n",
       "      <td>10.05</td>\n",
       "      <td>13.56</td>\n",
       "      <td>0.88</td>\n",
       "      <td>4.11</td>\n",
       "      <td>4.21</td>\n",
       "      <td>2.18</td>\n",
       "      <td>11.95</td>\n",
       "      <td>2.40</td>\n",
       "      <td>8.56</td>\n",
       "      <td>...</td>\n",
       "      <td>0.36</td>\n",
       "      <td>0.38</td>\n",
       "      <td>1.12</td>\n",
       "      <td>0.52</td>\n",
       "      <td>0.40</td>\n",
       "      <td>0.25</td>\n",
       "      <td>0.59</td>\n",
       "      <td>0.39</td>\n",
       "      <td>0.64</td>\n",
       "      <td>1.12</td>\n",
       "    </tr>\n",
       "    <tr>\n",
       "      <th>2024-02-27 14:57:00</th>\n",
       "      <td>10.50</td>\n",
       "      <td>10.05</td>\n",
       "      <td>13.56</td>\n",
       "      <td>0.88</td>\n",
       "      <td>4.11</td>\n",
       "      <td>4.21</td>\n",
       "      <td>2.18</td>\n",
       "      <td>11.94</td>\n",
       "      <td>2.40</td>\n",
       "      <td>8.57</td>\n",
       "      <td>...</td>\n",
       "      <td>0.36</td>\n",
       "      <td>0.38</td>\n",
       "      <td>1.12</td>\n",
       "      <td>0.52</td>\n",
       "      <td>0.40</td>\n",
       "      <td>0.25</td>\n",
       "      <td>0.59</td>\n",
       "      <td>0.39</td>\n",
       "      <td>0.64</td>\n",
       "      <td>1.12</td>\n",
       "    </tr>\n",
       "    <tr>\n",
       "      <th>2024-02-27 14:58:00</th>\n",
       "      <td>10.50</td>\n",
       "      <td>10.06</td>\n",
       "      <td>13.56</td>\n",
       "      <td>0.88</td>\n",
       "      <td>4.12</td>\n",
       "      <td>4.21</td>\n",
       "      <td>2.19</td>\n",
       "      <td>11.95</td>\n",
       "      <td>2.39</td>\n",
       "      <td>8.55</td>\n",
       "      <td>...</td>\n",
       "      <td>0.36</td>\n",
       "      <td>0.38</td>\n",
       "      <td>1.12</td>\n",
       "      <td>0.52</td>\n",
       "      <td>0.40</td>\n",
       "      <td>0.25</td>\n",
       "      <td>0.59</td>\n",
       "      <td>0.39</td>\n",
       "      <td>0.64</td>\n",
       "      <td>1.12</td>\n",
       "    </tr>\n",
       "    <tr>\n",
       "      <th>2024-02-27 14:59:00</th>\n",
       "      <td>10.50</td>\n",
       "      <td>10.05</td>\n",
       "      <td>13.56</td>\n",
       "      <td>0.88</td>\n",
       "      <td>4.12</td>\n",
       "      <td>4.21</td>\n",
       "      <td>2.19</td>\n",
       "      <td>11.95</td>\n",
       "      <td>2.39</td>\n",
       "      <td>8.55</td>\n",
       "      <td>...</td>\n",
       "      <td>0.36</td>\n",
       "      <td>0.38</td>\n",
       "      <td>1.12</td>\n",
       "      <td>0.52</td>\n",
       "      <td>0.40</td>\n",
       "      <td>0.25</td>\n",
       "      <td>0.59</td>\n",
       "      <td>0.39</td>\n",
       "      <td>0.64</td>\n",
       "      <td>1.12</td>\n",
       "    </tr>\n",
       "    <tr>\n",
       "      <th>2024-02-27 15:00:00</th>\n",
       "      <td>10.50</td>\n",
       "      <td>10.05</td>\n",
       "      <td>13.56</td>\n",
       "      <td>0.88</td>\n",
       "      <td>4.12</td>\n",
       "      <td>4.21</td>\n",
       "      <td>2.19</td>\n",
       "      <td>11.95</td>\n",
       "      <td>2.39</td>\n",
       "      <td>8.55</td>\n",
       "      <td>...</td>\n",
       "      <td>0.36</td>\n",
       "      <td>0.38</td>\n",
       "      <td>1.12</td>\n",
       "      <td>0.52</td>\n",
       "      <td>0.40</td>\n",
       "      <td>0.25</td>\n",
       "      <td>0.59</td>\n",
       "      <td>0.39</td>\n",
       "      <td>0.64</td>\n",
       "      <td>1.12</td>\n",
       "    </tr>\n",
       "  </tbody>\n",
       "</table>\n",
       "<p>241200 rows × 5234 columns</p>\n",
       "</div>"
      ],
      "text/plain": [
       "                     000001.SZ  000002.SZ  000004.SZ  000005.SZ  000006.SZ  \\\n",
       "2020-01-02 09:31:00        NaN        NaN        NaN        NaN        NaN   \n",
       "2020-01-02 09:32:00      16.70      33.01      22.85       3.13       5.42   \n",
       "2020-01-02 09:33:00      16.83      33.10      22.78       3.14       5.41   \n",
       "2020-01-02 09:34:00      16.77      33.18      22.70       3.14       5.42   \n",
       "2020-01-02 09:35:00      16.80      33.44      22.49       3.14       5.42   \n",
       "...                        ...        ...        ...        ...        ...   \n",
       "2024-02-27 14:56:00      10.50      10.05      13.56       0.88       4.11   \n",
       "2024-02-27 14:57:00      10.50      10.05      13.56       0.88       4.11   \n",
       "2024-02-27 14:58:00      10.50      10.06      13.56       0.88       4.12   \n",
       "2024-02-27 14:59:00      10.50      10.05      13.56       0.88       4.12   \n",
       "2024-02-27 15:00:00      10.50      10.05      13.56       0.88       4.12   \n",
       "\n",
       "                     000007.SZ  000008.SZ  000009.SZ  000010.SZ  000011.SZ  \\\n",
       "2020-01-02 09:31:00        NaN        NaN        NaN        NaN        NaN   \n",
       "2020-01-02 09:32:00       9.55       3.66       6.26       3.40       9.49   \n",
       "2020-01-02 09:33:00       9.48       3.65       6.21       3.41       9.45   \n",
       "2020-01-02 09:34:00       9.46       3.65       6.27       3.42       9.44   \n",
       "2020-01-02 09:35:00       9.50       3.64       6.26       3.42       9.45   \n",
       "...                        ...        ...        ...        ...        ...   \n",
       "2024-02-27 14:56:00       4.21       2.18      11.95       2.40       8.56   \n",
       "2024-02-27 14:57:00       4.21       2.18      11.94       2.40       8.57   \n",
       "2024-02-27 14:58:00       4.21       2.19      11.95       2.39       8.55   \n",
       "2024-02-27 14:59:00       4.21       2.19      11.95       2.39       8.55   \n",
       "2024-02-27 15:00:00       4.21       2.19      11.95       2.39       8.55   \n",
       "\n",
       "                     ...  600890.SH  600891.SH  600896.SH  600978.SH  \\\n",
       "2020-01-02 09:31:00  ...        NaN        NaN        NaN        NaN   \n",
       "2020-01-02 09:32:00  ...       6.33       1.49       4.28       3.00   \n",
       "2020-01-02 09:33:00  ...       6.36       1.48       4.28       2.99   \n",
       "2020-01-02 09:34:00  ...       6.37       1.49       4.29       3.00   \n",
       "2020-01-02 09:35:00  ...       6.37       1.49       4.28       3.00   \n",
       "...                  ...        ...        ...        ...        ...   \n",
       "2024-02-27 14:56:00  ...       0.36       0.38       1.12       0.52   \n",
       "2024-02-27 14:57:00  ...       0.36       0.38       1.12       0.52   \n",
       "2024-02-27 14:58:00  ...       0.36       0.38       1.12       0.52   \n",
       "2024-02-27 14:59:00  ...       0.36       0.38       1.12       0.52   \n",
       "2024-02-27 15:00:00  ...       0.36       0.38       1.12       0.52   \n",
       "\n",
       "                     601258.SH  601558.SH  603157.SH  603996.SH  688086.SH  \\\n",
       "2020-01-02 09:31:00        NaN        NaN        NaN        NaN        NaN   \n",
       "2020-01-02 09:32:00       1.42       1.10       5.80       4.91        NaN   \n",
       "2020-01-02 09:33:00       1.42       1.09       5.78       4.91        NaN   \n",
       "2020-01-02 09:34:00       1.41       1.09       5.80       4.91        NaN   \n",
       "2020-01-02 09:35:00       1.41       1.09       5.81       4.91        NaN   \n",
       "...                        ...        ...        ...        ...        ...   \n",
       "2024-02-27 14:56:00       0.40       0.25       0.59       0.39       0.64   \n",
       "2024-02-27 14:57:00       0.40       0.25       0.59       0.39       0.64   \n",
       "2024-02-27 14:58:00       0.40       0.25       0.59       0.39       0.64   \n",
       "2024-02-27 14:59:00       0.40       0.25       0.59       0.39       0.64   \n",
       "2024-02-27 15:00:00       0.40       0.25       0.59       0.39       0.64   \n",
       "\n",
       "                     688555.SH  \n",
       "2020-01-02 09:31:00        NaN  \n",
       "2020-01-02 09:32:00        NaN  \n",
       "2020-01-02 09:33:00        NaN  \n",
       "2020-01-02 09:34:00        NaN  \n",
       "2020-01-02 09:35:00        NaN  \n",
       "...                        ...  \n",
       "2024-02-27 14:56:00       1.12  \n",
       "2024-02-27 14:57:00       1.12  \n",
       "2024-02-27 14:58:00       1.12  \n",
       "2024-02-27 14:59:00       1.12  \n",
       "2024-02-27 15:00:00       1.12  \n",
       "\n",
       "[241200 rows x 5234 columns]"
      ]
     },
     "execution_count": 319,
     "metadata": {},
     "output_type": "execute_result"
    }
   ],
   "source": []
  },
  {
   "cell_type": "code",
   "execution_count": 320,
   "id": "12612d74-f4a1-44b4-8fec-590bda319427",
   "metadata": {},
   "outputs": [],
   "source": [
    "filter_first_up = ((ff.read('up').shift(1,axis = 1).replace({1:0,np.nan:1})) * ff.read('up')).replace({0:np.nan})*ff.filter0\n",
    "filtered_index = filter_first_up.index.str.startswith('300') | filter_first_up.index.str.startswith('688') | filter_first_up.index.str.endswith('BJ')\n",
    "filter_first_up.loc[~filtered_index,:] = np.nan\n",
    "filter_first_up = filter_first_up.loc[:,'20200102':'20240305']"
   ]
  },
  {
   "cell_type": "code",
   "execution_count": 321,
   "id": "8b31d95d-80ac-4b22-9061-2ce114677bf3",
   "metadata": {},
   "outputs": [
    {
     "name": "stderr",
     "output_type": "stream",
     "text": [
      "100%|█████████████████████████████████████████████████████████████████████████████████████████| 1010/1010 [03:54<00:00,  4.31it/s]\n"
     ]
    }
   ],
   "source": [
    "ret_st_mean = []\n",
    "with Pool(48) as p:\n",
    "    ret_st_mean = list(tqdm(p.imap(stock_ret_mean, range(len(filter_first_up.columns))), total=len(filter_first_up.columns)))"
   ]
  },
  {
   "cell_type": "code",
   "execution_count": 322,
   "id": "1fe1eaca-bb47-4787-bf63-26203b1aee07",
   "metadata": {},
   "outputs": [
    {
     "data": {
      "text/plain": [
       "[<matplotlib.lines.Line2D at 0x7f797080b940>]"
      ]
     },
     "execution_count": 322,
     "metadata": {},
     "output_type": "execute_result"
    },
    {
     "data": {
      "image/png": "[encoded data removed]",
      "text/plain": [
       "<Figure size 640x480 with 1 Axes>"
      ]
     },
     "metadata": {},
     "output_type": "display_data"
    }
   ],
   "source": [
    "mean_without_nan = [arr[~np.isnan(arr)] for arr in ret_st_mean]\n",
    "mean_without_nan = [arr for arr in mean_without_nan if len(arr) > 0]\n",
    "mean = np.mean(mean_without_nan,axis = 0)\n",
    "plt.plot(mean)"
   ]
  },
  {
   "cell_type": "code",
   "execution_count": 323,
   "id": "cec8fd6a-5fa6-4b59-a7a5-788641b29999",
   "metadata": {},
   "outputs": [
    {
     "name": "stdout",
     "output_type": "stream",
     "text": [
      "                open     close       low      high\n",
      "2020-01-01  1.000000  1.183456  0.990017  1.183456\n",
      "2020-01-02  1.180415  1.215879  1.123376  1.288929\n",
      "2020-01-03  1.177350  1.213873  1.129434  1.277366\n",
      "2020-01-04  1.174968  1.210189  1.129432  1.269155\n",
      "2020-01-05  1.171945  1.210260  1.130174  1.263714\n"
     ]
    },
    {
     "data": {
      "image/png": "[encoded data removed]",
      "text/plain": [
       "<Figure size 800x575 with 2 Axes>"
      ]
     },
     "metadata": {},
     "output_type": "display_data"
    },
    {
     "data": {
      "text/html": [
       "<div>\n",
       "<style scoped>\n",
       "    .dataframe tbody tr th:only-of-type {\n",
       "        vertical-align: middle;\n",
       "    }\n",
       "\n",
       "    .dataframe tbody tr th {\n",
       "        vertical-align: top;\n",
       "    }\n",
       "\n",
       "    .dataframe thead th {\n",
       "        text-align: right;\n",
       "    }\n",
       "</style>\n",
       "<table border=\"1\" class=\"dataframe\">\n",
       "  <thead>\n",
       "    <tr style=\"text-align: right;\">\n",
       "      <th></th>\n",
       "      <th>open</th>\n",
       "      <th>close</th>\n",
       "      <th>low</th>\n",
       "      <th>high</th>\n",
       "    </tr>\n",
       "  </thead>\n",
       "  <tbody>\n",
       "    <tr>\n",
       "      <th>2020-01-01</th>\n",
       "      <td>1.000000</td>\n",
       "      <td>1.183456</td>\n",
       "      <td>0.990017</td>\n",
       "      <td>1.183456</td>\n",
       "    </tr>\n",
       "    <tr>\n",
       "      <th>2020-01-02</th>\n",
       "      <td>1.180415</td>\n",
       "      <td>1.215879</td>\n",
       "      <td>1.123376</td>\n",
       "      <td>1.288929</td>\n",
       "    </tr>\n",
       "    <tr>\n",
       "      <th>2020-01-03</th>\n",
       "      <td>1.177350</td>\n",
       "      <td>1.213873</td>\n",
       "      <td>1.129434</td>\n",
       "      <td>1.277366</td>\n",
       "    </tr>\n",
       "    <tr>\n",
       "      <th>2020-01-04</th>\n",
       "      <td>1.174968</td>\n",
       "      <td>1.210189</td>\n",
       "      <td>1.129432</td>\n",
       "      <td>1.269155</td>\n",
       "    </tr>\n",
       "    <tr>\n",
       "      <th>2020-01-05</th>\n",
       "      <td>1.171945</td>\n",
       "      <td>1.210260</td>\n",
       "      <td>1.130174</td>\n",
       "      <td>1.263714</td>\n",
       "    </tr>\n",
       "  </tbody>\n",
       "</table>\n",
       "</div>"
      ],
      "text/plain": [
       "                open     close       low      high\n",
       "2020-01-01  1.000000  1.183456  0.990017  1.183456\n",
       "2020-01-02  1.180415  1.215879  1.123376  1.288929\n",
       "2020-01-03  1.177350  1.213873  1.129434  1.277366\n",
       "2020-01-04  1.174968  1.210189  1.129432  1.269155\n",
       "2020-01-05  1.171945  1.210260  1.130174  1.263714"
      ]
     },
     "execution_count": 323,
     "metadata": {},
     "output_type": "execute_result"
    }
   ],
   "source": [
    "daily_K_line(filter_first_up,5,open,close,high,low)"
   ]
  },
  {
   "cell_type": "code",
   "execution_count": 333,
   "id": "65b559a4-9ea1-4aac-95db-03bfb3c269e9",
   "metadata": {},
   "outputs": [
    {
     "data": {
      "text/html": [
       "<div>\n",
       "<style scoped>\n",
       "    .dataframe tbody tr th:only-of-type {\n",
       "        vertical-align: middle;\n",
       "    }\n",
       "\n",
       "    .dataframe tbody tr th {\n",
       "        vertical-align: top;\n",
       "    }\n",
       "\n",
       "    .dataframe thead th {\n",
       "        text-align: right;\n",
       "    }\n",
       "</style>\n",
       "<table border=\"1\" class=\"dataframe\">\n",
       "  <thead>\n",
       "    <tr style=\"text-align: right;\">\n",
       "      <th></th>\n",
       "      <th>20100104</th>\n",
       "      <th>20100105</th>\n",
       "      <th>20100106</th>\n",
       "      <th>20100107</th>\n",
       "      <th>20100108</th>\n",
       "      <th>20100111</th>\n",
       "      <th>20100112</th>\n",
       "      <th>20100113</th>\n",
       "      <th>20100114</th>\n",
       "      <th>20100115</th>\n",
       "      <th>...</th>\n",
       "      <th>20240305</th>\n",
       "      <th>20240306</th>\n",
       "      <th>20240307</th>\n",
       "      <th>20240308</th>\n",
       "      <th>20240311</th>\n",
       "      <th>20240312</th>\n",
       "      <th>20240313</th>\n",
       "      <th>20240314</th>\n",
       "      <th>20240315</th>\n",
       "      <th>20240318</th>\n",
       "    </tr>\n",
       "  </thead>\n",
       "  <tbody>\n",
       "    <tr>\n",
       "      <th>000001.SZ</th>\n",
       "      <td>False</td>\n",
       "      <td>False</td>\n",
       "      <td>False</td>\n",
       "      <td>False</td>\n",
       "      <td>False</td>\n",
       "      <td>False</td>\n",
       "      <td>False</td>\n",
       "      <td>False</td>\n",
       "      <td>False</td>\n",
       "      <td>False</td>\n",
       "      <td>...</td>\n",
       "      <td>False</td>\n",
       "      <td>False</td>\n",
       "      <td>False</td>\n",
       "      <td>False</td>\n",
       "      <td>False</td>\n",
       "      <td>False</td>\n",
       "      <td>False</td>\n",
       "      <td>False</td>\n",
       "      <td>False</td>\n",
       "      <td>False</td>\n",
       "    </tr>\n",
       "    <tr>\n",
       "      <th>000002.SZ</th>\n",
       "      <td>False</td>\n",
       "      <td>False</td>\n",
       "      <td>False</td>\n",
       "      <td>False</td>\n",
       "      <td>False</td>\n",
       "      <td>False</td>\n",
       "      <td>False</td>\n",
       "      <td>False</td>\n",
       "      <td>False</td>\n",
       "      <td>False</td>\n",
       "      <td>...</td>\n",
       "      <td>False</td>\n",
       "      <td>False</td>\n",
       "      <td>False</td>\n",
       "      <td>False</td>\n",
       "      <td>False</td>\n",
       "      <td>False</td>\n",
       "      <td>False</td>\n",
       "      <td>False</td>\n",
       "      <td>False</td>\n",
       "      <td>False</td>\n",
       "    </tr>\n",
       "    <tr>\n",
       "      <th>000004.SZ</th>\n",
       "      <td>False</td>\n",
       "      <td>False</td>\n",
       "      <td>False</td>\n",
       "      <td>False</td>\n",
       "      <td>False</td>\n",
       "      <td>False</td>\n",
       "      <td>False</td>\n",
       "      <td>False</td>\n",
       "      <td>False</td>\n",
       "      <td>False</td>\n",
       "      <td>...</td>\n",
       "      <td>False</td>\n",
       "      <td>False</td>\n",
       "      <td>False</td>\n",
       "      <td>False</td>\n",
       "      <td>False</td>\n",
       "      <td>False</td>\n",
       "      <td>False</td>\n",
       "      <td>False</td>\n",
       "      <td>False</td>\n",
       "      <td>False</td>\n",
       "    </tr>\n",
       "    <tr>\n",
       "      <th>000005.SZ</th>\n",
       "      <td>False</td>\n",
       "      <td>False</td>\n",
       "      <td>False</td>\n",
       "      <td>False</td>\n",
       "      <td>False</td>\n",
       "      <td>False</td>\n",
       "      <td>False</td>\n",
       "      <td>False</td>\n",
       "      <td>False</td>\n",
       "      <td>False</td>\n",
       "      <td>...</td>\n",
       "      <td>False</td>\n",
       "      <td>False</td>\n",
       "      <td>False</td>\n",
       "      <td>False</td>\n",
       "      <td>False</td>\n",
       "      <td>False</td>\n",
       "      <td>False</td>\n",
       "      <td>False</td>\n",
       "      <td>False</td>\n",
       "      <td>False</td>\n",
       "    </tr>\n",
       "    <tr>\n",
       "      <th>000006.SZ</th>\n",
       "      <td>False</td>\n",
       "      <td>False</td>\n",
       "      <td>False</td>\n",
       "      <td>False</td>\n",
       "      <td>False</td>\n",
       "      <td>False</td>\n",
       "      <td>False</td>\n",
       "      <td>False</td>\n",
       "      <td>False</td>\n",
       "      <td>False</td>\n",
       "      <td>...</td>\n",
       "      <td>False</td>\n",
       "      <td>False</td>\n",
       "      <td>False</td>\n",
       "      <td>False</td>\n",
       "      <td>False</td>\n",
       "      <td>False</td>\n",
       "      <td>False</td>\n",
       "      <td>False</td>\n",
       "      <td>False</td>\n",
       "      <td>False</td>\n",
       "    </tr>\n",
       "    <tr>\n",
       "      <th>...</th>\n",
       "      <td>...</td>\n",
       "      <td>...</td>\n",
       "      <td>...</td>\n",
       "      <td>...</td>\n",
       "      <td>...</td>\n",
       "      <td>...</td>\n",
       "      <td>...</td>\n",
       "      <td>...</td>\n",
       "      <td>...</td>\n",
       "      <td>...</td>\n",
       "      <td>...</td>\n",
       "      <td>...</td>\n",
       "      <td>...</td>\n",
       "      <td>...</td>\n",
       "      <td>...</td>\n",
       "      <td>...</td>\n",
       "      <td>...</td>\n",
       "      <td>...</td>\n",
       "      <td>...</td>\n",
       "      <td>...</td>\n",
       "      <td>...</td>\n",
       "    </tr>\n",
       "    <tr>\n",
       "      <th>873703.BJ</th>\n",
       "      <td>False</td>\n",
       "      <td>False</td>\n",
       "      <td>False</td>\n",
       "      <td>False</td>\n",
       "      <td>False</td>\n",
       "      <td>False</td>\n",
       "      <td>False</td>\n",
       "      <td>False</td>\n",
       "      <td>False</td>\n",
       "      <td>False</td>\n",
       "      <td>...</td>\n",
       "      <td>False</td>\n",
       "      <td>False</td>\n",
       "      <td>False</td>\n",
       "      <td>False</td>\n",
       "      <td>False</td>\n",
       "      <td>False</td>\n",
       "      <td>False</td>\n",
       "      <td>False</td>\n",
       "      <td>False</td>\n",
       "      <td>False</td>\n",
       "    </tr>\n",
       "    <tr>\n",
       "      <th>873706.BJ</th>\n",
       "      <td>False</td>\n",
       "      <td>False</td>\n",
       "      <td>False</td>\n",
       "      <td>False</td>\n",
       "      <td>False</td>\n",
       "      <td>False</td>\n",
       "      <td>False</td>\n",
       "      <td>False</td>\n",
       "      <td>False</td>\n",
       "      <td>False</td>\n",
       "      <td>...</td>\n",
       "      <td>False</td>\n",
       "      <td>False</td>\n",
       "      <td>False</td>\n",
       "      <td>False</td>\n",
       "      <td>False</td>\n",
       "      <td>False</td>\n",
       "      <td>False</td>\n",
       "      <td>False</td>\n",
       "      <td>False</td>\n",
       "      <td>False</td>\n",
       "    </tr>\n",
       "    <tr>\n",
       "      <th>873726.BJ</th>\n",
       "      <td>False</td>\n",
       "      <td>False</td>\n",
       "      <td>False</td>\n",
       "      <td>False</td>\n",
       "      <td>False</td>\n",
       "      <td>False</td>\n",
       "      <td>False</td>\n",
       "      <td>False</td>\n",
       "      <td>False</td>\n",
       "      <td>False</td>\n",
       "      <td>...</td>\n",
       "      <td>False</td>\n",
       "      <td>False</td>\n",
       "      <td>False</td>\n",
       "      <td>False</td>\n",
       "      <td>False</td>\n",
       "      <td>False</td>\n",
       "      <td>False</td>\n",
       "      <td>False</td>\n",
       "      <td>False</td>\n",
       "      <td>False</td>\n",
       "    </tr>\n",
       "    <tr>\n",
       "      <th>873806.BJ</th>\n",
       "      <td>False</td>\n",
       "      <td>False</td>\n",
       "      <td>False</td>\n",
       "      <td>False</td>\n",
       "      <td>False</td>\n",
       "      <td>False</td>\n",
       "      <td>False</td>\n",
       "      <td>False</td>\n",
       "      <td>False</td>\n",
       "      <td>False</td>\n",
       "      <td>...</td>\n",
       "      <td>False</td>\n",
       "      <td>False</td>\n",
       "      <td>False</td>\n",
       "      <td>False</td>\n",
       "      <td>False</td>\n",
       "      <td>False</td>\n",
       "      <td>False</td>\n",
       "      <td>False</td>\n",
       "      <td>False</td>\n",
       "      <td>False</td>\n",
       "    </tr>\n",
       "    <tr>\n",
       "      <th>873833.BJ</th>\n",
       "      <td>False</td>\n",
       "      <td>False</td>\n",
       "      <td>False</td>\n",
       "      <td>False</td>\n",
       "      <td>False</td>\n",
       "      <td>False</td>\n",
       "      <td>False</td>\n",
       "      <td>False</td>\n",
       "      <td>False</td>\n",
       "      <td>False</td>\n",
       "      <td>...</td>\n",
       "      <td>False</td>\n",
       "      <td>False</td>\n",
       "      <td>False</td>\n",
       "      <td>False</td>\n",
       "      <td>False</td>\n",
       "      <td>False</td>\n",
       "      <td>False</td>\n",
       "      <td>False</td>\n",
       "      <td>False</td>\n",
       "      <td>False</td>\n",
       "    </tr>\n",
       "  </tbody>\n",
       "</table>\n",
       "<p>5528 rows × 3450 columns</p>\n",
       "</div>"
      ],
      "text/plain": [
       "           20100104  20100105  20100106  20100107  20100108  20100111  \\\n",
       "000001.SZ     False     False     False     False     False     False   \n",
       "000002.SZ     False     False     False     False     False     False   \n",
       "000004.SZ     False     False     False     False     False     False   \n",
       "000005.SZ     False     False     False     False     False     False   \n",
       "000006.SZ     False     False     False     False     False     False   \n",
       "...             ...       ...       ...       ...       ...       ...   \n",
       "873703.BJ     False     False     False     False     False     False   \n",
       "873706.BJ     False     False     False     False     False     False   \n",
       "873726.BJ     False     False     False     False     False     False   \n",
       "873806.BJ     False     False     False     False     False     False   \n",
       "873833.BJ     False     False     False     False     False     False   \n",
       "\n",
       "           20100112  20100113  20100114  20100115  ...  20240305  20240306  \\\n",
       "000001.SZ     False     False     False     False  ...     False     False   \n",
       "000002.SZ     False     False     False     False  ...     False     False   \n",
       "000004.SZ     False     False     False     False  ...     False     False   \n",
       "000005.SZ     False     False     False     False  ...     False     False   \n",
       "000006.SZ     False     False     False     False  ...     False     False   \n",
       "...             ...       ...       ...       ...  ...       ...       ...   \n",
       "873703.BJ     False     False     False     False  ...     False     False   \n",
       "873706.BJ     False     False     False     False  ...     False     False   \n",
       "873726.BJ     False     False     False     False  ...     False     False   \n",
       "873806.BJ     False     False     False     False  ...     False     False   \n",
       "873833.BJ     False     False     False     False  ...     False     False   \n",
       "\n",
       "           20240307  20240308  20240311  20240312  20240313  20240314  \\\n",
       "000001.SZ     False     False     False     False     False     False   \n",
       "000002.SZ     False     False     False     False     False     False   \n",
       "000004.SZ     False     False     False     False     False     False   \n",
       "000005.SZ     False     False     False     False     False     False   \n",
       "000006.SZ     False     False     False     False     False     False   \n",
       "...             ...       ...       ...       ...       ...       ...   \n",
       "873703.BJ     False     False     False     False     False     False   \n",
       "873706.BJ     False     False     False     False     False     False   \n",
       "873726.BJ     False     False     False     False     False     False   \n",
       "873806.BJ     False     False     False     False     False     False   \n",
       "873833.BJ     False     False     False     False     False     False   \n",
       "\n",
       "           20240315  20240318  \n",
       "000001.SZ     False     False  \n",
       "000002.SZ     False     False  \n",
       "000004.SZ     False     False  \n",
       "000005.SZ     False     False  \n",
       "000006.SZ     False     False  \n",
       "...             ...       ...  \n",
       "873703.BJ     False     False  \n",
       "873706.BJ     False     False  \n",
       "873726.BJ     False     False  \n",
       "873806.BJ     False     False  \n",
       "873833.BJ     False     False  \n",
       "\n",
       "[5528 rows x 3450 columns]"
      ]
     },
     "execution_count": 333,
     "metadata": {},
     "output_type": "execute_result"
    }
   ],
   "source": [
    "ff.read('close')/ff.read('close').shift(axis = 1) >1.12"
   ]
  },
  {
   "cell_type": "code",
   "execution_count": 11,
   "id": "b6769d24-cf2f-4bd4-9aa3-e76984d5357e",
   "metadata": {},
   "outputs": [
    {
     "data": {
      "text/plain": [
       "4969.0"
      ]
     },
     "execution_count": 11,
     "metadata": {},
     "output_type": "execute_result"
    }
   ],
   "source": [
    "filter_first_up = ((ff.read('up').replace({1:np.nan,np.nan:1}) * ((ff.read('close') * ff.read('post'))/(ff.read('close')*ff.read('post')).shift(axis = 1) >=1.12))).replace({0:np.nan}) * ff.filter0\n",
    "filtered_index = filter_first_up.index.str.startswith('300') | filter_first_up.index.str.startswith('688')\n",
    "filter_first_up.loc[~filtered_index,:] = np.nan\n",
    "filter_first_up = filter_first_up.loc[:,'20200825':'20240305']\n",
    "filter_first_up.sum().sum()"
   ]
  },
  {
   "cell_type": "code",
   "execution_count": 10,
   "id": "66b590f4-cc02-4cb9-b337-a8042872a364",
   "metadata": {},
   "outputs": [
    {
     "data": {
      "text/plain": [
       "300051.SZ    1.0\n",
       "300071.SZ    1.0\n",
       "300131.SZ    1.0\n",
       "300135.SZ    1.0\n",
       "300185.SZ    1.0\n",
       "300240.SZ    1.0\n",
       "300261.SZ    1.0\n",
       "300343.SZ    1.0\n",
       "300350.SZ    1.0\n",
       "300386.SZ    1.0\n",
       "300798.SZ    1.0\n",
       "300801.SZ    1.0\n",
       "Name: 20200825, dtype: float64"
      ]
     },
     "execution_count": 10,
     "metadata": {},
     "output_type": "execute_result"
    }
   ],
   "source": [
    "filter_first_up['20200825'].dropna()"
   ]
  },
  {
   "cell_type": "code",
   "execution_count": 14,
   "id": "14b27aaf-e613-4942-baf2-cfd594331abc",
   "metadata": {},
   "outputs": [
    {
     "name": "stderr",
     "output_type": "stream",
     "text": [
      "100%|███████████████████████████████████████████████████████████████████████████████████████████| 854/854 [08:33<00:00,  1.66it/s]\n"
     ]
    },
    {
     "data": {
      "text/plain": [
       "[<matplotlib.lines.Line2D at 0x7fa36011ea90>]"
      ]
     },
     "execution_count": 14,
     "metadata": {},
     "output_type": "execute_result"
    },
    {
     "data": {
      "image/png": "[encoded data removed]",
      "text/plain": [
       "<Figure size 640x480 with 1 Axes>"
      ]
     },
     "metadata": {},
     "output_type": "display_data"
    }
   ],
   "source": [
    "ret_st_mean = []\n",
    "with Pool(48) as p:\n",
    "    ret_st_mean = list(tqdm(p.imap(stock_ret_mean, range(len(filter_first_up.columns))), total=len(filter_first_up.columns)))\n",
    "mean_without_nan = [arr[~np.isnan(arr)] for arr in ret_st_mean]\n",
    "mean_without_nan = [arr for arr in mean_without_nan if len(arr) > 0]\n",
    "mean = np.mean(mean_without_nan,axis = 0)\n",
    "plt.plot(mean)"
   ]
  },
  {
   "cell_type": "code",
   "execution_count": 18,
   "id": "254e2edf-ff79-42d1-a2f0-2c2b8c4323b9",
   "metadata": {},
   "outputs": [
    {
     "name": "stdout",
     "output_type": "stream",
     "text": [
      "                open     close       low      high\n",
      "2020-01-01  1.000000  1.143790  0.988383  1.177668\n",
      "2020-01-02  1.110025  1.133157  1.070276  1.182922\n",
      "2020-01-03  1.110861  1.132059  1.073035  1.180442\n",
      "2020-01-04  1.112609  1.133004  1.074955  1.179737\n",
      "2020-01-05  1.112397  1.133071  1.075761  1.177287\n"
     ]
    },
    {
     "data": {
      "image/png": "[encoded data removed]",
      "text/plain": [
       "<Figure size 800x575 with 2 Axes>"
      ]
     },
     "metadata": {},
     "output_type": "display_data"
    },
    {
     "data": {
      "text/html": [
       "<div>\n",
       "<style scoped>\n",
       "    .dataframe tbody tr th:only-of-type {\n",
       "        vertical-align: middle;\n",
       "    }\n",
       "\n",
       "    .dataframe tbody tr th {\n",
       "        vertical-align: top;\n",
       "    }\n",
       "\n",
       "    .dataframe thead th {\n",
       "        text-align: right;\n",
       "    }\n",
       "</style>\n",
       "<table border=\"1\" class=\"dataframe\">\n",
       "  <thead>\n",
       "    <tr style=\"text-align: right;\">\n",
       "      <th></th>\n",
       "      <th>open</th>\n",
       "      <th>close</th>\n",
       "      <th>low</th>\n",
       "      <th>high</th>\n",
       "    </tr>\n",
       "  </thead>\n",
       "  <tbody>\n",
       "    <tr>\n",
       "      <th>2020-01-01</th>\n",
       "      <td>1.000000</td>\n",
       "      <td>1.143790</td>\n",
       "      <td>0.988383</td>\n",
       "      <td>1.177668</td>\n",
       "    </tr>\n",
       "    <tr>\n",
       "      <th>2020-01-02</th>\n",
       "      <td>1.110025</td>\n",
       "      <td>1.133157</td>\n",
       "      <td>1.070276</td>\n",
       "      <td>1.182922</td>\n",
       "    </tr>\n",
       "    <tr>\n",
       "      <th>2020-01-03</th>\n",
       "      <td>1.110861</td>\n",
       "      <td>1.132059</td>\n",
       "      <td>1.073035</td>\n",
       "      <td>1.180442</td>\n",
       "    </tr>\n",
       "    <tr>\n",
       "      <th>2020-01-04</th>\n",
       "      <td>1.112609</td>\n",
       "      <td>1.133004</td>\n",
       "      <td>1.074955</td>\n",
       "      <td>1.179737</td>\n",
       "    </tr>\n",
       "    <tr>\n",
       "      <th>2020-01-05</th>\n",
       "      <td>1.112397</td>\n",
       "      <td>1.133071</td>\n",
       "      <td>1.075761</td>\n",
       "      <td>1.177287</td>\n",
       "    </tr>\n",
       "  </tbody>\n",
       "</table>\n",
       "</div>"
      ],
      "text/plain": [
       "                open     close       low      high\n",
       "2020-01-01  1.000000  1.143790  0.988383  1.177668\n",
       "2020-01-02  1.110025  1.133157  1.070276  1.182922\n",
       "2020-01-03  1.110861  1.132059  1.073035  1.180442\n",
       "2020-01-04  1.112609  1.133004  1.074955  1.179737\n",
       "2020-01-05  1.112397  1.133071  1.075761  1.177287"
      ]
     },
     "execution_count": 18,
     "metadata": {},
     "output_type": "execute_result"
    }
   ],
   "source": [
    "daily_K_line(filter_first_up,5,open,close,high,low)"
   ]
  },
  {
   "cell_type": "code",
   "execution_count": null,
   "id": "8c4068f7-12c9-4818-b266-4c5c8dd47531",
   "metadata": {},
   "outputs": [],
   "source": []
  }
 ],
 "metadata": {
  "kernelspec": {
   "display_name": "Python 3 (ipykernel)",
   "language": "python",
   "name": "python3"
  },
  "language_info": {
   "codemirror_mode": {
    "name": "ipython",
    "version": 3
   },
   "file_extension": ".py",
   "mimetype": "text/x-python",
   "name": "python",
   "nbconvert_exporter": "python",
   "pygments_lexer": "ipython3",
   "version": "3.9.16"
  }
 },
 "nbformat": 4,
 "nbformat_minor": 5
}
