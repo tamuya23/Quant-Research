{
 "cells": [
  {
   "cell_type": "code",
   "execution_count": 1,
   "id": "d6f5d084-7f70-4487-a8c3-72a1730a8893",
   "metadata": {},
   "outputs": [],
   "source": [
    "import sys\n",
    "sys.path.append('/home/wangs/rs/lib')\n",
    "import ff\n",
    "import pickle\n",
    "import numpy as np\n",
    "import pandas as pd\n",
    "import seaborn as sns\n",
    "import matplotlib.pyplot as plt\n",
    "sns.set_style(\"whitegrid\")\n",
    "sns.set_palette(\"pastel\")\n",
    "from multiprocessing import Pool\n",
    "from tqdm import tqdm\n",
    "import statsmodels.api as sm\n",
    "from datetime import datetime\n",
    "import mplfinance as mpf\n",
    "from functools import partial"
   ]
  },
  {
   "cell_type": "code",
   "execution_count": 2,
   "id": "f1aa002a-8edd-4c31-a32e-fdf5a9eb9bde",
   "metadata": {},
   "outputs": [],
   "source": [
    "stock_index = ff.read('一字板').index\n",
    "time_index = ff.read('一字板').columns\n",
    "up = ff.read('up').loc[stock_index,time_index].copy()\n",
    "open = ff.read('open').loc[stock_index,time_index].copy()\n",
    "close = ff.read('close').loc[stock_index,time_index].copy()\n",
    "high = ff.read('high').loc[stock_index,time_index].copy()\n",
    "low = ff.read('low').loc[stock_index,time_index].copy()\n",
    "up_limit = pd.DataFrame(ff.read('up_limit').copy(),index = stock_index,columns = time_index) * ff.filter0.loc[stock_index,time_index]"
   ]
  },
  {
   "cell_type": "markdown",
   "id": "95c0db56-1920-47a0-9557-441904a56ea4",
   "metadata": {},
   "source": [
    "dict是当日的最高价曾经达到过最高价"
   ]
  },
  {
   "cell_type": "code",
   "execution_count": 3,
   "id": "8fc047e8-234b-4af8-a4a6-bd4aa010119d",
   "metadata": {},
   "outputs": [],
   "source": [
    "up_filter = (high == up_limit)\n",
    "dict = {}\n",
    "for i in up_filter.sum(axis = 1)[up_filter.sum(axis = 1)>0].index:\n",
    "    stock = up_filter.loc[i,:]\n",
    "    dict[i] = list(stock[stock == True].index)"
   ]
  },
  {
   "cell_type": "markdown",
   "id": "5af9921d-b7d7-442e-b478-c2c9af580325",
   "metadata": {},
   "source": [
    "这一分钟内最高价，最低价，收盘价都与up_limit相同，判断为封板时刻"
   ]
  },
  {
   "cell_type": "code",
   "execution_count": 4,
   "id": "98a14871-643f-4fe1-9d16-a54b678a9a20",
   "metadata": {},
   "outputs": [
    {
     "name": "stderr",
     "output_type": "stream",
     "text": [
      "100%|███████████████████████████████████████████████████████████████████████████████████████████████████████████████████████████████████████████████████████████████| 4417/4417 [03:57<00:00, 18.63it/s]\n"
     ]
    }
   ],
   "source": [
    "def up_first(stock):\n",
    "    first = []\n",
    "    for time in dict[stock]:\n",
    "        start_time = pd.to_datetime(time).strftime('%Y-%m-%d') + ' 09:31:00'\n",
    "        end_time = pd.to_datetime(time).strftime('%Y-%m-%d') + ' 15:00:00'\n",
    "        data = ff.read_min(stock).loc[start_time:end_time,:]\n",
    "        daily_up_limit = data.loc[:,'high_limit']\n",
    "        judge = (data.loc[:,'close'] == daily_up_limit) * (data.loc[:,'high'] == daily_up_limit) * (data.loc[:,'low'] == daily_up_limit)\n",
    "        try:\n",
    "            start_1 = np.argwhere((judge).values)[0][0]\n",
    "            first.append(start_1)\n",
    "        except:\n",
    "            first.append(np.nan)\n",
    "            pass\n",
    "    return first\n",
    "with Pool(24) as p:\n",
    "    res_lst = list(tqdm(p.imap(up_first,dict.keys()),total = len(dict.keys())))\n",
    "up_first_factor = pd.DataFrame(np.nan,index = up.index,columns = up.columns)\n",
    "for i in range(len(res_lst)):\n",
    "    for j in range(len(res_lst[i])):\n",
    "        up_first_factor.loc[list(dict.keys())[i],list(dict.values())[i][j]] = res_lst[i][j]"
   ]
  },
  {
   "cell_type": "code",
   "execution_count": 5,
   "id": "c3e597b0-1dd6-4c97-971b-118ab5c216ea",
   "metadata": {},
   "outputs": [],
   "source": [
    "ff.save('第一次封板时刻', up_first_factor)"
   ]
  },
  {
   "cell_type": "markdown",
   "id": "f425de11-fe08-472e-ae8e-b1beefea422e",
   "metadata": {},
   "source": [
    "第一次封板时刻成交量"
   ]
  },
  {
   "cell_type": "code",
   "execution_count": 6,
   "id": "b6e46eb2-00ab-4320-8e82-12b128ab07f0",
   "metadata": {},
   "outputs": [
    {
     "name": "stderr",
     "output_type": "stream",
     "text": [
      "100%|███████████████████████████████████████████████████████████████████████████████████████████████████████████████████████████████████████████████████████████████| 4417/4417 [03:56<00:00, 18.68it/s]\n"
     ]
    }
   ],
   "source": [
    "def up_first_volume(stock):\n",
    "    up_volume = []\n",
    "    for time in dict[stock]:\n",
    "        start_time = pd.to_datetime(time).strftime('%Y-%m-%d') + ' 09:31:00'\n",
    "        end_time = pd.to_datetime(time).strftime('%Y-%m-%d') + ' 15:00:00'\n",
    "        data = ff.read_min(stock).loc[start_time:end_time,:]\n",
    "        daily_up_limit = data.loc[:,'high_limit']\n",
    "        judge = (data.loc[:,'close'] == daily_up_limit) * (data.loc[:,'high'] == daily_up_limit) * (data.loc[:,'low'] == daily_up_limit)\n",
    "        try:\n",
    "            start_1 = np.argwhere((judge).values)[0][0]\n",
    "            volume = data.loc[:,'volume'][start_1]\n",
    "            up_volume.append(volume)\n",
    "        except:\n",
    "            up_volume.append(np.nan)\n",
    "            pass\n",
    "    return up_volume\n",
    "with Pool(24) as p:\n",
    "    res_lst = list(tqdm(p.imap(up_first_volume,dict.keys()),total = len(dict.keys())))\n",
    "up_first_volume_factor = pd.DataFrame(np.nan,index = up.index,columns = up.columns)\n",
    "for i in range(len(res_lst)):\n",
    "    for j in range(len(res_lst[i])):\n",
    "        up_first_volume_factor.loc[list(dict.keys())[i],list(dict.values())[i][j]] = res_lst[i][j]"
   ]
  },
  {
   "cell_type": "code",
   "execution_count": 7,
   "id": "1be275d4-2fe3-4d6d-85a5-ce9fda8d6ba1",
   "metadata": {},
   "outputs": [],
   "source": [
    "ff.save('第一次封板时刻成交量', up_first_volume_factor)"
   ]
  },
  {
   "cell_type": "markdown",
   "id": "fd22cb67-2d75-4376-a707-9b2ac2e1084c",
   "metadata": {},
   "source": [
    "第一次封板时刻成交量占比"
   ]
  },
  {
   "cell_type": "code",
   "execution_count": 8,
   "id": "29d2ebb7-67ae-42f2-a69e-42eaccdefeca",
   "metadata": {},
   "outputs": [
    {
     "name": "stderr",
     "output_type": "stream",
     "text": [
      "100%|███████████████████████████████████████████████████████████████████████████████████████████████████████████████████████████████████████████████████████████████| 4417/4417 [04:19<00:00, 17.00it/s]\n"
     ]
    }
   ],
   "source": [
    "def up_first_volume_ratio(stock):\n",
    "    volume_ratio = []\n",
    "    for time in dict[stock]:\n",
    "        start_time = pd.to_datetime(time).strftime('%Y-%m-%d') + ' 09:31:00'\n",
    "        end_time = pd.to_datetime(time).strftime('%Y-%m-%d') + ' 15:00:00'\n",
    "        data = ff.read_min(stock).loc[start_time:end_time,:]\n",
    "        daily_up_limit = data.loc[:,'high_limit']\n",
    "        judge = (data.loc[:,'close'] == daily_up_limit) * (data.loc[:,'high'] == daily_up_limit) * (data.loc[:,'low'] == daily_up_limit)\n",
    "        try:\n",
    "            start_1 = np.argwhere((judge).values)[0][0]\n",
    "            volume = data.loc[:,'volume'][start_1]\n",
    "            volume_sum = data.loc[:,'volume'].sum()\n",
    "            volume_ratio.append(volume/volume_sum)\n",
    "        except:\n",
    "            volume_ratio.append(np.nan)\n",
    "            pass\n",
    "    return volume_ratio\n",
    "with Pool(24) as p:\n",
    "    res_lst = list(tqdm(p.imap(up_first_volume_ratio,dict.keys()),total = len(dict.keys())))\n",
    "up_first_volume_ratio_factor = pd.DataFrame(np.nan,index = up.index,columns = up.columns)\n",
    "for i in range(len(res_lst)):\n",
    "    for j in range(len(res_lst[i])):\n",
    "        up_first_volume_ratio_factor.loc[list(dict.keys())[i],list(dict.values())[i][j]] = res_lst[i][j]"
   ]
  },
  {
   "cell_type": "code",
   "execution_count": 9,
   "id": "cad801ee-977b-4cde-a397-36da243adb4a",
   "metadata": {},
   "outputs": [],
   "source": [
    "ff.save('第一次封板时刻成交量占比', up_first_volume_ratio_factor)"
   ]
  },
  {
   "cell_type": "markdown",
   "id": "6a50e267-d195-4727-a5a4-6cb48e35546a",
   "metadata": {},
   "source": [
    "最后封板时刻"
   ]
  },
  {
   "cell_type": "code",
   "execution_count": 10,
   "id": "287fc6d9-1d09-4f1d-b615-9e6324c8a7b9",
   "metadata": {},
   "outputs": [
    {
     "name": "stderr",
     "output_type": "stream",
     "text": [
      "100%|███████████████████████████████████████████████████████████████████████████████████████████████████████████████████████████████████████████████████████████████| 4417/4417 [04:46<00:00, 15.40it/s]\n"
     ]
    }
   ],
   "source": [
    "def up_last(stock):\n",
    "    last = []\n",
    "    for time in dict[stock]:\n",
    "        start_time = pd.to_datetime(time).strftime('%Y-%m-%d') + ' 09:31:00'\n",
    "        end_time = pd.to_datetime(time).strftime('%Y-%m-%d') + ' 15:00:00'\n",
    "        data = ff.read_min(stock).loc[start_time:end_time,:]\n",
    "        daily_up_limit = data.loc[:,'high_limit']\n",
    "        judge = (data.loc[:,'close'] == daily_up_limit) * (data.loc[:,'high'] == daily_up_limit) * (data.loc[:,'low'] == daily_up_limit)\n",
    "        try:\n",
    "            start_1 = np.argwhere((judge).values)[-1][0]\n",
    "            try:\n",
    "                last.append(start_1 - np.where(np.flip((judge).values[:start_1]) == False)[0][0])\n",
    "            except:\n",
    "                last.append(0)\n",
    "        except:\n",
    "            last.append(np.nan)\n",
    "            pass\n",
    "    return last\n",
    "with Pool(24) as p:\n",
    "    res_lst = list(tqdm(p.imap(up_last,dict.keys()),total = len(dict.keys())))\n",
    "up_last_factor = pd.DataFrame(np.nan,index = up.index,columns = up.columns)\n",
    "for i in range(len(res_lst)):\n",
    "    for j in range(len(res_lst[i])):\n",
    "        up_last_factor.loc[list(dict.keys())[i],list(dict.values())[i][j]] = res_lst[i][j]"
   ]
  },
  {
   "cell_type": "code",
   "execution_count": 11,
   "id": "1e5d00a1-6464-4d72-a766-735dc1253b3b",
   "metadata": {},
   "outputs": [],
   "source": [
    "ff.save('最后封板时刻', up_last_factor)"
   ]
  },
  {
   "cell_type": "markdown",
   "id": "dffc3437-2f91-42de-bd97-def970969d3d",
   "metadata": {},
   "source": [
    "最后封板时刻成交量"
   ]
  },
  {
   "cell_type": "code",
   "execution_count": 12,
   "id": "1d9d3f39-8bdd-4a35-a2b4-21dda1e65c7e",
   "metadata": {},
   "outputs": [
    {
     "name": "stderr",
     "output_type": "stream",
     "text": [
      "100%|███████████████████████████████████████████████████████████████████████████████████████████████████████████████████████████████████████████████████████████████| 4417/4417 [03:59<00:00, 18.43it/s]\n"
     ]
    }
   ],
   "source": [
    "def up_last_volume(stock):\n",
    "    up_volume = []\n",
    "    for time in dict[stock]:\n",
    "        start_time = pd.to_datetime(time).strftime('%Y-%m-%d') + ' 09:31:00'\n",
    "        end_time = pd.to_datetime(time).strftime('%Y-%m-%d') + ' 15:00:00'\n",
    "        data = ff.read_min(stock).loc[start_time:end_time,:]\n",
    "        daily_up_limit = data.loc[:,'high_limit']\n",
    "        judge = (data.loc[:,'close'] == daily_up_limit) * (data.loc[:,'high'] == daily_up_limit) * (data.loc[:,'low'] == daily_up_limit)\n",
    "        try:\n",
    "            start_1 = np.argwhere((judge).values)[-1][0]\n",
    "            try:\n",
    "                last_1 = (start_1 - np.where(np.flip((judge).values[:start_1]) == False)[0][0])\n",
    "            except:\n",
    "                last_1 = 0\n",
    "            volume = data.loc[:,'volume'][last_1]\n",
    "            up_volume.append(volume)\n",
    "        except:\n",
    "            up_volume.append(np.nan)\n",
    "            pass\n",
    "    return up_volume\n",
    "with Pool(24) as p:\n",
    "    res_lst = list(tqdm(p.imap(up_last_volume,dict.keys()),total = len(dict.keys())))\n",
    "up_last_volume_factor = pd.DataFrame(np.nan,index = up.index,columns = up.columns)\n",
    "for i in range(len(res_lst)):\n",
    "    for j in range(len(res_lst[i])):\n",
    "        up_last_volume_factor.loc[list(dict.keys())[i],list(dict.values())[i][j]] = res_lst[i][j]"
   ]
  },
  {
   "cell_type": "code",
   "execution_count": 13,
   "id": "0e46e6eb-ac7d-489c-974d-685d5d1af414",
   "metadata": {},
   "outputs": [],
   "source": [
    "ff.save('最后封板时刻成交量', up_last_volume_factor)"
   ]
  },
  {
   "cell_type": "markdown",
   "id": "253cf7cf-b4b3-418f-baad-ff1a20e6e69d",
   "metadata": {},
   "source": [
    "最后封板时刻成交量占比"
   ]
  },
  {
   "cell_type": "code",
   "execution_count": 14,
   "id": "734e4a84-098e-43dc-a049-adadd7318eff",
   "metadata": {},
   "outputs": [
    {
     "name": "stderr",
     "output_type": "stream",
     "text": [
      "100%|███████████████████████████████████████████████████████████████████████████████████████████████████████████████████████████████████████████████████████████████| 4417/4417 [04:28<00:00, 16.43it/s]\n"
     ]
    }
   ],
   "source": [
    "def up_last_volume_ratio(stock):\n",
    "    up_volume = []\n",
    "    for time in dict[stock]:\n",
    "        start_time = pd.to_datetime(time).strftime('%Y-%m-%d') + ' 09:31:00'\n",
    "        end_time = pd.to_datetime(time).strftime('%Y-%m-%d') + ' 15:00:00'\n",
    "        data = ff.read_min(stock).loc[start_time:end_time,:]\n",
    "        daily_up_limit = data.loc[:,'high_limit']\n",
    "        volume_sum = data.loc[:,'volume'].sum()\n",
    "        judge = (data.loc[:,'close'] == daily_up_limit) * (data.loc[:,'high'] == daily_up_limit) * (data.loc[:,'low'] == daily_up_limit)\n",
    "        try:\n",
    "            start_1 = np.argwhere((judge).values)[-1][0]\n",
    "            try:\n",
    "                last_1 = (start_1 - np.where(np.flip((judge).values[:start_1]) == False)[0][0])\n",
    "            except:\n",
    "                last_1 = 0\n",
    "            volume = data.loc[:,'volume'][last_1]\n",
    "            up_volume.append(volume/volume_sum)\n",
    "        except:\n",
    "            up_volume.append(np.nan)\n",
    "            pass\n",
    "    return up_volume\n",
    "with Pool(24) as p:\n",
    "    res_lst = list(tqdm(p.imap(up_last_volume_ratio,dict.keys()),total = len(dict.keys())))\n",
    "up_last_volume_ratio_factor = pd.DataFrame(np.nan,index = up.index,columns = up.columns)\n",
    "for i in range(len(res_lst)):\n",
    "    for j in range(len(res_lst[i])):\n",
    "        up_last_volume_ratio_factor.loc[list(dict.keys())[i],list(dict.values())[i][j]] = res_lst[i][j]"
   ]
  },
  {
   "cell_type": "code",
   "execution_count": 15,
   "id": "1e4a7598-71d2-48dc-9bea-0ad5ad1f9950",
   "metadata": {},
   "outputs": [],
   "source": [
    "ff.save('最后封板时刻成交量占比', up_last_volume_ratio_factor)"
   ]
  },
  {
   "cell_type": "markdown",
   "id": "4ef2ddce-3eeb-4179-85c0-74e69f5471f8",
   "metadata": {},
   "source": [
    "板上成交量"
   ]
  },
  {
   "cell_type": "code",
   "execution_count": 16,
   "id": "61c364a5-b87a-4fcb-9f35-cf712a829191",
   "metadata": {},
   "outputs": [
    {
     "name": "stderr",
     "output_type": "stream",
     "text": [
      "100%|███████████████████████████████████████████████████████████████████████████████████████████████████████████████████████████████████████████████████████████████| 4417/4417 [05:18<00:00, 13.87it/s]\n"
     ]
    }
   ],
   "source": [
    "def up_volume(stock):\n",
    "    up_volume_list = []\n",
    "    for time in dict[stock]:\n",
    "        start_time = pd.to_datetime(time).strftime('%Y-%m-%d') + ' 09:31:00'\n",
    "        end_time = pd.to_datetime(time).strftime('%Y-%m-%d') + ' 15:00:00'\n",
    "        data = ff.read_min(stock).loc[start_time:end_time,:]\n",
    "        daily_up_limit = data.loc[:,'high_limit']\n",
    "        volume_sum = data.loc[:,'volume'].sum()\n",
    "        judge = (data.loc[:,'close'] == daily_up_limit) * (data.loc[:,'high'] == daily_up_limit) * (data.loc[:,'low'] == daily_up_limit)\n",
    "        volume = (judge * data.loc[:,'volume']).sum()\n",
    "        if volume>0:\n",
    "            up_volume_list.append(volume)\n",
    "        else:\n",
    "            up_volume_list.append(np.nan)\n",
    "            pass\n",
    "    return up_volume_list\n",
    "with Pool(24) as p:\n",
    "    res_lst = list(tqdm(p.imap(up_volume,dict.keys()),total = len(dict.keys())))\n",
    "up_factor = pd.DataFrame(np.nan,index = up.index,columns = up.columns)\n",
    "for i in range(len(res_lst)):\n",
    "    for j in range(len(res_lst[i])):\n",
    "        up_factor.loc[list(dict.keys())[i],list(dict.values())[i][j]] = res_lst[i][j]"
   ]
  },
  {
   "cell_type": "code",
   "execution_count": 17,
   "id": "a788e9ac-aedc-49c6-a0a2-1acfe05eea17",
   "metadata": {},
   "outputs": [
    {
     "data": {
      "text/plain": [
       "51950"
      ]
     },
     "execution_count": 17,
     "metadata": {},
     "output_type": "execute_result"
    }
   ],
   "source": [
    "up_factor.count().sum()"
   ]
  },
  {
   "cell_type": "code",
   "execution_count": 18,
   "id": "647dc85e-685b-41fb-bde2-716aa7a88400",
   "metadata": {},
   "outputs": [],
   "source": [
    "ff.save('板上成交量', up_factor)"
   ]
  },
  {
   "cell_type": "markdown",
   "id": "84cf12dc-0148-4741-8ae6-078fe38ddaba",
   "metadata": {},
   "source": [
    "板上成交量占比"
   ]
  },
  {
   "cell_type": "code",
   "execution_count": 19,
   "id": "73072518-1ad6-4cea-8ed3-cb4a50bde279",
   "metadata": {},
   "outputs": [
    {
     "name": "stderr",
     "output_type": "stream",
     "text": [
      "100%|███████████████████████████████████████████████████████████████████████████████████████████████████████████████████████████████████████████████████████████████| 4417/4417 [04:53<00:00, 15.06it/s]\n"
     ]
    }
   ],
   "source": [
    "def up_volume_ratio(stock):\n",
    "    up_volume_list = []\n",
    "    for time in dict[stock]:\n",
    "        start_time = pd.to_datetime(time).strftime('%Y-%m-%d') + ' 09:31:00'\n",
    "        end_time = pd.to_datetime(time).strftime('%Y-%m-%d') + ' 15:00:00'\n",
    "        data = ff.read_min(stock).loc[start_time:end_time,:]\n",
    "        daily_up_limit = data.loc[:,'high_limit']\n",
    "        volume_sum = data.loc[:,'volume'].sum()\n",
    "        judge = (data.loc[:,'close'] == daily_up_limit) * (data.loc[:,'high'] == daily_up_limit) * (data.loc[:,'low'] == daily_up_limit)\n",
    "        volume = (judge * data.loc[:,'volume']).sum()\n",
    "        if volume>0:\n",
    "            up_volume_list.append(volume/volume_sum)\n",
    "        else:\n",
    "            up_volume_list.append(np.nan)\n",
    "            pass\n",
    "    return up_volume_list\n",
    "with Pool(24) as p:\n",
    "    res_lst = list(tqdm(p.imap(up_volume_ratio,dict.keys()),total = len(dict.keys())))\n",
    "up_ratio_factor = pd.DataFrame(np.nan,index = up.index,columns = up.columns)\n",
    "for i in range(len(res_lst)):\n",
    "    for j in range(len(res_lst[i])):\n",
    "        up_ratio_factor.loc[list(dict.keys())[i],list(dict.values())[i][j]] = res_lst[i][j]"
   ]
  },
  {
   "cell_type": "code",
   "execution_count": 20,
   "id": "1cb0f0b5-85ba-4d4d-9bb9-9ae99b4d5daf",
   "metadata": {},
   "outputs": [
    {
     "data": {
      "text/html": [
       "<div>\n",
       "<style scoped>\n",
       "    .dataframe tbody tr th:only-of-type {\n",
       "        vertical-align: middle;\n",
       "    }\n",
       "\n",
       "    .dataframe tbody tr th {\n",
       "        vertical-align: top;\n",
       "    }\n",
       "\n",
       "    .dataframe thead th {\n",
       "        text-align: right;\n",
       "    }\n",
       "</style>\n",
       "<table border=\"1\" class=\"dataframe\">\n",
       "  <thead>\n",
       "    <tr style=\"text-align: right;\">\n",
       "      <th></th>\n",
       "      <th>20200825</th>\n",
       "      <th>20200826</th>\n",
       "      <th>20200827</th>\n",
       "      <th>20200828</th>\n",
       "      <th>20200831</th>\n",
       "      <th>20200901</th>\n",
       "      <th>20200902</th>\n",
       "      <th>20200903</th>\n",
       "      <th>20200904</th>\n",
       "      <th>20200907</th>\n",
       "      <th>...</th>\n",
       "      <th>20240221</th>\n",
       "      <th>20240222</th>\n",
       "      <th>20240223</th>\n",
       "      <th>20240226</th>\n",
       "      <th>20240227</th>\n",
       "      <th>20240228</th>\n",
       "      <th>20240229</th>\n",
       "      <th>20240301</th>\n",
       "      <th>20240304</th>\n",
       "      <th>20240305</th>\n",
       "    </tr>\n",
       "  </thead>\n",
       "  <tbody>\n",
       "    <tr>\n",
       "      <th>000001.SZ</th>\n",
       "      <td>NaN</td>\n",
       "      <td>NaN</td>\n",
       "      <td>NaN</td>\n",
       "      <td>NaN</td>\n",
       "      <td>NaN</td>\n",
       "      <td>NaN</td>\n",
       "      <td>NaN</td>\n",
       "      <td>NaN</td>\n",
       "      <td>NaN</td>\n",
       "      <td>NaN</td>\n",
       "      <td>...</td>\n",
       "      <td>0.295367</td>\n",
       "      <td>NaN</td>\n",
       "      <td>NaN</td>\n",
       "      <td>NaN</td>\n",
       "      <td>NaN</td>\n",
       "      <td>NaN</td>\n",
       "      <td>NaN</td>\n",
       "      <td>NaN</td>\n",
       "      <td>NaN</td>\n",
       "      <td>NaN</td>\n",
       "    </tr>\n",
       "    <tr>\n",
       "      <th>000002.SZ</th>\n",
       "      <td>NaN</td>\n",
       "      <td>NaN</td>\n",
       "      <td>NaN</td>\n",
       "      <td>NaN</td>\n",
       "      <td>NaN</td>\n",
       "      <td>NaN</td>\n",
       "      <td>NaN</td>\n",
       "      <td>NaN</td>\n",
       "      <td>NaN</td>\n",
       "      <td>NaN</td>\n",
       "      <td>...</td>\n",
       "      <td>NaN</td>\n",
       "      <td>NaN</td>\n",
       "      <td>NaN</td>\n",
       "      <td>NaN</td>\n",
       "      <td>NaN</td>\n",
       "      <td>NaN</td>\n",
       "      <td>NaN</td>\n",
       "      <td>NaN</td>\n",
       "      <td>NaN</td>\n",
       "      <td>NaN</td>\n",
       "    </tr>\n",
       "    <tr>\n",
       "      <th>000004.SZ</th>\n",
       "      <td>NaN</td>\n",
       "      <td>NaN</td>\n",
       "      <td>NaN</td>\n",
       "      <td>NaN</td>\n",
       "      <td>0.178203</td>\n",
       "      <td>NaN</td>\n",
       "      <td>NaN</td>\n",
       "      <td>NaN</td>\n",
       "      <td>NaN</td>\n",
       "      <td>NaN</td>\n",
       "      <td>...</td>\n",
       "      <td>NaN</td>\n",
       "      <td>NaN</td>\n",
       "      <td>NaN</td>\n",
       "      <td>NaN</td>\n",
       "      <td>0.093085</td>\n",
       "      <td>NaN</td>\n",
       "      <td>NaN</td>\n",
       "      <td>NaN</td>\n",
       "      <td>NaN</td>\n",
       "      <td>NaN</td>\n",
       "    </tr>\n",
       "    <tr>\n",
       "      <th>000005.SZ</th>\n",
       "      <td>NaN</td>\n",
       "      <td>NaN</td>\n",
       "      <td>NaN</td>\n",
       "      <td>NaN</td>\n",
       "      <td>NaN</td>\n",
       "      <td>NaN</td>\n",
       "      <td>NaN</td>\n",
       "      <td>NaN</td>\n",
       "      <td>NaN</td>\n",
       "      <td>NaN</td>\n",
       "      <td>...</td>\n",
       "      <td>NaN</td>\n",
       "      <td>NaN</td>\n",
       "      <td>NaN</td>\n",
       "      <td>NaN</td>\n",
       "      <td>NaN</td>\n",
       "      <td>NaN</td>\n",
       "      <td>NaN</td>\n",
       "      <td>NaN</td>\n",
       "      <td>NaN</td>\n",
       "      <td>NaN</td>\n",
       "    </tr>\n",
       "    <tr>\n",
       "      <th>000006.SZ</th>\n",
       "      <td>NaN</td>\n",
       "      <td>NaN</td>\n",
       "      <td>NaN</td>\n",
       "      <td>NaN</td>\n",
       "      <td>NaN</td>\n",
       "      <td>NaN</td>\n",
       "      <td>NaN</td>\n",
       "      <td>NaN</td>\n",
       "      <td>NaN</td>\n",
       "      <td>NaN</td>\n",
       "      <td>...</td>\n",
       "      <td>NaN</td>\n",
       "      <td>NaN</td>\n",
       "      <td>NaN</td>\n",
       "      <td>NaN</td>\n",
       "      <td>NaN</td>\n",
       "      <td>NaN</td>\n",
       "      <td>NaN</td>\n",
       "      <td>NaN</td>\n",
       "      <td>NaN</td>\n",
       "      <td>NaN</td>\n",
       "    </tr>\n",
       "    <tr>\n",
       "      <th>...</th>\n",
       "      <td>...</td>\n",
       "      <td>...</td>\n",
       "      <td>...</td>\n",
       "      <td>...</td>\n",
       "      <td>...</td>\n",
       "      <td>...</td>\n",
       "      <td>...</td>\n",
       "      <td>...</td>\n",
       "      <td>...</td>\n",
       "      <td>...</td>\n",
       "      <td>...</td>\n",
       "      <td>...</td>\n",
       "      <td>...</td>\n",
       "      <td>...</td>\n",
       "      <td>...</td>\n",
       "      <td>...</td>\n",
       "      <td>...</td>\n",
       "      <td>...</td>\n",
       "      <td>...</td>\n",
       "      <td>...</td>\n",
       "      <td>...</td>\n",
       "    </tr>\n",
       "    <tr>\n",
       "      <th>873703.BJ</th>\n",
       "      <td>NaN</td>\n",
       "      <td>NaN</td>\n",
       "      <td>NaN</td>\n",
       "      <td>NaN</td>\n",
       "      <td>NaN</td>\n",
       "      <td>NaN</td>\n",
       "      <td>NaN</td>\n",
       "      <td>NaN</td>\n",
       "      <td>NaN</td>\n",
       "      <td>NaN</td>\n",
       "      <td>...</td>\n",
       "      <td>NaN</td>\n",
       "      <td>NaN</td>\n",
       "      <td>NaN</td>\n",
       "      <td>NaN</td>\n",
       "      <td>NaN</td>\n",
       "      <td>NaN</td>\n",
       "      <td>NaN</td>\n",
       "      <td>NaN</td>\n",
       "      <td>NaN</td>\n",
       "      <td>NaN</td>\n",
       "    </tr>\n",
       "    <tr>\n",
       "      <th>873706.BJ</th>\n",
       "      <td>NaN</td>\n",
       "      <td>NaN</td>\n",
       "      <td>NaN</td>\n",
       "      <td>NaN</td>\n",
       "      <td>NaN</td>\n",
       "      <td>NaN</td>\n",
       "      <td>NaN</td>\n",
       "      <td>NaN</td>\n",
       "      <td>NaN</td>\n",
       "      <td>NaN</td>\n",
       "      <td>...</td>\n",
       "      <td>NaN</td>\n",
       "      <td>NaN</td>\n",
       "      <td>NaN</td>\n",
       "      <td>NaN</td>\n",
       "      <td>NaN</td>\n",
       "      <td>NaN</td>\n",
       "      <td>NaN</td>\n",
       "      <td>NaN</td>\n",
       "      <td>NaN</td>\n",
       "      <td>NaN</td>\n",
       "    </tr>\n",
       "    <tr>\n",
       "      <th>873726.BJ</th>\n",
       "      <td>NaN</td>\n",
       "      <td>NaN</td>\n",
       "      <td>NaN</td>\n",
       "      <td>NaN</td>\n",
       "      <td>NaN</td>\n",
       "      <td>NaN</td>\n",
       "      <td>NaN</td>\n",
       "      <td>NaN</td>\n",
       "      <td>NaN</td>\n",
       "      <td>NaN</td>\n",
       "      <td>...</td>\n",
       "      <td>NaN</td>\n",
       "      <td>NaN</td>\n",
       "      <td>NaN</td>\n",
       "      <td>NaN</td>\n",
       "      <td>NaN</td>\n",
       "      <td>NaN</td>\n",
       "      <td>NaN</td>\n",
       "      <td>NaN</td>\n",
       "      <td>NaN</td>\n",
       "      <td>NaN</td>\n",
       "    </tr>\n",
       "    <tr>\n",
       "      <th>873806.BJ</th>\n",
       "      <td>NaN</td>\n",
       "      <td>NaN</td>\n",
       "      <td>NaN</td>\n",
       "      <td>NaN</td>\n",
       "      <td>NaN</td>\n",
       "      <td>NaN</td>\n",
       "      <td>NaN</td>\n",
       "      <td>NaN</td>\n",
       "      <td>NaN</td>\n",
       "      <td>NaN</td>\n",
       "      <td>...</td>\n",
       "      <td>NaN</td>\n",
       "      <td>NaN</td>\n",
       "      <td>NaN</td>\n",
       "      <td>NaN</td>\n",
       "      <td>NaN</td>\n",
       "      <td>NaN</td>\n",
       "      <td>NaN</td>\n",
       "      <td>NaN</td>\n",
       "      <td>NaN</td>\n",
       "      <td>NaN</td>\n",
       "    </tr>\n",
       "    <tr>\n",
       "      <th>873833.BJ</th>\n",
       "      <td>NaN</td>\n",
       "      <td>NaN</td>\n",
       "      <td>NaN</td>\n",
       "      <td>NaN</td>\n",
       "      <td>NaN</td>\n",
       "      <td>NaN</td>\n",
       "      <td>NaN</td>\n",
       "      <td>NaN</td>\n",
       "      <td>NaN</td>\n",
       "      <td>NaN</td>\n",
       "      <td>...</td>\n",
       "      <td>NaN</td>\n",
       "      <td>NaN</td>\n",
       "      <td>NaN</td>\n",
       "      <td>NaN</td>\n",
       "      <td>NaN</td>\n",
       "      <td>NaN</td>\n",
       "      <td>NaN</td>\n",
       "      <td>NaN</td>\n",
       "      <td>NaN</td>\n",
       "      <td>NaN</td>\n",
       "    </tr>\n",
       "  </tbody>\n",
       "</table>\n",
       "<p>5539 rows × 854 columns</p>\n",
       "</div>"
      ],
      "text/plain": [
       "           20200825  20200826  20200827  20200828  20200831  20200901  \\\n",
       "000001.SZ       NaN       NaN       NaN       NaN       NaN       NaN   \n",
       "000002.SZ       NaN       NaN       NaN       NaN       NaN       NaN   \n",
       "000004.SZ       NaN       NaN       NaN       NaN  0.178203       NaN   \n",
       "000005.SZ       NaN       NaN       NaN       NaN       NaN       NaN   \n",
       "000006.SZ       NaN       NaN       NaN       NaN       NaN       NaN   \n",
       "...             ...       ...       ...       ...       ...       ...   \n",
       "873703.BJ       NaN       NaN       NaN       NaN       NaN       NaN   \n",
       "873706.BJ       NaN       NaN       NaN       NaN       NaN       NaN   \n",
       "873726.BJ       NaN       NaN       NaN       NaN       NaN       NaN   \n",
       "873806.BJ       NaN       NaN       NaN       NaN       NaN       NaN   \n",
       "873833.BJ       NaN       NaN       NaN       NaN       NaN       NaN   \n",
       "\n",
       "           20200902  20200903  20200904  20200907  ...  20240221  20240222  \\\n",
       "000001.SZ       NaN       NaN       NaN       NaN  ...  0.295367       NaN   \n",
       "000002.SZ       NaN       NaN       NaN       NaN  ...       NaN       NaN   \n",
       "000004.SZ       NaN       NaN       NaN       NaN  ...       NaN       NaN   \n",
       "000005.SZ       NaN       NaN       NaN       NaN  ...       NaN       NaN   \n",
       "000006.SZ       NaN       NaN       NaN       NaN  ...       NaN       NaN   \n",
       "...             ...       ...       ...       ...  ...       ...       ...   \n",
       "873703.BJ       NaN       NaN       NaN       NaN  ...       NaN       NaN   \n",
       "873706.BJ       NaN       NaN       NaN       NaN  ...       NaN       NaN   \n",
       "873726.BJ       NaN       NaN       NaN       NaN  ...       NaN       NaN   \n",
       "873806.BJ       NaN       NaN       NaN       NaN  ...       NaN       NaN   \n",
       "873833.BJ       NaN       NaN       NaN       NaN  ...       NaN       NaN   \n",
       "\n",
       "           20240223  20240226  20240227  20240228  20240229  20240301  \\\n",
       "000001.SZ       NaN       NaN       NaN       NaN       NaN       NaN   \n",
       "000002.SZ       NaN       NaN       NaN       NaN       NaN       NaN   \n",
       "000004.SZ       NaN       NaN  0.093085       NaN       NaN       NaN   \n",
       "000005.SZ       NaN       NaN       NaN       NaN       NaN       NaN   \n",
       "000006.SZ       NaN       NaN       NaN       NaN       NaN       NaN   \n",
       "...             ...       ...       ...       ...       ...       ...   \n",
       "873703.BJ       NaN       NaN       NaN       NaN       NaN       NaN   \n",
       "873706.BJ       NaN       NaN       NaN       NaN       NaN       NaN   \n",
       "873726.BJ       NaN       NaN       NaN       NaN       NaN       NaN   \n",
       "873806.BJ       NaN       NaN       NaN       NaN       NaN       NaN   \n",
       "873833.BJ       NaN       NaN       NaN       NaN       NaN       NaN   \n",
       "\n",
       "           20240304  20240305  \n",
       "000001.SZ       NaN       NaN  \n",
       "000002.SZ       NaN       NaN  \n",
       "000004.SZ       NaN       NaN  \n",
       "000005.SZ       NaN       NaN  \n",
       "000006.SZ       NaN       NaN  \n",
       "...             ...       ...  \n",
       "873703.BJ       NaN       NaN  \n",
       "873706.BJ       NaN       NaN  \n",
       "873726.BJ       NaN       NaN  \n",
       "873806.BJ       NaN       NaN  \n",
       "873833.BJ       NaN       NaN  \n",
       "\n",
       "[5539 rows x 854 columns]"
      ]
     },
     "execution_count": 20,
     "metadata": {},
     "output_type": "execute_result"
    }
   ],
   "source": [
    "up_ratio_factor"
   ]
  },
  {
   "cell_type": "code",
   "execution_count": 21,
   "id": "e3445c51-fc58-4e14-a000-9560db56a29a",
   "metadata": {},
   "outputs": [],
   "source": [
    "ff.save('板上成交量占比', up_ratio_factor)"
   ]
  },
  {
   "cell_type": "code",
   "execution_count": null,
   "id": "b291f89d-8207-49f4-8b42-ad4d5212073a",
   "metadata": {},
   "outputs": [],
   "source": []
  }
 ],
 "metadata": {
  "kernelspec": {
   "display_name": "Python 3 (ipykernel)",
   "language": "python",
   "name": "python3"
  },
  "language_info": {
   "codemirror_mode": {
    "name": "ipython",
    "version": 3
   },
   "file_extension": ".py",
   "mimetype": "text/x-python",
   "name": "python",
   "nbconvert_exporter": "python",
   "pygments_lexer": "ipython3",
   "version": "3.9.16"
  }
 },
 "nbformat": 4,
 "nbformat_minor": 5
}
