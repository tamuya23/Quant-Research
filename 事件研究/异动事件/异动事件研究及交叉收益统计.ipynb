{
 "cells": [
  {
   "cell_type": "code",
   "execution_count": 1,
   "id": "51f0b0f1-fc23-494e-a522-374d1ccbdd1d",
   "metadata": {},
   "outputs": [],
   "source": [
    "import sys\n",
    "sys.path.append('/home/wangs/rs/lib')\n",
    "import ff\n",
    "import pickle\n",
    "import numpy as np\n",
    "import pandas as pd\n",
    "import seaborn as sns\n",
    "import matplotlib.pyplot as plt\n",
    "sns.set_style(\"whitegrid\")\n",
    "sns.set_palette(\"pastel\")\n",
    "from multiprocessing import Pool\n",
    "from tqdm import tqdm\n",
    "import statsmodels.api as sm\n",
    "from datetime import datetime\n",
    "import mplfinance as mpf\n",
    "from functools import partial"
   ]
  },
  {
   "cell_type": "markdown",
   "id": "d5dc8736-6e2a-4289-8e95-481a77d08200",
   "metadata": {},
   "source": [
    "涨幅标准：10cm - 20cm"
   ]
  },
  {
   "cell_type": "code",
   "execution_count": 3,
   "id": "a61ab612-af26-4809-be17-44d8a13aaab8",
   "metadata": {},
   "outputs": [
    {
     "name": "stdout",
     "output_type": "stream",
     "text": [
      "当前进程的内存使用：3.3614 GB\n",
      "电脑总内存：1007.4503 GB\n",
      "当前使用的总内存占比： 68.9\n",
      "cpu个数： 256\n"
     ]
    }
   ],
   "source": [
    "import psutil\n",
    "import os\n",
    "print(u'当前进程的内存使用：%.4f GB' % (psutil.Process(os.getpid()).memory_info().rss / 1024 ** 3) )\n",
    "info = psutil.virtual_memory()\n",
    "print(u'电脑总内存：%.4f GB' % (info.total / 1024 ** 3))\n",
    "print(u'当前使用的总内存占比：', info.percent)\n",
    "print(u'cpu个数：', psutil.cpu_count())"
   ]
  },
  {
   "cell_type": "code",
   "execution_count": 3,
   "id": "74f58b92-649b-43ab-be09-eac285cb325b",
   "metadata": {},
   "outputs": [],
   "source": [
    "#涨幅标准10cm\n",
    "data_10 = ff.filter0.loc[:'873833.BJ','20200825':].copy()\n",
    "filtered_index = data_10.index.str.startswith('30') | data_10.index.str.startswith('68') | data_10.index.str.endswith('BJ')\n",
    "data_10.loc[filtered_index,:] = np.nan\n",
    "ff.save('10cm', data_10)"
   ]
  },
  {
   "cell_type": "code",
   "execution_count": 4,
   "id": "422a83dc-7884-4ee0-96d3-732d2db1d81b",
   "metadata": {},
   "outputs": [],
   "source": [
    "#涨幅标准20cm\n",
    "data_20 = ff.filter0.loc[:'873833.BJ','20200825':].copy()\n",
    "filtered_index = data_10.index.str.startswith('30') | data_10.index.str.startswith('68')\n",
    "data_20.loc[~filtered_index,:] = np.nan\n",
    "ff.save('20cm', data_20)"
   ]
  },
  {
   "cell_type": "code",
   "execution_count": 5,
   "id": "6b0206b5-4902-4f0a-bec8-d1b456ea92fc",
   "metadata": {},
   "outputs": [],
   "source": [
    "#次数标准\n",
    "#五日首板\n",
    "up = ff.read('up').loc[data_10.index,data_10.columns].copy()\n",
    "up_5 = (up.replace({np.nan:0}).rolling(window = 4,axis = 1,closed = 'left').sum() == 0) * up\n",
    "up_5 = up_5.replace({0.0:np.nan})\n",
    "ff.save('5日首板', up_5)"
   ]
  },
  {
   "cell_type": "code",
   "execution_count": 6,
   "id": "c21db83e-8f33-4bd7-bab5-07cbe1654a81",
   "metadata": {},
   "outputs": [],
   "source": [
    "#三十日首板\n",
    "up = ff.read('up').loc[data_10.index,data_10.columns].copy()\n",
    "up_30 = (up.replace({np.nan:0}).rolling(window = 29,axis = 1,closed = 'left').sum() == 0) * up\n",
    "up_30 = up_30.replace({0.0:np.nan})\n",
    "ff.save('30日首板', up_30)"
   ]
  },
  {
   "cell_type": "code",
   "execution_count": 7,
   "id": "4e5299f9-c6c3-425c-aba6-3e06be65222d",
   "metadata": {},
   "outputs": [],
   "source": [
    "#连板 (5连板)\n",
    "up = ff.read('up').loc[data_10.index,data_10.columns].copy()\n",
    "up_5_con = ((up.replace({np.nan:0}).rolling(window = 5,axis = 1).sum() == 5) * (up.replace({np.nan:0}).rolling(window = 6,axis = 1).sum() >= 5))\n",
    "up_5_con = up_5_con.replace({0.0:np.nan}).replace({False:np.nan,True:1.0})\n",
    "ff.save('5连板', up_5_con)"
   ]
  },
  {
   "cell_type": "code",
   "execution_count": 8,
   "id": "0b4e429a-b0f1-467d-af05-f1c0599c91cc",
   "metadata": {},
   "outputs": [],
   "source": [
    "#连板 (4连板)\n",
    "up = ff.read('up').loc[data_10.index,data_10.columns].copy()\n",
    "up_4_con = ((up.replace({np.nan:0}).rolling(window = 4,axis = 1).sum() == 4) * (up.replace({np.nan:0}).rolling(window = 5,axis = 1).sum() == 4))\n",
    "up_4_con = up_4_con.replace({0.0:np.nan}).replace({False:np.nan,True:1.0})\n",
    "ff.save('4连板', up_4_con)"
   ]
  },
  {
   "cell_type": "code",
   "execution_count": 9,
   "id": "f7c04bed-03a9-48c0-84fc-2e027d7ee960",
   "metadata": {},
   "outputs": [],
   "source": [
    "#连板 (3连板)\n",
    "up = ff.read('up').loc[data_10.index,data_10.columns].copy()\n",
    "up_3_con = ((up.replace({np.nan:0}).rolling(window = 3,axis = 1).sum() == 3) * (up.replace({np.nan:0}).rolling(window = 4,axis = 1).sum() == 3))\n",
    "up_3_con = up_3_con.replace({0.0:np.nan}).replace({False:np.nan,True:1.0})\n",
    "ff.save('3连板', up_3_con)"
   ]
  },
  {
   "cell_type": "code",
   "execution_count": 10,
   "id": "77eb148d-015b-40ed-aba9-d2296265eef0",
   "metadata": {},
   "outputs": [],
   "source": [
    "#连板 (2连板)\n",
    "up = ff.read('up').loc[data_10.index,data_10.columns].copy()\n",
    "up_2_con = ((up.replace({np.nan:0}).rolling(window = 2,axis = 1).sum() == 2) * (up.replace({np.nan:0}).rolling(window = 3,axis = 1).sum() == 2))\n",
    "up_2_con = up_2_con.replace({0.0:np.nan}).replace({False:np.nan,True:1.0})\n",
    "ff.save('2连板', up_2_con)"
   ]
  },
  {
   "cell_type": "code",
   "execution_count": 11,
   "id": "0f7559d7-c415-4955-a2e0-7505c87a6bb5",
   "metadata": {},
   "outputs": [],
   "source": [
    "up_N_con = (up_2_con.replace({np.nan:0}) * 2 +  up_3_con.replace({np.nan:0}) * 3 + up_4_con.replace({np.nan:0}) * 4 + up_5_con.replace({np.nan:0}) * 5).replace({0:np.nan})\n",
    "# ff.save('N连板', up_N_con)  这个前5天数据会有问题rolling的"
   ]
  },
  {
   "cell_type": "code",
   "execution_count": 12,
   "id": "08730138-5352-47fe-b105-1d8bda529588",
   "metadata": {},
   "outputs": [],
   "source": [
    "#多日n板（多日五板）\n",
    "up = ff.read('up').loc[data_10.index,data_10.columns].copy()\n",
    "up_5_within = ((up.replace({np.nan:0}).rolling(window = 5,axis = 1).sum() == 5)) * up\n",
    "up_5_within = up_5_within.replace({0.0:np.nan})\n",
    "ff.save('多日5板', up_5_within)"
   ]
  },
  {
   "cell_type": "code",
   "execution_count": 13,
   "id": "2abbe68a-634a-4a26-8f2a-1cfa64cd72aa",
   "metadata": {},
   "outputs": [],
   "source": [
    "#多日n板（多日四板）\n",
    "up = ff.read('up').loc[data_10.index,data_10.columns].copy()\n",
    "up_4_within = ((up.replace({np.nan:0}).rolling(window = 5,axis = 1).sum() == 4)) * up\n",
    "up_4_within = up_4_within.replace({0.0:np.nan})\n",
    "ff.save('多日4板', up_4_within)"
   ]
  },
  {
   "cell_type": "code",
   "execution_count": 14,
   "id": "10ce11c9-9c80-42fd-8c32-9ee854066344",
   "metadata": {},
   "outputs": [],
   "source": [
    "#多日n板（多日三板）\n",
    "up = ff.read('up').loc[data_10.index,data_10.columns].copy()\n",
    "up_3_within = ((up.replace({np.nan:0}).rolling(window = 5,axis = 1).sum() == 3)) * up\n",
    "up_3_within = up_3_within.replace({0.0:np.nan})\n",
    "ff.save('多日3板', up_3_within)"
   ]
  },
  {
   "cell_type": "code",
   "execution_count": 15,
   "id": "c141e2bb-b114-480d-92a9-4baa9069114c",
   "metadata": {},
   "outputs": [],
   "source": [
    "#多日n板（多日二板）\n",
    "up = ff.read('up').loc[data_10.index,data_10.columns].copy()\n",
    "up_2_within = ((up.replace({np.nan:0}).rolling(window = 5,axis = 1).sum() == 2)) * up\n",
    "up_2_within = up_2_within.replace({0.0:np.nan})\n",
    "ff.save('多日2板', up_2_within)"
   ]
  },
  {
   "cell_type": "code",
   "execution_count": 16,
   "id": "329847f5-7295-4727-a4f7-9386b2dcf4a4",
   "metadata": {},
   "outputs": [],
   "source": [
    "up_N_within = (up_2_within.replace({np.nan:0}) * 2 +  up_3_within.replace({np.nan:0}) * 3 + up_4_within.replace({np.nan:0}) * 4 + up_5_within.replace({np.nan:0}) * 5).replace({0:np.nan})\n",
    "ff.save('多日N板', up_N_within)"
   ]
  },
  {
   "cell_type": "markdown",
   "id": "5be3fe71-cb7e-4943-b8b1-da17f50ed7d7",
   "metadata": {},
   "source": [
    "封板形态"
   ]
  },
  {
   "cell_type": "code",
   "execution_count": 4,
   "id": "ff666522-9222-4d95-8814-657e0d8488c6",
   "metadata": {},
   "outputs": [],
   "source": [
    "data_10 = ff.filter0.loc[:'873833.BJ','20200825':].copy()\n",
    "up = ff.read('up').loc[data_10.index,data_10.columns].copy()\n",
    "open = ff.read('open').loc[data_10.index,data_10.columns].copy()\n",
    "close = ff.read('close').loc[data_10.index,data_10.columns].copy()\n",
    "high = ff.read('high').loc[data_10.index,data_10.columns].copy()\n",
    "low = ff.read('low').loc[data_10.index,data_10.columns].copy()\n",
    "up_limit = pd.DataFrame(ff.read('up_limit').copy(),index = data_10.index,columns = data_10.columns) * ff.filter0.loc[:'873833.BJ','20200825':'20240305']\n",
    "down_limit = pd.DataFrame(ff.read('down_limit').copy(),index = data_10.index,columns = data_10.columns)\n",
    "turnover_rate = ff.read('turnover_rate').loc[data_10.index,data_10.columns].copy()"
   ]
  },
  {
   "cell_type": "code",
   "execution_count": null,
   "id": "458e38ef-4766-46d5-bdf0-9eb14cbff66b",
   "metadata": {},
   "outputs": [],
   "source": [
    "#一字板 \n",
    "up_one = (close == high) * (close == open) * (close == high) * (close == low) * up\n",
    "up_one = up_one.replace({0.0:np.nan})"
   ]
  },
  {
   "cell_type": "code",
   "execution_count": null,
   "id": "a05978b7-e58a-4f46-bbc3-4b64fe6323e1",
   "metadata": {},
   "outputs": [],
   "source": [
    "#T字板\n",
    "up_T = (open == high) * (low < close) * (close == high) * up\n",
    "up_T = up_T.replace({0.0:np.nan})"
   ]
  },
  {
   "cell_type": "code",
   "execution_count": null,
   "id": "58066f02-610d-4757-b215-960fc3a7e7f6",
   "metadata": {},
   "outputs": [],
   "source": [
    "#换手板 up除去一字板和t字板\n",
    "# up_turnover = (turnover_rate > turnover_rate.shift(1,axis = 1)) * up * up.shift(1,axis = 1)\n",
    "up_turnover = up_one.replace({np.nan:1,1.0:np.nan}) * up_T.replace({np.nan:1,1.0:np.nan}) * up"
   ]
  },
  {
   "cell_type": "code",
   "execution_count": null,
   "id": "933d2ab7-93e1-436c-8439-46e135e5153d",
   "metadata": {},
   "outputs": [],
   "source": [
    "#地天板\n",
    "up_down = (low == down_limit) * (close == up_limit) * up "
   ]
  },
  {
   "cell_type": "markdown",
   "id": "dae1dc60-c756-48c7-8004-69a703e10a74",
   "metadata": {},
   "source": [
    "日内特征"
   ]
  },
  {
   "cell_type": "code",
   "execution_count": 3,
   "id": "d234dab4-30ae-4e35-89a8-96c5979552ba",
   "metadata": {},
   "outputs": [],
   "source": [
    "stock_index = ff.read('一字板').index\n",
    "time_index = ff.read('一字板').columns\n",
    "up = ff.read('up').loc[stock_index,time_index].copy()\n",
    "open = ff.read('open').loc[stock_index,time_index].copy()\n",
    "close = ff.read('close').loc[stock_index,time_index].copy()\n",
    "high = ff.read('high').loc[stock_index,time_index].copy()\n",
    "low = ff.read('low').loc[stock_index,time_index].copy()\n",
    "up_limit = pd.DataFrame(ff.read('up_limit').copy(),index = stock_index,columns = time_index) * ff.filter0.loc[stock_index,time_index]"
   ]
  },
  {
   "cell_type": "code",
   "execution_count": null,
   "id": "df90099e-a8ae-4e4e-b2b1-36481add2f90",
   "metadata": {},
   "outputs": [],
   "source": [
    "#是否炸板\n",
    "broke = (high == up_limit) * (close != up_limit)\n",
    "broke = broke.replace({True:1.0,False:np.nan})\n",
    "ff.save('炸板股', broke)"
   ]
  },
  {
   "cell_type": "markdown",
   "id": "cc1d27c1-87f6-4163-ba77-76751afd19eb",
   "metadata": {},
   "source": [
    "开盘价是否涨停"
   ]
  },
  {
   "cell_type": "code",
   "execution_count": null,
   "id": "1f9a2730-eada-4af7-b8a8-c995ca8062f8",
   "metadata": {},
   "outputs": [],
   "source": [
    "up_open = (open == up_limit).replace({True:1.0,False:np.nan})\n",
    "ff.save('开盘是否涨停', up_open)"
   ]
  },
  {
   "cell_type": "markdown",
   "id": "9e19d5c8-f930-4831-bafa-73408a90bb7e",
   "metadata": {},
   "source": [
    "炸板时间比例 "
   ]
  },
  {
   "cell_type": "code",
   "execution_count": 59,
   "id": "414a8ffa-bb4c-401d-b2ea-f647c0925c92",
   "metadata": {
    "scrolled": true
   },
   "outputs": [],
   "source": [
    "up_filter = (high == up_limit)\n",
    "dict = {}\n",
    "for i in up_filter.sum(axis = 1)[up_filter.sum(axis = 1)>0].index:\n",
    "    stock = up_filter.loc[i,:]\n",
    "    dict[i] = list(stock[stock == True].index)"
   ]
  },
  {
   "cell_type": "code",
   "execution_count": null,
   "id": "01fc3300-0269-4be5-902a-c300c267ba5b",
   "metadata": {},
   "outputs": [],
   "source": [
    "up_filter = (close == up_limit)\n",
    "dict = {}\n",
    "for i in up_filter.sum(axis = 1)[up_filter.sum(axis = 1)>0].index:\n",
    "    stock = up_filter.loc[i,:]\n",
    "    dict[i] = list(stock[stock == True].index)\n",
    "def stock_broke_ratio(stock):\n",
    "    ratio = []\n",
    "    for time in dict[stock]:\n",
    "        start_time = pd.to_datetime(time).strftime('%Y-%m-%d') + ' 09:31:00'\n",
    "        end_time = pd.to_datetime(time).strftime('%Y-%m-%d') + ' 15:00:00'\n",
    "        data = ff.read_min(stock).loc[start_time:end_time,:]\n",
    "        daily_up_limit = data.loc[:,'high_limit']\n",
    "        judge = (data.loc[:,'close'] == daily_up_limit) * (data.loc[:,'high'] == daily_up_limit) * (data.loc[:,'low'] == daily_up_limit)\n",
    "        broke_judge =  (data.loc[:,'close'] != daily_up_limit) | (data.loc[:,'high'] != daily_up_limit) | (data.loc[:,'low'] != daily_up_limit)\n",
    "        time_len = (judge.cumsum() > 0)\n",
    "        broke_time = (broke_judge * time_len).sum()\n",
    "        # if (broke_time != 0):\n",
    "        #     ratio.append(broke_time / time_len.sum())\n",
    "        # else:\n",
    "        #     ratio.append(1.0)\n",
    "        ratio.append(broke_time/time_len.sum())\n",
    "    return ratio\n",
    "with Pool(24) as p:\n",
    "    res_lst = list(tqdm(p.imap(stock_broke_ratio,dict.keys()),total = len(dict.keys())))\n",
    "broke_ratio_factor = pd.DataFrame(np.nan,index = up.index,columns = up.columns)\n",
    "for i in range(len(res_lst)):\n",
    "    for j in range(len(res_lst[i])):\n",
    "        broke_ratio_factor.loc[list(dict.keys())[i],list(dict.values())[i][j]] = res_lst[i][j]"
   ]
  },
  {
   "cell_type": "code",
   "execution_count": null,
   "id": "89d3c225-509b-40a1-b023-05f6cb70d6a3",
   "metadata": {},
   "outputs": [],
   "source": [
    "ff.save('炸板时间比例', broke_ratio_factor)"
   ]
  },
  {
   "cell_type": "code",
   "execution_count": null,
   "id": "89244b12-c4f8-44b9-b887-a57ed64d93ba",
   "metadata": {},
   "outputs": [],
   "source": [
    "broke_ratio_factor.sum().sum()"
   ]
  },
  {
   "cell_type": "markdown",
   "id": "fbd748d2-fa69-47a6-b281-d5edde07042c",
   "metadata": {},
   "source": [
    "交叉收益计算"
   ]
  },
  {
   "cell_type": "code",
   "execution_count": null,
   "id": "0fd4fc20-893d-4932-b5e2-82ed7f3700f3",
   "metadata": {},
   "outputs": [],
   "source": [
    "stock_shape = ['一字板','T字板','换手板','地天板']\n",
    "stock_feature = ['炸板股','炸板时间比例','第一次封板时刻','最后封板时刻','第一次封板时刻成交量','第一次封板时刻成交量占比','最后封板时刻成交量','最后封板时刻成交量占比','板上成交量','板上成交量占比','开盘是否涨停']"
   ]
  },
  {
   "cell_type": "code",
   "execution_count": null,
   "id": "27f4c7ff-d160-432d-a504-f8730c12a56c",
   "metadata": {},
   "outputs": [],
   "source": [
    "def daily_K_line(event,n,open,close,high,low):\n",
    "    # 日均事件K线\n",
    "    T0open=event*open  # 以T0open作为基准\n",
    "    pre_close = event * close.shift(axis = 1)\n",
    "    data=pd.DataFrame(columns=['T'+str(j) for j in range(n)])\n",
    "    for j in range(n):\n",
    "        _open=(event*open.shift(-j,axis=1))/pre_close\n",
    "        _close=(event*close.shift(-j,axis=1))/pre_close\n",
    "        _low=(event*low.shift(-j,axis=1))/pre_close\n",
    "        _high=(event*high.shift(-j,axis=1))/pre_close\n",
    "        lst=[_open.mean().mean(),_close.mean().mean(),_low.mean().mean(),_high.mean().mean()]\n",
    "        data['T'+str(j)]=lst\n",
    "    data.index=['open','close','low','high']\n",
    "    data=data.T\n",
    "    data.index=pd.to_datetime(['20200101','20200102','20200103','20200104','20200105'])\n",
    "    # mpf.plot(data,type='candle',style='default')\n",
    "    return data"
   ]
  },
  {
   "cell_type": "code",
   "execution_count": null,
   "id": "e888d961-8a7c-48ed-9e9f-d54ed49e97f0",
   "metadata": {},
   "outputs": [],
   "source": [
    "open_ = (ff.read('open') * ff.read('post')).loc[data_10.index,data_10.columns].copy()\n",
    "close = (ff.read('close')* ff.read('post')).loc[data_10.index,data_10.columns].copy()\n",
    "high = (ff.read('high')* ff.read('post')).loc[data_10.index,data_10.columns].copy()\n",
    "low = (ff.read('low')* ff.read('post')).loc[data_10.index,data_10.columns].copy()"
   ]
  },
  {
   "cell_type": "code",
   "execution_count": null,
   "id": "1b2413df-042c-4ff4-bdd2-62cd71303050",
   "metadata": {},
   "outputs": [],
   "source": [
    "event_dict = {}"
   ]
  },
  {
   "cell_type": "code",
   "execution_count": null,
   "id": "95c21a82-a2c2-44dc-b6a6-edf8bab52bdc",
   "metadata": {},
   "outputs": [],
   "source": [
    "for shape in stock_shape:\n",
    "    for feature in tqdm(stock_feature):\n",
    "        shape_data = ff.read(shape).copy()\n",
    "        feature_data = ff.read(feature).copy()\n",
    "        low_ = (feature_data < feature_data.quantile(1/3)).replace({False:np.nan,True:1.0})\n",
    "        event_low =  shape_data * low_\n",
    "        median_ = ((feature_data >= feature_data.quantile(1/3)) & (feature_data < feature_data.quantile(2/3))).replace({False:np.nan,True:1.0})\n",
    "        event_median =  shape_data * median_\n",
    "        high_ = (feature_data >= feature_data.quantile(2/3)).replace({False:np.nan,True:1.0})\n",
    "        event_high =  shape_data * high_\n",
    "        datalow = daily_K_line(event_low,5,open_,close,high,low)\n",
    "        datamedian = daily_K_line(event_median,5,open_,close,high,low)\n",
    "        datahigh = daily_K_line(event_high,5,open_,close,high,low)\n",
    "        stat= pd.DataFrame(index = ['low','median','high'],columns = ['mean','median','ratio','开盘收益','日内收益'])\n",
    "        stat['mean'] = [event_low.sum().mean(),event_median.sum().mean(),event_high.sum().mean()]\n",
    "        stat['median'] = [event_low.sum().median(),event_median.sum().median(),event_high.sum().median()]\n",
    "        stat['ratio'] = [(event_low.sum()>0).sum()/event_low.shape[1],(event_median.sum()>0).sum()/event_median.shape[1],(event_high.sum()>0).sum()/event_high.shape[1]]\n",
    "        stat['开盘收益'] = [(datalow.iloc[1,0] - datalow.iloc[0,1]),(datamedian.iloc[1,0] - datamedian.iloc[0,1]),(datahigh.iloc[1,0] - datahigh.iloc[0,1])]\n",
    "        stat['日内收益'] = [(datalow.iloc[1,1] - datalow.iloc[1,0]),(datamedian.iloc[1,1] - datamedian.iloc[1,0]),(datahigh.iloc[1,1] - datahigh.iloc[1,0])]\n",
    "        result_list = [stat]\n",
    "        key = (shape,feature)\n",
    "        event_dict[key] = result_list"
   ]
  },
  {
   "cell_type": "code",
   "execution_count": null,
   "id": "21cd025a-8d80-4dfe-86e4-7988d5dafcec",
   "metadata": {},
   "outputs": [],
   "source": [
    "import pickle \n",
    "with open('/home/wangs/data/feature/event_ret.pk','wb') as f:\n",
    "    pickle.dump(event_dict,f)"
   ]
  },
  {
   "cell_type": "markdown",
   "id": "1697266b-2d3f-441b-b05d-9bf8d4a70be6",
   "metadata": {},
   "source": [
    "对于最后封板时间进行分组筛选计算次数"
   ]
  },
  {
   "cell_type": "code",
   "execution_count": null,
   "id": "69e332bd-654d-4ca1-a10c-2f5024f16f47",
   "metadata": {},
   "outputs": [],
   "source": [
    "stock_shape = ['一字板','T字板','单次涨停','多次涨停','地天板']\n",
    "stock_feature = ['炸板股','炸板时间比例','第一次封板时刻','最后封板时刻','第一次封板时刻成交量','第一次封板时刻成交量占比','最后封板时刻成交量','最后封板时刻成交量占比','板上成交量','板上成交量占比','开盘是否涨停']\n",
    "stage = ['low','median','high']"
   ]
  },
  {
   "cell_type": "code",
   "execution_count": null,
   "id": "ae539a8a-79b8-4870-90a2-2207486c9b8f",
   "metadata": {},
   "outputs": [],
   "source": [
    "a = pd.DataFrame(columns = ['封板形态','日内特征','分组','mean','median','ratio','开盘收益','日内收益'])"
   ]
  },
  {
   "cell_type": "code",
   "execution_count": null,
   "id": "79c1c947-b61d-4f33-a62e-c8a89f97fd78",
   "metadata": {},
   "outputs": [],
   "source": [
    "a.loc[len(a.index)] = ['一字板','炸板股','low','1','2','3','4','5']"
   ]
  },
  {
   "cell_type": "code",
   "execution_count": null,
   "id": "7f66f3ad-3ec7-4979-ac74-858bba68f1e9",
   "metadata": {},
   "outputs": [],
   "source": [
    "def setg(x):\n",
    "    if x<=1:\n",
    "        return 0\n",
    "    elif x<=2:\n",
    "        return 1\n",
    "    elif x<=5:\n",
    "        return 2\n",
    "    elif x<15:\n",
    "        return 3\n",
    "    elif x<30:\n",
    "        return 4\n",
    "    elif x<60:\n",
    "        return 5\n",
    "    elif x<120:\n",
    "        return 6\n",
    "    elif x<180:\n",
    "        return 7\n",
    "    elif x<240:\n",
    "        return 8"
   ]
  },
  {
   "cell_type": "code",
   "execution_count": null,
   "id": "e7ea7b37-8f38-4d48-b0a0-7e0d6bb4305b",
   "metadata": {},
   "outputs": [],
   "source": [
    "ff.read('最后封板时刻').applymap(setg) == 5"
   ]
  },
  {
   "cell_type": "code",
   "execution_count": null,
   "id": "003706c5-7434-46e2-acb1-d1afd896c765",
   "metadata": {},
   "outputs": [],
   "source": [
    "stat = pd.DataFrame(columns = ['封板形态','日内特征','分组','mean','median','ratio','开盘收益','日内收益'])\n",
    "for shape in stock_shape:\n",
    "    for feature in tqdm(stock_feature):\n",
    "        shape_data = ff.read(shape).copy()\n",
    "        feature_data = ff.read(feature).copy()\n",
    "        low_ = (feature_data <= feature_data.quantile(1/3)).replace({False:np.nan,True:1.0})\n",
    "        event_low =  shape_data * low_\n",
    "        median_ = ((feature_data > feature_data.quantile(1/3)) & (feature_data < feature_data.quantile(2/3))).replace({False:np.nan,True:1.0})\n",
    "        event_median =  shape_data * median_\n",
    "        high_ = (feature_data > feature_data.quantile(2/3)).replace({False:np.nan,True:1.0})\n",
    "        event_high =  shape_data * high_\n",
    "        datalow = daily_K_line(event_low,5,open_,close,high,low)\n",
    "        datamedian = daily_K_line(event_median,5,open_,close,high,low)\n",
    "        datahigh = daily_K_line(event_high,5,open_,close,high,low)\n",
    "        stat.loc[len(stat.index)] = [shape,feature,'low',event_low.sum().mean(),event_low.sum().median(),(event_low.sum()>0).sum()/event_low.shape[1],(datalow.iloc[1,0] - datalow.iloc[0,1]),(datalow.iloc[1,1] - datalow.iloc[1,0])]\n",
    "        stat.loc[len(stat.index)] = [shape,feature,'median',event_median.sum().mean(),event_median.sum().median(),(event_median.sum()>0).sum()/event_median.shape[1],(datamedian.iloc[1,0] - datamedian.iloc[0,1]),(datamedian.iloc[1,1] - datamedian.iloc[1,0])]\n",
    "        stat.loc[len(stat.index)] = [shape,feature,'high',event_high.sum().mean(),event_high.sum().median(),(event_high.sum()>0).sum()/event_high.shape[1],(datahigh.iloc[1,0] - datahigh.iloc[0,1]),(datahigh.iloc[1,1] - datahigh.iloc[1,0])]"
   ]
  },
  {
   "cell_type": "code",
   "execution_count": null,
   "id": "dc70e8e6-7cfd-4d4c-bc89-30487af5082b",
   "metadata": {},
   "outputs": [],
   "source": [
    "stat.sort_values('开盘收益',ascending = False)"
   ]
  },
  {
   "cell_type": "code",
   "execution_count": null,
   "id": "f98853a7-9887-414a-985b-aef1b75c1b3f",
   "metadata": {},
   "outputs": [],
   "source": [
    "stat = pd.DataFrame(columns = ['封板形态','日内特征','分组','mean','median','ratio','开盘收益','日内收益'])\n",
    "for shape in stock_shape:\n",
    "    feature = '最后封板时刻'\n",
    "    shape_data = ff.read(shape).copy()\n",
    "    feature_data = ff.read(feature).copy().applymap(setg)\n",
    "    for i in range(0,9):\n",
    "        num_ = (feature_data == i).replace({False:np.nan,True:1.0})\n",
    "        event_ =  shape_data * num_\n",
    "        data = daily_K_line(event_,5,open_,close,high,low)\n",
    "        stat.loc[len(stat.index)] = [shape,feature,i,event_.sum().mean(),event_.sum().median(),(event_.sum()>0).sum()/event_.shape[1],(data.iloc[1,0] - data.iloc[0,1]),(data.iloc[1,1] - data.iloc[1,0])]"
   ]
  },
  {
   "cell_type": "code",
   "execution_count": null,
   "id": "0ef9a134-9912-413f-b49f-8514f13ce3b4",
   "metadata": {
    "scrolled": true
   },
   "outputs": [],
   "source": [
    "stat.sort_values('开盘收益',ascending = False)"
   ]
  },
  {
   "cell_type": "code",
   "execution_count": null,
   "id": "3fe6aa47-8b6c-49f2-b041-8940ffb6064c",
   "metadata": {},
   "outputs": [],
   "source": [
    "factor_names1=['closer', 'openr', 'lowr', 'highr', 'ocret', 'lcret', 'hcret', 'ohret', 'ret5', 'ret10', 'ret20', 'ret30', 'excess5', 'excess10', 'excess20', 'excess30', 'ma5', 'bias5', 'ma10',\n",
    "               'bias10', 'ma15', 'bias15', 'ma20', 'bias20', 'vwap_ret', 'vwaph_ret', 'll5', 'll15', 'll20', 'll30', 'a0', 'a5', 'a15', 'a30', 'ah5', 'ah10', 'ah15', 'std', 'amt_std', 'vol_std', \n",
    "               'amt_mean', 'vol_mean', 'turnover', 'turnover_mean', 'turnover_std', 'turnover_skew', 'turnoverf', 'turnoverf_mean', 'turnoverf_std', 'turnoverf_skew', 'mkv', 'l_mkv', 'lhret', \n",
    "               'STR', 'MTR', 'SMTR', 'ILLIQ','close','high','low']\n",
    "factor_names2=['ARRP', 'ARRP_5d_20mean', 'AmpMod', 'BVol', 'CDPDVP', 'ILLIQ', 'IVoldeCorr', 'IntraDayMom20', 'MTR', 'RCP', 'SMTR', 'SPS', 'STR', 'a30', \n",
    "               'afternoon_ratio_1', 'ah15', 'amt', 'amt_ma20', 'amt_mean', 'amt_score0', 'amt_score1', 'amt_score2', 'amt_std', 'amt_std20', 'bias10', 'bias15', 'bias20', 'bias5', \n",
    "               'cross_std10', 'cross_std10adj', 'ctrade', 'excess10', 'excess20', 'excess30', 'excess5', 'growth_a', 'growth_b', 'growth_c', 'h_rankamt_corr_10', 'h_rankv_corr_10', 'h_rankv_corr_36', \n",
    "               'hcret', 'idiov', 'intro_high80_corr', 'ivr', 'l_mkv', 'mkv', 'mom1', 'mom_spring', 'nl_mkv', 'nl_mom', 'open0931ratio', 'open5ratio_ma10vol', 'rank_2_corr_hv10', 'rank_2_corr_hv20', 'rank_ha_corr_sum', \n",
    "               'ret20', 'ret30', 'ret5', 'roc121', 'roc20', 'roc240', 'roc5', 'scr', 'std', 'std20', 'std21', 'std240', 'stddev_cov', 'stddev_cov_right', 'sub', 'sysv', 'tail_ratio_1', 'tailrets0', 'tailrets1', 'tliq', \n",
    "               'turn20', 'turnover', 'turnover_mean', 'turnover_scale_z', 'turnover_score_ts_mean', 'turnover_score_ts_std', 'turnover_skew', 'turnover_std', 'turnoverf', 'turnoverf_mean', 'turnoverf_skew', 'turnoverf_std', \n",
    "               'up_KURS', 'up_plus_down_KURS', 'vol', 'vol_mean', 'vol_std', 'vol_std20', 'volroc_skew', '滞后日内量价corr']\n",
    "names= list(np.unique(factor_names1+factor_names2))"
   ]
  },
  {
   "cell_type": "code",
   "execution_count": null,
   "id": "15df0ec8-0a4f-4b08-8d1f-fb5882e8a70a",
   "metadata": {
    "scrolled": true
   },
   "outputs": [],
   "source": [
    "def factor_turnover(factor_name):\n",
    "    shape = '换手板'\n",
    "    shape_data = ff.read(shape).copy()\n",
    "    factor = ff.read(factor_name).loc[:,'20200825':'20240305']\n",
    "    result = [] \n",
    "    feature_1 = ((factor<= factor.quantile(1/5)).replace({True:1,False:np.nan}).shift(1,axis=1)) * shape_data\n",
    "    feature_2 = (((factor> factor.quantile(1/5))*(factor<factor.quantile(2/5))).replace({True:1,False:np.nan}).shift(1,axis=1)) * shape_data\n",
    "    feature_3 = (((factor> factor.quantile(2/5))*(factor<factor.quantile(3/5))).replace({True:1,False:np.nan}).shift(1,axis=1)) * shape_data\n",
    "    feature_4 = (((factor> factor.quantile(3/5))*(factor<factor.quantile(4/5))).replace({True:1,False:np.nan}).shift(1,axis=1)) * shape_data\n",
    "    feature_5 = ((factor> factor.quantile(4/5)).replace({True:1,False:np.nan}).shift(1,axis=1)) * shape_data\n",
    "    data1 = daily_K_line(feature_1,5,open_,close,high,low)\n",
    "    data2 = daily_K_line(feature_2,5,open_,close,high,low)\n",
    "    data3 = daily_K_line(feature_3,5,open_,close,high,low)\n",
    "    data4 = daily_K_line(feature_4,5,open_,close,high,low)\n",
    "    data5 = daily_K_line(feature_5,5,open_,close,high,low)\n",
    "    result.append([shape,factor_name,1,feature_1.sum().mean(),feature_1.sum().median(),(feature_1.sum()>0).sum()/feature_1.shape[1],(data1.iloc[1,0] - data1.iloc[0,1]),(data1.iloc[1,1] - data1.iloc[0,1])])\n",
    "    result.append([shape,factor_name,2,feature_2.sum().mean(),feature_2.sum().median(),(feature_2.sum()>0).sum()/feature_2.shape[1],(data2.iloc[1,0] - data2.iloc[0,1]),(data2.iloc[1,1] - data2.iloc[0,1])])\n",
    "    result.append([shape,factor_name,3,feature_3.sum().mean(),feature_3.sum().median(),(feature_3.sum()>0).sum()/feature_3.shape[1],(data3.iloc[1,0] - data3.iloc[0,1]),(data3.iloc[1,1] - data3.iloc[0,1])])\n",
    "    result.append([shape,factor_name,4,feature_4.sum().mean(),feature_4.sum().median(),(feature_4.sum()>0).sum()/feature_4.shape[1],(data4.iloc[1,0] - data4.iloc[0,1]),(data4.iloc[1,1] - data4.iloc[0,1])])\n",
    "    result.append([shape,factor_name,5,feature_5.sum().mean(),feature_5.sum().median(),(feature_5.sum()>0).sum()/feature_5.shape[1],(data5.iloc[1,0] - data5.iloc[0,1]),(data5.iloc[1,1] - data5.iloc[0,1])])\n",
    "    return result\n",
    "with Pool(24) as p:\n",
    "    res_lst = list(tqdm(p.imap(factor_turnover,names),total = len(names)))"
   ]
  },
  {
   "cell_type": "code",
   "execution_count": null,
   "id": "e16b1383-3e63-4426-b998-0fcfd240c1cb",
   "metadata": {},
   "outputs": [],
   "source": [
    "df= pd.DataFrame(np.vstack(res_lst),columns = ['封板形态','因子名','分组','mean','median','ratio','开盘收益','日内收益'] ).sort_values(by = '开盘收益',ascending= False)"
   ]
  },
  {
   "cell_type": "code",
   "execution_count": null,
   "id": "e7d43225-fb93-4751-bd42-c5d75d847f1a",
   "metadata": {},
   "outputs": [],
   "source": [
    "df[df['ratio']!='0.0'].head(20)"
   ]
  },
  {
   "cell_type": "code",
   "execution_count": null,
   "id": "4d29f2d9-7064-4fd6-8b54-b9290c931ea8",
   "metadata": {},
   "outputs": [],
   "source": []
  },
  {
   "cell_type": "code",
   "execution_count": null,
   "id": "250877c7-9202-4bef-95bd-e7bb1f044139",
   "metadata": {},
   "outputs": [],
   "source": []
  },
  {
   "cell_type": "code",
   "execution_count": 2,
   "id": "00b77ddf-f855-43e2-b4c9-65403c00945f",
   "metadata": {},
   "outputs": [
    {
     "data": {
      "text/html": [
       "<div>\n",
       "<style scoped>\n",
       "    .dataframe tbody tr th:only-of-type {\n",
       "        vertical-align: middle;\n",
       "    }\n",
       "\n",
       "    .dataframe tbody tr th {\n",
       "        vertical-align: top;\n",
       "    }\n",
       "\n",
       "    .dataframe thead th {\n",
       "        text-align: right;\n",
       "    }\n",
       "</style>\n",
       "<table border=\"1\" class=\"dataframe\">\n",
       "  <thead>\n",
       "    <tr style=\"text-align: right;\">\n",
       "      <th></th>\n",
       "      <th>20200825</th>\n",
       "      <th>20200826</th>\n",
       "      <th>20200827</th>\n",
       "      <th>20200828</th>\n",
       "      <th>20200831</th>\n",
       "      <th>20200901</th>\n",
       "      <th>20200902</th>\n",
       "      <th>20200903</th>\n",
       "      <th>20200904</th>\n",
       "      <th>20200907</th>\n",
       "      <th>...</th>\n",
       "      <th>20240221</th>\n",
       "      <th>20240222</th>\n",
       "      <th>20240223</th>\n",
       "      <th>20240226</th>\n",
       "      <th>20240227</th>\n",
       "      <th>20240228</th>\n",
       "      <th>20240229</th>\n",
       "      <th>20240301</th>\n",
       "      <th>20240304</th>\n",
       "      <th>20240305</th>\n",
       "    </tr>\n",
       "  </thead>\n",
       "  <tbody>\n",
       "    <tr>\n",
       "      <th>000001.SZ</th>\n",
       "      <td>NaN</td>\n",
       "      <td>NaN</td>\n",
       "      <td>NaN</td>\n",
       "      <td>NaN</td>\n",
       "      <td>NaN</td>\n",
       "      <td>NaN</td>\n",
       "      <td>NaN</td>\n",
       "      <td>NaN</td>\n",
       "      <td>NaN</td>\n",
       "      <td>NaN</td>\n",
       "      <td>...</td>\n",
       "      <td>0.295367</td>\n",
       "      <td>NaN</td>\n",
       "      <td>NaN</td>\n",
       "      <td>NaN</td>\n",
       "      <td>NaN</td>\n",
       "      <td>NaN</td>\n",
       "      <td>NaN</td>\n",
       "      <td>NaN</td>\n",
       "      <td>NaN</td>\n",
       "      <td>NaN</td>\n",
       "    </tr>\n",
       "    <tr>\n",
       "      <th>000002.SZ</th>\n",
       "      <td>NaN</td>\n",
       "      <td>NaN</td>\n",
       "      <td>NaN</td>\n",
       "      <td>NaN</td>\n",
       "      <td>NaN</td>\n",
       "      <td>NaN</td>\n",
       "      <td>NaN</td>\n",
       "      <td>NaN</td>\n",
       "      <td>NaN</td>\n",
       "      <td>NaN</td>\n",
       "      <td>...</td>\n",
       "      <td>NaN</td>\n",
       "      <td>NaN</td>\n",
       "      <td>NaN</td>\n",
       "      <td>NaN</td>\n",
       "      <td>NaN</td>\n",
       "      <td>NaN</td>\n",
       "      <td>NaN</td>\n",
       "      <td>NaN</td>\n",
       "      <td>NaN</td>\n",
       "      <td>NaN</td>\n",
       "    </tr>\n",
       "    <tr>\n",
       "      <th>000004.SZ</th>\n",
       "      <td>NaN</td>\n",
       "      <td>NaN</td>\n",
       "      <td>NaN</td>\n",
       "      <td>NaN</td>\n",
       "      <td>0.178203</td>\n",
       "      <td>NaN</td>\n",
       "      <td>NaN</td>\n",
       "      <td>NaN</td>\n",
       "      <td>NaN</td>\n",
       "      <td>NaN</td>\n",
       "      <td>...</td>\n",
       "      <td>NaN</td>\n",
       "      <td>NaN</td>\n",
       "      <td>NaN</td>\n",
       "      <td>NaN</td>\n",
       "      <td>NaN</td>\n",
       "      <td>NaN</td>\n",
       "      <td>NaN</td>\n",
       "      <td>NaN</td>\n",
       "      <td>NaN</td>\n",
       "      <td>NaN</td>\n",
       "    </tr>\n",
       "    <tr>\n",
       "      <th>000005.SZ</th>\n",
       "      <td>NaN</td>\n",
       "      <td>NaN</td>\n",
       "      <td>NaN</td>\n",
       "      <td>NaN</td>\n",
       "      <td>NaN</td>\n",
       "      <td>NaN</td>\n",
       "      <td>NaN</td>\n",
       "      <td>NaN</td>\n",
       "      <td>NaN</td>\n",
       "      <td>NaN</td>\n",
       "      <td>...</td>\n",
       "      <td>NaN</td>\n",
       "      <td>NaN</td>\n",
       "      <td>NaN</td>\n",
       "      <td>NaN</td>\n",
       "      <td>NaN</td>\n",
       "      <td>NaN</td>\n",
       "      <td>NaN</td>\n",
       "      <td>NaN</td>\n",
       "      <td>NaN</td>\n",
       "      <td>NaN</td>\n",
       "    </tr>\n",
       "    <tr>\n",
       "      <th>000006.SZ</th>\n",
       "      <td>NaN</td>\n",
       "      <td>NaN</td>\n",
       "      <td>NaN</td>\n",
       "      <td>NaN</td>\n",
       "      <td>NaN</td>\n",
       "      <td>NaN</td>\n",
       "      <td>NaN</td>\n",
       "      <td>NaN</td>\n",
       "      <td>NaN</td>\n",
       "      <td>NaN</td>\n",
       "      <td>...</td>\n",
       "      <td>NaN</td>\n",
       "      <td>NaN</td>\n",
       "      <td>NaN</td>\n",
       "      <td>NaN</td>\n",
       "      <td>NaN</td>\n",
       "      <td>NaN</td>\n",
       "      <td>NaN</td>\n",
       "      <td>NaN</td>\n",
       "      <td>NaN</td>\n",
       "      <td>NaN</td>\n",
       "    </tr>\n",
       "    <tr>\n",
       "      <th>...</th>\n",
       "      <td>...</td>\n",
       "      <td>...</td>\n",
       "      <td>...</td>\n",
       "      <td>...</td>\n",
       "      <td>...</td>\n",
       "      <td>...</td>\n",
       "      <td>...</td>\n",
       "      <td>...</td>\n",
       "      <td>...</td>\n",
       "      <td>...</td>\n",
       "      <td>...</td>\n",
       "      <td>...</td>\n",
       "      <td>...</td>\n",
       "      <td>...</td>\n",
       "      <td>...</td>\n",
       "      <td>...</td>\n",
       "      <td>...</td>\n",
       "      <td>...</td>\n",
       "      <td>...</td>\n",
       "      <td>...</td>\n",
       "      <td>...</td>\n",
       "    </tr>\n",
       "    <tr>\n",
       "      <th>873703.BJ</th>\n",
       "      <td>NaN</td>\n",
       "      <td>NaN</td>\n",
       "      <td>NaN</td>\n",
       "      <td>NaN</td>\n",
       "      <td>NaN</td>\n",
       "      <td>NaN</td>\n",
       "      <td>NaN</td>\n",
       "      <td>NaN</td>\n",
       "      <td>NaN</td>\n",
       "      <td>NaN</td>\n",
       "      <td>...</td>\n",
       "      <td>NaN</td>\n",
       "      <td>NaN</td>\n",
       "      <td>NaN</td>\n",
       "      <td>NaN</td>\n",
       "      <td>NaN</td>\n",
       "      <td>NaN</td>\n",
       "      <td>NaN</td>\n",
       "      <td>NaN</td>\n",
       "      <td>NaN</td>\n",
       "      <td>NaN</td>\n",
       "    </tr>\n",
       "    <tr>\n",
       "      <th>873706.BJ</th>\n",
       "      <td>NaN</td>\n",
       "      <td>NaN</td>\n",
       "      <td>NaN</td>\n",
       "      <td>NaN</td>\n",
       "      <td>NaN</td>\n",
       "      <td>NaN</td>\n",
       "      <td>NaN</td>\n",
       "      <td>NaN</td>\n",
       "      <td>NaN</td>\n",
       "      <td>NaN</td>\n",
       "      <td>...</td>\n",
       "      <td>NaN</td>\n",
       "      <td>NaN</td>\n",
       "      <td>NaN</td>\n",
       "      <td>NaN</td>\n",
       "      <td>NaN</td>\n",
       "      <td>NaN</td>\n",
       "      <td>NaN</td>\n",
       "      <td>NaN</td>\n",
       "      <td>NaN</td>\n",
       "      <td>NaN</td>\n",
       "    </tr>\n",
       "    <tr>\n",
       "      <th>873726.BJ</th>\n",
       "      <td>NaN</td>\n",
       "      <td>NaN</td>\n",
       "      <td>NaN</td>\n",
       "      <td>NaN</td>\n",
       "      <td>NaN</td>\n",
       "      <td>NaN</td>\n",
       "      <td>NaN</td>\n",
       "      <td>NaN</td>\n",
       "      <td>NaN</td>\n",
       "      <td>NaN</td>\n",
       "      <td>...</td>\n",
       "      <td>NaN</td>\n",
       "      <td>NaN</td>\n",
       "      <td>NaN</td>\n",
       "      <td>NaN</td>\n",
       "      <td>NaN</td>\n",
       "      <td>NaN</td>\n",
       "      <td>NaN</td>\n",
       "      <td>NaN</td>\n",
       "      <td>NaN</td>\n",
       "      <td>NaN</td>\n",
       "    </tr>\n",
       "    <tr>\n",
       "      <th>873806.BJ</th>\n",
       "      <td>NaN</td>\n",
       "      <td>NaN</td>\n",
       "      <td>NaN</td>\n",
       "      <td>NaN</td>\n",
       "      <td>NaN</td>\n",
       "      <td>NaN</td>\n",
       "      <td>NaN</td>\n",
       "      <td>NaN</td>\n",
       "      <td>NaN</td>\n",
       "      <td>NaN</td>\n",
       "      <td>...</td>\n",
       "      <td>NaN</td>\n",
       "      <td>NaN</td>\n",
       "      <td>NaN</td>\n",
       "      <td>NaN</td>\n",
       "      <td>NaN</td>\n",
       "      <td>NaN</td>\n",
       "      <td>NaN</td>\n",
       "      <td>NaN</td>\n",
       "      <td>NaN</td>\n",
       "      <td>NaN</td>\n",
       "    </tr>\n",
       "    <tr>\n",
       "      <th>873833.BJ</th>\n",
       "      <td>NaN</td>\n",
       "      <td>NaN</td>\n",
       "      <td>NaN</td>\n",
       "      <td>NaN</td>\n",
       "      <td>NaN</td>\n",
       "      <td>NaN</td>\n",
       "      <td>NaN</td>\n",
       "      <td>NaN</td>\n",
       "      <td>NaN</td>\n",
       "      <td>NaN</td>\n",
       "      <td>...</td>\n",
       "      <td>NaN</td>\n",
       "      <td>NaN</td>\n",
       "      <td>NaN</td>\n",
       "      <td>NaN</td>\n",
       "      <td>NaN</td>\n",
       "      <td>NaN</td>\n",
       "      <td>NaN</td>\n",
       "      <td>NaN</td>\n",
       "      <td>NaN</td>\n",
       "      <td>NaN</td>\n",
       "    </tr>\n",
       "  </tbody>\n",
       "</table>\n",
       "<p>5539 rows × 854 columns</p>\n",
       "</div>"
      ],
      "text/plain": [
       "           20200825  20200826  20200827  20200828  20200831  20200901  \\\n",
       "000001.SZ       NaN       NaN       NaN       NaN       NaN       NaN   \n",
       "000002.SZ       NaN       NaN       NaN       NaN       NaN       NaN   \n",
       "000004.SZ       NaN       NaN       NaN       NaN  0.178203       NaN   \n",
       "000005.SZ       NaN       NaN       NaN       NaN       NaN       NaN   \n",
       "000006.SZ       NaN       NaN       NaN       NaN       NaN       NaN   \n",
       "...             ...       ...       ...       ...       ...       ...   \n",
       "873703.BJ       NaN       NaN       NaN       NaN       NaN       NaN   \n",
       "873706.BJ       NaN       NaN       NaN       NaN       NaN       NaN   \n",
       "873726.BJ       NaN       NaN       NaN       NaN       NaN       NaN   \n",
       "873806.BJ       NaN       NaN       NaN       NaN       NaN       NaN   \n",
       "873833.BJ       NaN       NaN       NaN       NaN       NaN       NaN   \n",
       "\n",
       "           20200902  20200903  20200904  20200907  ...  20240221  20240222  \\\n",
       "000001.SZ       NaN       NaN       NaN       NaN  ...  0.295367       NaN   \n",
       "000002.SZ       NaN       NaN       NaN       NaN  ...       NaN       NaN   \n",
       "000004.SZ       NaN       NaN       NaN       NaN  ...       NaN       NaN   \n",
       "000005.SZ       NaN       NaN       NaN       NaN  ...       NaN       NaN   \n",
       "000006.SZ       NaN       NaN       NaN       NaN  ...       NaN       NaN   \n",
       "...             ...       ...       ...       ...  ...       ...       ...   \n",
       "873703.BJ       NaN       NaN       NaN       NaN  ...       NaN       NaN   \n",
       "873706.BJ       NaN       NaN       NaN       NaN  ...       NaN       NaN   \n",
       "873726.BJ       NaN       NaN       NaN       NaN  ...       NaN       NaN   \n",
       "873806.BJ       NaN       NaN       NaN       NaN  ...       NaN       NaN   \n",
       "873833.BJ       NaN       NaN       NaN       NaN  ...       NaN       NaN   \n",
       "\n",
       "           20240223  20240226  20240227  20240228  20240229  20240301  \\\n",
       "000001.SZ       NaN       NaN       NaN       NaN       NaN       NaN   \n",
       "000002.SZ       NaN       NaN       NaN       NaN       NaN       NaN   \n",
       "000004.SZ       NaN       NaN       NaN       NaN       NaN       NaN   \n",
       "000005.SZ       NaN       NaN       NaN       NaN       NaN       NaN   \n",
       "000006.SZ       NaN       NaN       NaN       NaN       NaN       NaN   \n",
       "...             ...       ...       ...       ...       ...       ...   \n",
       "873703.BJ       NaN       NaN       NaN       NaN       NaN       NaN   \n",
       "873706.BJ       NaN       NaN       NaN       NaN       NaN       NaN   \n",
       "873726.BJ       NaN       NaN       NaN       NaN       NaN       NaN   \n",
       "873806.BJ       NaN       NaN       NaN       NaN       NaN       NaN   \n",
       "873833.BJ       NaN       NaN       NaN       NaN       NaN       NaN   \n",
       "\n",
       "           20240304  20240305  \n",
       "000001.SZ       NaN       NaN  \n",
       "000002.SZ       NaN       NaN  \n",
       "000004.SZ       NaN       NaN  \n",
       "000005.SZ       NaN       NaN  \n",
       "000006.SZ       NaN       NaN  \n",
       "...             ...       ...  \n",
       "873703.BJ       NaN       NaN  \n",
       "873706.BJ       NaN       NaN  \n",
       "873726.BJ       NaN       NaN  \n",
       "873806.BJ       NaN       NaN  \n",
       "873833.BJ       NaN       NaN  \n",
       "\n",
       "[5539 rows x 854 columns]"
      ]
     },
     "execution_count": 2,
     "metadata": {},
     "output_type": "execute_result"
    }
   ],
   "source": [
    "ff.read('板上成交量占比')['']"
   ]
  },
  {
   "cell_type": "code",
   "execution_count": null,
   "id": "1895119c-3f02-42ee-be8a-5e3f6e1d6440",
   "metadata": {},
   "outputs": [],
   "source": []
  }
 ],
 "metadata": {
  "kernelspec": {
   "display_name": "Python 3 (ipykernel)",
   "language": "python",
   "name": "python3"
  },
  "language_info": {
   "codemirror_mode": {
    "name": "ipython",
    "version": 3
   },
   "file_extension": ".py",
   "mimetype": "text/x-python",
   "name": "python",
   "nbconvert_exporter": "python",
   "pygments_lexer": "ipython3",
   "version": "3.9.16"
  }
 },
 "nbformat": 4,
 "nbformat_minor": 5
}
