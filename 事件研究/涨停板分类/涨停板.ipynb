{
 "cells": [
  {
   "cell_type": "code",
   "execution_count": 1,
   "id": "9a97b611-5b13-4b49-ab61-755bb03a9aba",
   "metadata": {},
   "outputs": [],
   "source": [
    "import sys\n",
    "sys.path.append('/home/wangs/rs/lib')\n",
    "import ff\n",
    "import pickle\n",
    "import numpy as np\n",
    "import pandas as pd\n",
    "import seaborn as sns\n",
    "import matplotlib.pyplot as plt\n",
    "sns.set_style(\"whitegrid\")\n",
    "sns.set_palette(\"pastel\")\n",
    "from multiprocessing import Pool\n",
    "from tqdm import tqdm\n",
    "import statsmodels.api as sm\n",
    "from datetime import datetime\n",
    "import mplfinance as mpf\n",
    "from functools import partial"
   ]
  },
  {
   "cell_type": "code",
   "execution_count": 2,
   "id": "510ad2ce-d90a-4500-a0d8-9f246a6e18b5",
   "metadata": {
    "scrolled": true
   },
   "outputs": [],
   "source": [
    "up = ff.read('up').loc[:,'20200102':'20240305']"
   ]
  },
  {
   "cell_type": "code",
   "execution_count": 3,
   "id": "57adcc6b-cd21-4f3e-a274-8bc22151efd8",
   "metadata": {},
   "outputs": [],
   "source": [
    "up_filter = up  *  up.shift(1,axis = 1).replace({np.nan:1,1:np.nan}) * up.shift(-1,axis = 1).replace({np.nan:1,1:np.nan})\n",
    "filtered_index = up_filter.index.str.startswith('300') | up_filter.index.str.startswith('688') | up_filter.index.str.endswith('BJ')\n",
    "up_filter.loc[filtered_index,:] = np.nan"
   ]
  },
  {
   "cell_type": "code",
   "execution_count": 4,
   "id": "69e8972b-07a3-401a-a03e-f3d6860005ca",
   "metadata": {},
   "outputs": [],
   "source": [
    "open = (ff.read('open')*ff.read('post')).loc[:,'20200102':'20240305']\n",
    "close = (ff.read('close')*ff.read('post')).loc[:,'20200102':'20240305']\n",
    "high = (ff.read('high')*ff.read('post')).loc[:,'20200102':'20240305']\n",
    "low = (ff.read('low')*ff.read('post')).loc[:,'20200102':'20240305']"
   ]
  },
  {
   "cell_type": "code",
   "execution_count": 5,
   "id": "4a4390df-a440-4755-b738-c9a3e4f3858b",
   "metadata": {},
   "outputs": [],
   "source": [
    "def daily_K_line(event,n,open,close,high,low):\n",
    "    # 日均事件K线\n",
    "    T0open=event*open  # 以T0open作为基准\n",
    "    pre_close = event * close.shift(axis = 1)\n",
    "    data=pd.DataFrame(columns=['T'+str(j) for j in range(n)])\n",
    "    for j in range(n):\n",
    "        _open=(event*open.shift(-j,axis=1))/pre_close\n",
    "        _close=(event*close.shift(-j,axis=1))/pre_close\n",
    "        _low=(event*low.shift(-j,axis=1))/pre_close\n",
    "        _high=(event*high.shift(-j,axis=1))/pre_close\n",
    "        lst=[_open.mean().mean(),_close.mean().mean(),_low.mean().mean(),_high.mean().mean()]\n",
    "        data['T'+str(j)]=lst\n",
    "    data.index=['open','close','low','high']\n",
    "    data=data.T\n",
    "    data.index=pd.to_datetime(['20200101','20200102','20200103','20200104','20200105'])\n",
    "    mpf.plot(data,type='candle',style='default')\n",
    "    return data"
   ]
  },
  {
   "cell_type": "code",
   "execution_count": 6,
   "id": "cfed6c05-7f73-466c-8338-3533d1ffa284",
   "metadata": {},
   "outputs": [
    {
     "name": "stdout",
     "output_type": "stream",
     "text": [
      "连续两日涨停，收盘价相比最低价涨幅最小的分组\n"
     ]
    },
    {
     "data": {
      "image/png": "[encoded data removed]",
      "text/plain": [
       "<Figure size 800x575 with 2 Axes>"
      ]
     },
     "metadata": {},
     "output_type": "display_data"
    },
    {
     "data": {
      "text/html": [
       "<div>\n",
       "<style scoped>\n",
       "    .dataframe tbody tr th:only-of-type {\n",
       "        vertical-align: middle;\n",
       "    }\n",
       "\n",
       "    .dataframe tbody tr th {\n",
       "        vertical-align: top;\n",
       "    }\n",
       "\n",
       "    .dataframe thead th {\n",
       "        text-align: right;\n",
       "    }\n",
       "</style>\n",
       "<table border=\"1\" class=\"dataframe\">\n",
       "  <thead>\n",
       "    <tr style=\"text-align: right;\">\n",
       "      <th></th>\n",
       "      <th>open</th>\n",
       "      <th>close</th>\n",
       "      <th>low</th>\n",
       "      <th>high</th>\n",
       "    </tr>\n",
       "  </thead>\n",
       "  <tbody>\n",
       "    <tr>\n",
       "      <th>2020-01-01</th>\n",
       "      <td>1.011571</td>\n",
       "      <td>1.100763</td>\n",
       "      <td>1.001765</td>\n",
       "      <td>1.100763</td>\n",
       "    </tr>\n",
       "    <tr>\n",
       "      <th>2020-01-02</th>\n",
       "      <td>1.113845</td>\n",
       "      <td>1.072333</td>\n",
       "      <td>1.062137</td>\n",
       "      <td>1.140997</td>\n",
       "    </tr>\n",
       "    <tr>\n",
       "      <th>2020-01-03</th>\n",
       "      <td>1.063082</td>\n",
       "      <td>1.068953</td>\n",
       "      <td>1.036139</td>\n",
       "      <td>1.102700</td>\n",
       "    </tr>\n",
       "    <tr>\n",
       "      <th>2020-01-04</th>\n",
       "      <td>1.062623</td>\n",
       "      <td>1.065043</td>\n",
       "      <td>1.035983</td>\n",
       "      <td>1.097329</td>\n",
       "    </tr>\n",
       "    <tr>\n",
       "      <th>2020-01-05</th>\n",
       "      <td>1.061638</td>\n",
       "      <td>1.064843</td>\n",
       "      <td>1.035287</td>\n",
       "      <td>1.095147</td>\n",
       "    </tr>\n",
       "  </tbody>\n",
       "</table>\n",
       "</div>"
      ],
      "text/plain": [
       "                open     close       low      high\n",
       "2020-01-01  1.011571  1.100763  1.001765  1.100763\n",
       "2020-01-02  1.113845  1.072333  1.062137  1.140997\n",
       "2020-01-03  1.063082  1.068953  1.036139  1.102700\n",
       "2020-01-04  1.062623  1.065043  1.035983  1.097329\n",
       "2020-01-05  1.061638  1.064843  1.035287  1.095147"
      ]
     },
     "execution_count": 6,
     "metadata": {},
     "output_type": "execute_result"
    }
   ],
   "source": [
    "low_judge = ((close/low)* up_filter.shift(1,axis = 1) < ((close/low) * up_filter.shift(1,axis = 1)).quantile(1/3)).replace({False:np.nan,True:1}) * ff.filter0\n",
    "low_judge = low_judge.shift(-1,axis = 1)\n",
    "print('连续两日涨停，收盘价相比最低价涨幅最小的分组')\n",
    "daily_K_line(low_judge,5,open,close,high,low)"
   ]
  },
  {
   "cell_type": "code",
   "execution_count": 7,
   "id": "07962085-d988-494e-b229-1314db589033",
   "metadata": {},
   "outputs": [
    {
     "name": "stdout",
     "output_type": "stream",
     "text": [
      "连续两日涨停，收盘价相比最低价涨幅最大的分组\n"
     ]
    },
    {
     "data": {
      "image/png": "[encoded data removed]",
      "text/plain": [
       "<Figure size 800x575 with 2 Axes>"
      ]
     },
     "metadata": {},
     "output_type": "display_data"
    },
    {
     "data": {
      "text/html": [
       "<div>\n",
       "<style scoped>\n",
       "    .dataframe tbody tr th:only-of-type {\n",
       "        vertical-align: middle;\n",
       "    }\n",
       "\n",
       "    .dataframe tbody tr th {\n",
       "        vertical-align: top;\n",
       "    }\n",
       "\n",
       "    .dataframe thead th {\n",
       "        text-align: right;\n",
       "    }\n",
       "</style>\n",
       "<table border=\"1\" class=\"dataframe\">\n",
       "  <thead>\n",
       "    <tr style=\"text-align: right;\">\n",
       "      <th></th>\n",
       "      <th>open</th>\n",
       "      <th>close</th>\n",
       "      <th>low</th>\n",
       "      <th>high</th>\n",
       "    </tr>\n",
       "  </thead>\n",
       "  <tbody>\n",
       "    <tr>\n",
       "      <th>2020-01-01</th>\n",
       "      <td>1.010042</td>\n",
       "      <td>1.101848</td>\n",
       "      <td>1.000223</td>\n",
       "      <td>1.101848</td>\n",
       "    </tr>\n",
       "    <tr>\n",
       "      <th>2020-01-02</th>\n",
       "      <td>1.111392</td>\n",
       "      <td>1.130199</td>\n",
       "      <td>1.069461</td>\n",
       "      <td>1.173997</td>\n",
       "    </tr>\n",
       "    <tr>\n",
       "      <th>2020-01-03</th>\n",
       "      <td>1.113299</td>\n",
       "      <td>1.119701</td>\n",
       "      <td>1.079997</td>\n",
       "      <td>1.159124</td>\n",
       "    </tr>\n",
       "    <tr>\n",
       "      <th>2020-01-04</th>\n",
       "      <td>1.112257</td>\n",
       "      <td>1.115491</td>\n",
       "      <td>1.079394</td>\n",
       "      <td>1.153954</td>\n",
       "    </tr>\n",
       "    <tr>\n",
       "      <th>2020-01-05</th>\n",
       "      <td>1.111188</td>\n",
       "      <td>1.115059</td>\n",
       "      <td>1.079322</td>\n",
       "      <td>1.150873</td>\n",
       "    </tr>\n",
       "  </tbody>\n",
       "</table>\n",
       "</div>"
      ],
      "text/plain": [
       "                open     close       low      high\n",
       "2020-01-01  1.010042  1.101848  1.000223  1.101848\n",
       "2020-01-02  1.111392  1.130199  1.069461  1.173997\n",
       "2020-01-03  1.113299  1.119701  1.079997  1.159124\n",
       "2020-01-04  1.112257  1.115491  1.079394  1.153954\n",
       "2020-01-05  1.111188  1.115059  1.079322  1.150873"
      ]
     },
     "execution_count": 7,
     "metadata": {},
     "output_type": "execute_result"
    }
   ],
   "source": [
    "print('连续两日涨停，收盘价相比最低价涨幅最大的分组')\n",
    "low_judge = ((close/low)* up_filter.shift(1,axis = 1) > ((close/low) * up_filter.shift(1,axis = 1)).quantile(2/3)).replace({False:np.nan,True:1}) * ff.filter0\n",
    "low_judge = low_judge.shift(-1,axis = 1)\n",
    "daily_K_line(low_judge,5,open,close,high,low)"
   ]
  },
  {
   "cell_type": "code",
   "execution_count": 8,
   "id": "f4671a98-a185-42d5-853b-dbf7b4a5773f",
   "metadata": {},
   "outputs": [
    {
     "name": "stdout",
     "output_type": "stream",
     "text": [
      "连续两日涨停，收盘价相比最低价涨幅适中的分组\n"
     ]
    },
    {
     "data": {
      "image/png": "[encoded data removed]",
      "text/plain": [
       "<Figure size 800x575 with 2 Axes>"
      ]
     },
     "metadata": {},
     "output_type": "display_data"
    },
    {
     "data": {
      "text/html": [
       "<div>\n",
       "<style scoped>\n",
       "    .dataframe tbody tr th:only-of-type {\n",
       "        vertical-align: middle;\n",
       "    }\n",
       "\n",
       "    .dataframe tbody tr th {\n",
       "        vertical-align: top;\n",
       "    }\n",
       "\n",
       "    .dataframe thead th {\n",
       "        text-align: right;\n",
       "    }\n",
       "</style>\n",
       "<table border=\"1\" class=\"dataframe\">\n",
       "  <thead>\n",
       "    <tr style=\"text-align: right;\">\n",
       "      <th></th>\n",
       "      <th>open</th>\n",
       "      <th>close</th>\n",
       "      <th>low</th>\n",
       "      <th>high</th>\n",
       "    </tr>\n",
       "  </thead>\n",
       "  <tbody>\n",
       "    <tr>\n",
       "      <th>2020-01-01</th>\n",
       "      <td>1.010414</td>\n",
       "      <td>1.100770</td>\n",
       "      <td>1.001335</td>\n",
       "      <td>1.100770</td>\n",
       "    </tr>\n",
       "    <tr>\n",
       "      <th>2020-01-02</th>\n",
       "      <td>1.113902</td>\n",
       "      <td>1.094303</td>\n",
       "      <td>1.067415</td>\n",
       "      <td>1.148196</td>\n",
       "    </tr>\n",
       "    <tr>\n",
       "      <th>2020-01-03</th>\n",
       "      <td>1.084995</td>\n",
       "      <td>1.090140</td>\n",
       "      <td>1.055740</td>\n",
       "      <td>1.124735</td>\n",
       "    </tr>\n",
       "    <tr>\n",
       "      <th>2020-01-04</th>\n",
       "      <td>1.084389</td>\n",
       "      <td>1.087282</td>\n",
       "      <td>1.056001</td>\n",
       "      <td>1.120767</td>\n",
       "    </tr>\n",
       "    <tr>\n",
       "      <th>2020-01-05</th>\n",
       "      <td>1.083622</td>\n",
       "      <td>1.086352</td>\n",
       "      <td>1.055158</td>\n",
       "      <td>1.118831</td>\n",
       "    </tr>\n",
       "  </tbody>\n",
       "</table>\n",
       "</div>"
      ],
      "text/plain": [
       "                open     close       low      high\n",
       "2020-01-01  1.010414  1.100770  1.001335  1.100770\n",
       "2020-01-02  1.113902  1.094303  1.067415  1.148196\n",
       "2020-01-03  1.084995  1.090140  1.055740  1.124735\n",
       "2020-01-04  1.084389  1.087282  1.056001  1.120767\n",
       "2020-01-05  1.083622  1.086352  1.055158  1.118831"
      ]
     },
     "execution_count": 8,
     "metadata": {},
     "output_type": "execute_result"
    }
   ],
   "source": [
    "print('连续两日涨停，收盘价相比最低价涨幅适中的分组')\n",
    "mid_judge = ((close/low)* up_filter.shift(1,axis = 1) <= ((close/low) * up_filter.shift(1,axis = 1)).quantile(2/3)) * ((close/low)* up_filter.shift(1,axis = 1) >= ((close/low) * up_filter.shift(1,axis = 1)).quantile(1/3)) \n",
    "mid_judge = (mid_judge.replace({False:np.nan,True:1}) * ff.filter0).shift(-1,axis = 1)\n",
    "daily_K_line(mid_judge,5,open,close,high,low)"
   ]
  },
  {
   "cell_type": "markdown",
   "id": "63bc4ae0-0dc7-4295-8b0e-84df93791f0c",
   "metadata": {},
   "source": [
    "连续涨停（2日）"
   ]
  },
  {
   "cell_type": "code",
   "execution_count": 9,
   "id": "f344cf22-341f-4b4c-9aa4-06c7b17c737e",
   "metadata": {},
   "outputs": [],
   "source": [
    "up = ff.read('up').loc[ff.read('up_limit').index,'20200102':'20240305']\n",
    "condition_1 = up  *  up.shift(-1,axis = 1) *  up.shift(1,axis = 1).replace({np.nan:1,1:np.nan}) #连续两日涨停"
   ]
  },
  {
   "cell_type": "code",
   "execution_count": 10,
   "id": "01ccff01-3f86-45d9-a2ed-8e29b1d6e6a3",
   "metadata": {},
   "outputs": [],
   "source": [
    "condition_2 = (ff.read('open').loc[ff.read('up_limit').index,'20200102':'20240305'] != ff.read('up_limit').loc[:,'20200102':'20240305']).shift(-1, axis = 1)#T1开盘非涨停"
   ]
  },
  {
   "cell_type": "code",
   "execution_count": 11,
   "id": "e3323330-39ec-4c5b-98e6-0a148d15025c",
   "metadata": {},
   "outputs": [],
   "source": [
    "condition_3 = (ff.read('close').loc[ff.read('up_limit').index,'20200102':'20240305'] != ff.read('up_limit').loc[:,'20200102':'20240305']).replace({True:1,False:0})\n",
    "condition_3 = (condition_3.rolling(window = 5,axis = 1,closed = 'left').sum() == 5) #前五天的条件"
   ]
  },
  {
   "cell_type": "code",
   "execution_count": 12,
   "id": "fc639e90-5498-4adb-b02a-1502c368d705",
   "metadata": {},
   "outputs": [],
   "source": [
    "condition_4 = (ff.read('open').loc[ff.read('up_limit').index,'20200102':'20240305'] != ff.read('up_limit').loc[:,'20200102':'20240305']).shift(-3, axis = 1)# T3开盘非涨停"
   ]
  },
  {
   "cell_type": "code",
   "execution_count": 13,
   "id": "9ed6f6c4-a23f-4e4b-8c0e-c5e273fe2fa2",
   "metadata": {},
   "outputs": [],
   "source": [
    "condition_5 =  (ff.read('close').loc[ff.read('up_limit').index,'20200102':'20240305'] != ff.read('up_limit').loc[:,'20200102':'20240305']).replace({True:1,False:0}).shift(-2, axis = 1) # T2尾盘非涨停"
   ]
  },
  {
   "cell_type": "code",
   "execution_count": 14,
   "id": "562673a6-a1c9-415f-ab27-dd1c2e2ce2a8",
   "metadata": {},
   "outputs": [],
   "source": [
    "filter_2 = condition_1 * condition_2 * condition_3 #* condition_4 * condition_5\n",
    "filtered_index = filter_2.index.str.startswith('300') | filter_2.index.str.startswith('688') | filter_2.index.str.endswith('BJ')\n",
    "filter_2.loc[filtered_index,:] = np.nan"
   ]
  },
  {
   "cell_type": "code",
   "execution_count": 15,
   "id": "d230d981-d3a9-4e8d-a234-b6ebc7c8d05d",
   "metadata": {},
   "outputs": [],
   "source": [
    "open = (ff.read('open')*ff.read('post')).loc[ff.read('up_limit').index,'20200102':'20240305']\n",
    "close = (ff.read('close')*ff.read('post')).loc[ff.read('up_limit').index,'20200102':'20240305']\n",
    "high = (ff.read('high')*ff.read('post')).loc[ff.read('up_limit').index,'20200102':'20240305']\n",
    "low = (ff.read('low')*ff.read('post')).loc[ff.read('up_limit').index,'20200102':'20240305']"
   ]
  },
  {
   "cell_type": "code",
   "execution_count": 16,
   "id": "e478e638-b8bf-485e-95cb-39ceb61bc462",
   "metadata": {},
   "outputs": [
    {
     "name": "stdout",
     "output_type": "stream",
     "text": [
      "连续涨停2日\n"
     ]
    },
    {
     "data": {
      "image/png": "[encoded data removed]",
      "text/plain": [
       "<Figure size 800x575 with 2 Axes>"
      ]
     },
     "metadata": {},
     "output_type": "display_data"
    },
    {
     "data": {
      "text/html": [
       "<div>\n",
       "<style scoped>\n",
       "    .dataframe tbody tr th:only-of-type {\n",
       "        vertical-align: middle;\n",
       "    }\n",
       "\n",
       "    .dataframe tbody tr th {\n",
       "        vertical-align: top;\n",
       "    }\n",
       "\n",
       "    .dataframe thead th {\n",
       "        text-align: right;\n",
       "    }\n",
       "</style>\n",
       "<table border=\"1\" class=\"dataframe\">\n",
       "  <thead>\n",
       "    <tr style=\"text-align: right;\">\n",
       "      <th></th>\n",
       "      <th>open</th>\n",
       "      <th>close</th>\n",
       "      <th>low</th>\n",
       "      <th>high</th>\n",
       "    </tr>\n",
       "  </thead>\n",
       "  <tbody>\n",
       "    <tr>\n",
       "      <th>2020-01-01</th>\n",
       "      <td>1.012972</td>\n",
       "      <td>1.101129</td>\n",
       "      <td>1.003455</td>\n",
       "      <td>1.101129</td>\n",
       "    </tr>\n",
       "    <tr>\n",
       "      <th>2020-01-02</th>\n",
       "      <td>1.143084</td>\n",
       "      <td>1.212522</td>\n",
       "      <td>1.118439</td>\n",
       "      <td>1.212522</td>\n",
       "    </tr>\n",
       "    <tr>\n",
       "      <th>2020-01-03</th>\n",
       "      <td>1.244853</td>\n",
       "      <td>1.236247</td>\n",
       "      <td>1.181545</td>\n",
       "      <td>1.299396</td>\n",
       "    </tr>\n",
       "    <tr>\n",
       "      <th>2020-01-04</th>\n",
       "      <td>1.231426</td>\n",
       "      <td>1.235635</td>\n",
       "      <td>1.180689</td>\n",
       "      <td>1.292306</td>\n",
       "    </tr>\n",
       "    <tr>\n",
       "      <th>2020-01-05</th>\n",
       "      <td>1.224584</td>\n",
       "      <td>1.231757</td>\n",
       "      <td>1.180901</td>\n",
       "      <td>1.283932</td>\n",
       "    </tr>\n",
       "  </tbody>\n",
       "</table>\n",
       "</div>"
      ],
      "text/plain": [
       "                open     close       low      high\n",
       "2020-01-01  1.012972  1.101129  1.003455  1.101129\n",
       "2020-01-02  1.143084  1.212522  1.118439  1.212522\n",
       "2020-01-03  1.244853  1.236247  1.181545  1.299396\n",
       "2020-01-04  1.231426  1.235635  1.180689  1.292306\n",
       "2020-01-05  1.224584  1.231757  1.180901  1.283932"
      ]
     },
     "execution_count": 16,
     "metadata": {},
     "output_type": "execute_result"
    }
   ],
   "source": [
    "print('连续涨停2日')\n",
    "daily_K_line(filter_2,5,open,close,high,low)"
   ]
  },
  {
   "cell_type": "code",
   "execution_count": 17,
   "id": "6b88940e-1751-4614-8425-ec95f5cd3605",
   "metadata": {},
   "outputs": [
    {
     "name": "stdout",
     "output_type": "stream",
     "text": [
      "连续涨停2日\n",
      "日均发生次数: 3.4623762376237623\n",
      "日均发生中位数: 3.0\n",
      "日均发生概率 0.903960396039604\n"
     ]
    }
   ],
   "source": [
    "print('连续涨停2日')\n",
    "print('日均发生次数:',filter_2.sum().mean()) \n",
    "print('日均发生中位数:',filter_2.sum().median())\n",
    "print('日均发生概率',(filter_2.sum()>0).sum()/filter_2.shape[1])"
   ]
  },
  {
   "cell_type": "code",
   "execution_count": 20,
   "id": "2f482b12-40cc-4c53-af62-2690d13a7f9a",
   "metadata": {},
   "outputs": [
    {
     "name": "stdout",
     "output_type": "stream",
     "text": [
      "连续涨停2日, T1T1开盘非涨停,T2尾盘非涨停，T3开盘非涨停\n"
     ]
    },
    {
     "data": {
      "image/png": "[encoded data removed]",
      "text/plain": [
       "<Figure size 800x575 with 2 Axes>"
      ]
     },
     "metadata": {},
     "output_type": "display_data"
    },
    {
     "data": {
      "text/html": [
       "<div>\n",
       "<style scoped>\n",
       "    .dataframe tbody tr th:only-of-type {\n",
       "        vertical-align: middle;\n",
       "    }\n",
       "\n",
       "    .dataframe tbody tr th {\n",
       "        vertical-align: top;\n",
       "    }\n",
       "\n",
       "    .dataframe thead th {\n",
       "        text-align: right;\n",
       "    }\n",
       "</style>\n",
       "<table border=\"1\" class=\"dataframe\">\n",
       "  <thead>\n",
       "    <tr style=\"text-align: right;\">\n",
       "      <th></th>\n",
       "      <th>open</th>\n",
       "      <th>close</th>\n",
       "      <th>low</th>\n",
       "      <th>high</th>\n",
       "    </tr>\n",
       "  </thead>\n",
       "  <tbody>\n",
       "    <tr>\n",
       "      <th>2020-01-01</th>\n",
       "      <td>1.014206</td>\n",
       "      <td>1.101381</td>\n",
       "      <td>1.004704</td>\n",
       "      <td>1.101381</td>\n",
       "    </tr>\n",
       "    <tr>\n",
       "      <th>2020-01-02</th>\n",
       "      <td>1.143051</td>\n",
       "      <td>1.213102</td>\n",
       "      <td>1.119140</td>\n",
       "      <td>1.213102</td>\n",
       "    </tr>\n",
       "    <tr>\n",
       "      <th>2020-01-03</th>\n",
       "      <td>1.231314</td>\n",
       "      <td>1.194619</td>\n",
       "      <td>1.154699</td>\n",
       "      <td>1.285896</td>\n",
       "    </tr>\n",
       "    <tr>\n",
       "      <th>2020-01-04</th>\n",
       "      <td>1.167788</td>\n",
       "      <td>1.179878</td>\n",
       "      <td>1.130937</td>\n",
       "      <td>1.229155</td>\n",
       "    </tr>\n",
       "    <tr>\n",
       "      <th>2020-01-05</th>\n",
       "      <td>1.164645</td>\n",
       "      <td>1.172221</td>\n",
       "      <td>1.128251</td>\n",
       "      <td>1.218309</td>\n",
       "    </tr>\n",
       "  </tbody>\n",
       "</table>\n",
       "</div>"
      ],
      "text/plain": [
       "                open     close       low      high\n",
       "2020-01-01  1.014206  1.101381  1.004704  1.101381\n",
       "2020-01-02  1.143051  1.213102  1.119140  1.213102\n",
       "2020-01-03  1.231314  1.194619  1.154699  1.285896\n",
       "2020-01-04  1.167788  1.179878  1.130937  1.229155\n",
       "2020-01-05  1.164645  1.172221  1.128251  1.218309"
      ]
     },
     "execution_count": 20,
     "metadata": {},
     "output_type": "execute_result"
    }
   ],
   "source": [
    "filter_2 = condition_1 * condition_2 * condition_3 * condition_4 * condition_5\n",
    "filtered_index = filter_2.index.str.startswith('300') | filter_2.index.str.startswith('688') | filter_2.index.str.endswith('BJ')\n",
    "filter_2.loc[filtered_index,:] = np.nan\n",
    "print('连续涨停2日, T1T1开盘非涨停,T2尾盘非涨停，T3开盘非涨停')\n",
    "daily_K_line(filter_2,5,open,close,high,low)"
   ]
  },
  {
   "cell_type": "code",
   "execution_count": 19,
   "id": "f46a1850-1b72-4eca-b902-6bf751666b9c",
   "metadata": {},
   "outputs": [
    {
     "name": "stdout",
     "output_type": "stream",
     "text": [
      "连续涨停2日,且T2尾盘非涨停，T3开盘非涨停\n",
      "日均发生次数: 2.4722772277227723\n",
      "日均发生中位数: 2.0\n",
      "日均发生概率 0.8227722772277227\n"
     ]
    }
   ],
   "source": [
    "print('连续涨停2日,且T2尾盘非涨停，T3开盘非涨停')\n",
    "print('日均发生次数:',filter_2.sum().mean()) \n",
    "print('日均发生中位数:',filter_2.sum().median())\n",
    "print('日均发生概率',(filter_2.sum()>0).sum()/filter_2.shape[1])"
   ]
  },
  {
   "cell_type": "code",
   "execution_count": 20,
   "id": "0567771d-24fe-4fe9-a541-ecdd642643e3",
   "metadata": {},
   "outputs": [],
   "source": [
    "condition_1 = up  *  up.shift(-1,axis = 1) *  up.shift(1,axis = 1).replace({np.nan:1,1:np.nan}) *  up.shift(-2,axis = 1)#连续三日涨停\n",
    "condition_4 = (ff.read('open').loc[ff.read('up_limit').index,'20200102':'20240305'] != ff.read('up_limit').loc[:,'20200102':'20240305']).shift(-2, axis = 1)# T2开盘非涨停"
   ]
  },
  {
   "cell_type": "code",
   "execution_count": 27,
   "id": "8e4e480d-345c-4632-bfb2-e38df4dde266",
   "metadata": {},
   "outputs": [],
   "source": [
    "def daily_K_line(event,n,open,close,high,low):\n",
    "    # 日均事件K线\n",
    "    T0open=event*open  # 以T0open作为基准\n",
    "    pre_close = event * close.shift(axis = 1)\n",
    "    data=pd.DataFrame(columns=['T'+str(j) for j in range(n)])\n",
    "    for j in range(n):\n",
    "        _open=(event*open.shift(-j,axis=1))/pre_close\n",
    "        _close=(event*close.shift(-j,axis=1))/pre_close\n",
    "        _low=(event*low.shift(-j,axis=1))/pre_close\n",
    "        _high=(event*high.shift(-j,axis=1))/pre_close\n",
    "        lst=[_open.mean().mean(),_close.mean().mean(),_low.mean().mean(),_high.mean().mean()]\n",
    "        data['T'+str(j)]=lst\n",
    "    data.index=['open','close','low','high']\n",
    "    data=data.T\n",
    "    data.index=pd.to_datetime(['20200101','20200102','20200103','20200104','20200105','20200106','20200107'])\n",
    "    print(data)\n",
    "    mpf.plot(data,type='candle',style='default')\n",
    "    return data"
   ]
  },
  {
   "cell_type": "code",
   "execution_count": 22,
   "id": "f673d672-bf60-4169-9d6e-e91afc3a1768",
   "metadata": {},
   "outputs": [
    {
     "name": "stdout",
     "output_type": "stream",
     "text": [
      "连续涨停3日 T2开盘非涨停 T-5日到T-1日，没有出现过收盘涨停\n",
      "                open     close       low      high\n",
      "2020-01-01  1.014183  1.100748  1.005478  1.100748\n",
      "2020-01-02  1.159705  1.211672  1.132864  1.211672\n",
      "2020-01-03  1.259320  1.333776  1.221197  1.333776\n",
      "2020-01-04  1.367971  1.356569  1.286893  1.433641\n",
      "2020-01-05  1.347763  1.356723  1.288692  1.422828\n",
      "2020-01-06  1.340375  1.347673  1.290698  1.410077\n",
      "2020-01-07  1.334935  1.342850  1.284488  1.399770\n"
     ]
    },
    {
     "data": {
      "image/png": "[encoded data removed]",
      "text/plain": [
       "<Figure size 800x575 with 2 Axes>"
      ]
     },
     "metadata": {},
     "output_type": "display_data"
    },
    {
     "data": {
      "text/html": [
       "<div>\n",
       "<style scoped>\n",
       "    .dataframe tbody tr th:only-of-type {\n",
       "        vertical-align: middle;\n",
       "    }\n",
       "\n",
       "    .dataframe tbody tr th {\n",
       "        vertical-align: top;\n",
       "    }\n",
       "\n",
       "    .dataframe thead th {\n",
       "        text-align: right;\n",
       "    }\n",
       "</style>\n",
       "<table border=\"1\" class=\"dataframe\">\n",
       "  <thead>\n",
       "    <tr style=\"text-align: right;\">\n",
       "      <th></th>\n",
       "      <th>open</th>\n",
       "      <th>close</th>\n",
       "      <th>low</th>\n",
       "      <th>high</th>\n",
       "    </tr>\n",
       "  </thead>\n",
       "  <tbody>\n",
       "    <tr>\n",
       "      <th>2020-01-01</th>\n",
       "      <td>1.014183</td>\n",
       "      <td>1.100748</td>\n",
       "      <td>1.005478</td>\n",
       "      <td>1.100748</td>\n",
       "    </tr>\n",
       "    <tr>\n",
       "      <th>2020-01-02</th>\n",
       "      <td>1.159705</td>\n",
       "      <td>1.211672</td>\n",
       "      <td>1.132864</td>\n",
       "      <td>1.211672</td>\n",
       "    </tr>\n",
       "    <tr>\n",
       "      <th>2020-01-03</th>\n",
       "      <td>1.259320</td>\n",
       "      <td>1.333776</td>\n",
       "      <td>1.221197</td>\n",
       "      <td>1.333776</td>\n",
       "    </tr>\n",
       "    <tr>\n",
       "      <th>2020-01-04</th>\n",
       "      <td>1.367971</td>\n",
       "      <td>1.356569</td>\n",
       "      <td>1.286893</td>\n",
       "      <td>1.433641</td>\n",
       "    </tr>\n",
       "    <tr>\n",
       "      <th>2020-01-05</th>\n",
       "      <td>1.347763</td>\n",
       "      <td>1.356723</td>\n",
       "      <td>1.288692</td>\n",
       "      <td>1.422828</td>\n",
       "    </tr>\n",
       "    <tr>\n",
       "      <th>2020-01-06</th>\n",
       "      <td>1.340375</td>\n",
       "      <td>1.347673</td>\n",
       "      <td>1.290698</td>\n",
       "      <td>1.410077</td>\n",
       "    </tr>\n",
       "    <tr>\n",
       "      <th>2020-01-07</th>\n",
       "      <td>1.334935</td>\n",
       "      <td>1.342850</td>\n",
       "      <td>1.284488</td>\n",
       "      <td>1.399770</td>\n",
       "    </tr>\n",
       "  </tbody>\n",
       "</table>\n",
       "</div>"
      ],
      "text/plain": [
       "                open     close       low      high\n",
       "2020-01-01  1.014183  1.100748  1.005478  1.100748\n",
       "2020-01-02  1.159705  1.211672  1.132864  1.211672\n",
       "2020-01-03  1.259320  1.333776  1.221197  1.333776\n",
       "2020-01-04  1.367971  1.356569  1.286893  1.433641\n",
       "2020-01-05  1.347763  1.356723  1.288692  1.422828\n",
       "2020-01-06  1.340375  1.347673  1.290698  1.410077\n",
       "2020-01-07  1.334935  1.342850  1.284488  1.399770"
      ]
     },
     "execution_count": 22,
     "metadata": {},
     "output_type": "execute_result"
    }
   ],
   "source": [
    "filter_2 = condition_1 * condition_3 * condition_4\n",
    "filtered_index = filter_2.index.str.startswith('300') | filter_2.index.str.startswith('688') | filter_2.index.str.endswith('BJ')\n",
    "filter_2.loc[filtered_index,:] = np.nan\n",
    "print('连续涨停3日 T2开盘非涨停 T-5日到T-1日，没有出现过收盘涨停')\n",
    "daily_K_line(filter_2,7,open,close,high,low)"
   ]
  },
  {
   "cell_type": "code",
   "execution_count": 23,
   "id": "c1724cdb-ae31-42af-829c-eea88106aaba",
   "metadata": {},
   "outputs": [
    {
     "name": "stdout",
     "output_type": "stream",
     "text": [
      "连续涨停3日\n",
      "日均发生次数: 0.9504950495049505\n",
      "日均发生中位数: 1.0\n",
      "日均发生概率 0.592079207920792\n"
     ]
    }
   ],
   "source": [
    "print('连续涨停3日')\n",
    "print('日均发生次数:',filter_2.sum().mean()) \n",
    "print('日均发生中位数:',filter_2.sum().median())\n",
    "print('日均发生概率',(filter_2.sum()>0).sum()/filter_2.shape[1])"
   ]
  },
  {
   "cell_type": "markdown",
   "id": "b8b6006a-ddfb-410e-a482-5269b96444a6",
   "metadata": {},
   "source": [
    "首板炸板"
   ]
  },
  {
   "cell_type": "code",
   "execution_count": 38,
   "id": "b46ccd51-c9c2-44d3-b56b-0ca46bbac073",
   "metadata": {},
   "outputs": [],
   "source": [
    "def daily_K_line(event,n,open,close,high,low):\n",
    "    # 日均事件K线\n",
    "    T0open=event*open  # 以T0open作为基准\n",
    "    pre_close = event * close.shift(axis = 1)\n",
    "    data=pd.DataFrame(columns=['T'+str(j) for j in range(n)])\n",
    "    for j in range(n):\n",
    "        _open=(event*open.shift(-j,axis=1))/pre_close\n",
    "        _close=(event*close.shift(-j,axis=1))/pre_close\n",
    "        _low=(event*low.shift(-j,axis=1))/pre_close\n",
    "        _high=(event*high.shift(-j,axis=1))/pre_close\n",
    "        lst=[_open.mean().mean(),_close.mean().mean(),_low.mean().mean(),_high.mean().mean()]\n",
    "        data['T'+str(j)]=lst\n",
    "    data.index=['open','close','low','high']\n",
    "    data=data.T\n",
    "    print(data)\n",
    "    data.index=pd.to_datetime(['20200101','20200102','20200103','20200104','20200105'])\n",
    "    mpf.plot(data,type='candle',style='default')\n",
    "    return data"
   ]
  },
  {
   "cell_type": "code",
   "execution_count": 46,
   "id": "3d63f6c4-5900-4007-b637-a69123f06794",
   "metadata": {},
   "outputs": [],
   "source": [
    "condition_1_1 = (ff.read('high').loc[ff.read('up_limit').index,'20200102':'20240305'] >= ff.read('up_limit').loc[:,'20200102':'20240305']) # T0日最高价涨停\n",
    "condition_1_2 = (ff.read('close').loc[ff.read('up_limit').index,'20200102':'20240305'] < ff.read('up_limit').loc[:,'20200102':'20240305']) # T0日尾板不涨停\n",
    "condition_1_3 = (ff.read('open').loc[ff.read('up_limit').index,'20200102':'20240305'] < ff.read('up_limit').loc[:,'20200102':'20240305']).shift(-1,axis = 1) # T1日开盘不涨停\n",
    "condition_1 = (condition_1_1 * condition_1_2).replace({True:1,False:0})"
   ]
  },
  {
   "cell_type": "code",
   "execution_count": 47,
   "id": "7c32f478-74d3-4769-a7c5-97adfe475344",
   "metadata": {},
   "outputs": [],
   "source": [
    "condition_3 = (ff.read('close').loc[ff.read('up_limit').index,'20200102':'20240305'] < ff.read('up_limit').loc[:,'20200102':'20240305']).replace({True:1,False:0})\n",
    "condition_3 = (condition_3.rolling(window = 5,axis = 1,closed = 'left').sum() == 5) #前五天的条件"
   ]
  },
  {
   "cell_type": "code",
   "execution_count": 48,
   "id": "5c46ce03-0862-4ab0-a0a1-17778f977611",
   "metadata": {},
   "outputs": [],
   "source": [
    "condition_4_open_high = (ff.read('open').loc[ff.read('up_limit').index,'20200102':'20240305'] / ff.read('pre_close').loc[ff.read('up_limit').index,'20200102':'20240305']-1 >0.018).shift(-1,axis = 1).replace({True:1,False:0})  # T2开盘的分组"
   ]
  },
  {
   "cell_type": "code",
   "execution_count": 49,
   "id": "2ce44c57-74e1-441b-99f9-e55a14e99927",
   "metadata": {},
   "outputs": [
    {
     "name": "stdout",
     "output_type": "stream",
     "text": [
      "首板炸板 high T0日最高价涨停 T0日尾板不涨停 T1收盘价大于1.8%\n",
      "        open     close       low      high\n",
      "T0  1.008798  1.064364  0.996266  1.100969\n",
      "T1  1.100847  1.102774  1.059820  1.140364\n",
      "T2  1.104500  1.106531  1.067596  1.144080\n",
      "T3  1.107907  1.109074  1.074542  1.148832\n",
      "T4  1.108064  1.111333  1.075466  1.146651\n"
     ]
    },
    {
     "data": {
      "image/png": "[encoded data removed]",
      "text/plain": [
       "<Figure size 800x575 with 2 Axes>"
      ]
     },
     "metadata": {},
     "output_type": "display_data"
    },
    {
     "name": "stdout",
     "output_type": "stream",
     "text": [
      "首板炸板 high\n",
      "日均发生次数: 0.8722772277227723\n",
      "日均发生中位数: 0.0\n",
      "日均发生概率 0.46633663366336636\n"
     ]
    }
   ],
   "source": [
    "filter_2 = condition_1 * condition_3 * condition_4_open_high  * ff.filter0.loc[filter_2.index,filter_2.columns]\n",
    "filtered_index = filter_2.index.str.startswith('300') | filter_2.index.str.startswith('688') | filter_2.index.str.endswith('BJ')\n",
    "filter_2.loc[filtered_index,:] = np.nan\n",
    "print('首板炸板 high T0日最高价涨停 T0日尾板不涨停 T1收盘价大于1.8%')\n",
    "daily_K_line(filter_2,5,open,close,high,low)\n",
    "print('首板炸板 high')\n",
    "print('日均发生次数:',filter_2.sum().mean()) \n",
    "print('日均发生中位数:',filter_2.sum().median())\n",
    "print('日均发生概率',(filter_2.sum()>0).sum()/filter_2.shape[1])"
   ]
  },
  {
   "cell_type": "code",
   "execution_count": 56,
   "id": "865d4490-b57c-4a7b-a1f6-e351d80adc58",
   "metadata": {},
   "outputs": [
    {
     "name": "stdout",
     "output_type": "stream",
     "text": [
      "首板炸板 low T0日最高价涨停 T0日尾板不涨停 T1收盘价小于-1.8%\n",
      "        open     close       low      high\n",
      "T0  1.012201  1.063558  0.996331  1.102131\n",
      "T1  1.030784  1.038787  1.005793  1.071462\n",
      "T2  1.032159  1.033706  1.006459  1.065021\n",
      "T3  1.030411  1.032896  1.006355  1.061863\n",
      "T4  1.030679  1.031317  1.006326  1.058920\n"
     ]
    },
    {
     "data": {
      "image/png": "[encoded data removed]",
      "text/plain": [
       "<Figure size 800x575 with 2 Axes>"
      ]
     },
     "metadata": {},
     "output_type": "display_data"
    },
    {
     "name": "stdout",
     "output_type": "stream",
     "text": [
      "首板炸板 low\n",
      "日均发生次数: 4.44950495049505\n",
      "日均发生中位数: 4.0\n",
      "日均发生概率 0.9277227722772278\n"
     ]
    }
   ],
   "source": [
    "condition_4_open_low = (ff.read('open').loc[ff.read('up_limit').index,'20200102':'20240305'] / ff.read('pre_close').loc[ff.read('up_limit').index,'20200102':'20240305']-1 <-0.018).shift(-1,axis = 1).replace({True:1,False:0})\n",
    "filter_2 = condition_1 * condition_3 * condition_4_open_low  * ff.filter0.loc[filter_2.index,filter_2.columns]\n",
    "filtered_index = filter_2.index.str.startswith('300') | filter_2.index.str.startswith('688') | filter_2.index.str.endswith('BJ')\n",
    "filter_2.loc[filtered_index,:] = np.nan\n",
    "print('首板炸板 low T0日最高价涨停 T0日尾板不涨停 T1收盘价小于-1.8%')\n",
    "daily_K_line(filter_2,5,open,close,high,low)\n",
    "print('首板炸板 low')\n",
    "print('日均发生次数:',filter_2.sum().mean()) \n",
    "print('日均发生中位数:',filter_2.sum().median())\n",
    "print('日均发生概率',(filter_2.sum()>0).sum()/filter_2.shape[1])"
   ]
  },
  {
   "cell_type": "code",
   "execution_count": 51,
   "id": "593bfe2c-da21-4474-83ec-89b244f9be92",
   "metadata": {},
   "outputs": [
    {
     "name": "stdout",
     "output_type": "stream",
     "text": [
      "首板炸板 mid T0日最高价涨停 T0日尾板不涨停 T1收盘价在-1.8%与1.8%之间\n",
      "        open     close       low      high\n",
      "T0  1.008592  1.062299  0.997000  1.100384\n",
      "T1  1.058148  1.062484  1.029145  1.095036\n",
      "T2  1.059291  1.060380  1.032976  1.090942\n",
      "T3  1.058992  1.060866  1.033209  1.089603\n",
      "T4  1.058941  1.060109  1.033344  1.088770\n"
     ]
    },
    {
     "data": {
      "image/png": "[encoded data removed]",
      "text/plain": [
       "<Figure size 800x575 with 2 Axes>"
      ]
     },
     "metadata": {},
     "output_type": "display_data"
    },
    {
     "name": "stdout",
     "output_type": "stream",
     "text": [
      "首板炸板 mid\n",
      "日均发生次数: 9.016831683168316\n",
      "日均发生中位数: 8.0\n",
      "日均发生概率 0.9841584158415841\n"
     ]
    }
   ],
   "source": [
    "condition_4_open_mid = (ff.read('open').loc[ff.read('up_limit').index,'20200102':'20240305'] / ff.read('pre_close').loc[ff.read('up_limit').index,'20200102':'20240305']-1 >=-0.018).shift(-1,axis = 1).replace({True:1,False:0}) * (ff.read('open').loc[ff.read('up_limit').index,'20200102':'20240305'] / ff.read('pre_close').loc[ff.read('up_limit').index,'20200102':'20240305']-1 <=0.018).shift(-1,axis = 1).replace({True:1,False:0})\n",
    "filter_2 = condition_1 * condition_3 * condition_4_open_mid  * ff.filter0.loc[filter_2.index,filter_2.columns]\n",
    "filtered_index = filter_2.index.str.startswith('300') | filter_2.index.str.startswith('688') | filter_2.index.str.endswith('BJ')\n",
    "filter_2.loc[filtered_index,:] = np.nan\n",
    "print('首板炸板 mid T0日最高价涨停 T0日尾板不涨停 T1收盘价在-1.8%与1.8%之间')\n",
    "daily_K_line(filter_2,5,open,close,high,low)\n",
    "print('首板炸板 mid')\n",
    "print('日均发生次数:',filter_2.sum().mean()) \n",
    "print('日均发生中位数:',filter_2.sum().median())\n",
    "print('日均发生概率',(filter_2.sum()>0).sum()/filter_2.shape[1])"
   ]
  },
  {
   "cell_type": "code",
   "execution_count": 31,
   "id": "c650f2b4-f28e-431f-959d-9bb65cb0b059",
   "metadata": {},
   "outputs": [],
   "source": [
    "stock_list = filter_2.T.stack()[filter_2.T.stack() !=0]\n",
    "stock_list = list(stock_list.index)"
   ]
  },
  {
   "cell_type": "code",
   "execution_count": 32,
   "id": "0a179a40-4153-4d9d-9048-548c3857727e",
   "metadata": {
    "scrolled": true
   },
   "outputs": [],
   "source": [
    "grouped = {}\n",
    "for key, value in stock_list:\n",
    "    if key not in grouped:\n",
    "        grouped[key] = []\n",
    "    grouped[key].append(value)"
   ]
  },
  {
   "cell_type": "code",
   "execution_count": 33,
   "id": "1e55a2a7-af9d-4912-84a2-91906aeefb72",
   "metadata": {
    "scrolled": true
   },
   "outputs": [
    {
     "name": "stderr",
     "output_type": "stream",
     "text": [
      "  0%|▍                                                                                                                                | 3/994 [00:21<1:56:04,  7.03s/it]\n"
     ]
    },
    {
     "ename": "KeyboardInterrupt",
     "evalue": "",
     "output_type": "error",
     "traceback": [
      "\u001b[0;31m---------------------------------------------------------------------------\u001b[0m",
      "\u001b[0;31mKeyboardInterrupt\u001b[0m                         Traceback (most recent call last)",
      "Cell \u001b[0;32mIn[33], line 7\u001b[0m\n\u001b[1;32m      5\u001b[0m \u001b[38;5;28;01mfor\u001b[39;00m i \u001b[38;5;129;01min\u001b[39;00m stock:\n\u001b[1;32m      6\u001b[0m     data_daily \u001b[38;5;241m=\u001b[39m ff\u001b[38;5;241m.\u001b[39mread_min(i)\u001b[38;5;241m.\u001b[39mcopy()\n\u001b[0;32m----> 7\u001b[0m     data_daily\u001b[38;5;241m.\u001b[39mindex \u001b[38;5;241m=\u001b[39m \u001b[43mpd\u001b[49m\u001b[38;5;241;43m.\u001b[39;49m\u001b[43mto_datetime\u001b[49m\u001b[43m(\u001b[49m\u001b[43mff\u001b[49m\u001b[38;5;241;43m.\u001b[39;49m\u001b[43mread_min\u001b[49m\u001b[43m(\u001b[49m\u001b[43mi\u001b[49m\u001b[43m)\u001b[49m\u001b[38;5;241;43m.\u001b[39;49m\u001b[43mindex\u001b[49m\u001b[43m)\u001b[49m\u001b[38;5;241m.\u001b[39mstrftime(\u001b[38;5;124m'\u001b[39m\u001b[38;5;124m%\u001b[39m\u001b[38;5;124mY\u001b[39m\u001b[38;5;124m%\u001b[39m\u001b[38;5;124mm\u001b[39m\u001b[38;5;132;01m%d\u001b[39;00m\u001b[38;5;124m'\u001b[39m)\n\u001b[1;32m      8\u001b[0m     ret_daily\u001b[38;5;241m.\u001b[39mappend((data_daily\u001b[38;5;241m.\u001b[39mloc[day,\u001b[38;5;124m'\u001b[39m\u001b[38;5;124mclose\u001b[39m\u001b[38;5;124m'\u001b[39m]\u001b[38;5;241m/\u001b[39mdata_daily\u001b[38;5;241m.\u001b[39mloc[day,\u001b[38;5;124m'\u001b[39m\u001b[38;5;124mopen\u001b[39m\u001b[38;5;124m'\u001b[39m][\u001b[38;5;241m0\u001b[39m] \u001b[38;5;241m-\u001b[39m \u001b[38;5;241m1\u001b[39m)\u001b[38;5;241m.\u001b[39mvalues)\n\u001b[1;32m      9\u001b[0m ret_all\u001b[38;5;241m.\u001b[39mappend(np\u001b[38;5;241m.\u001b[39mmean(ret_daily,axis \u001b[38;5;241m=\u001b[39m \u001b[38;5;241m0\u001b[39m))\n",
      "\u001b[0;31mKeyboardInterrupt\u001b[0m: "
     ]
    }
   ],
   "source": [
    "ret_all = []\n",
    "for day in tqdm(grouped.keys()):\n",
    "    stock = grouped[day]\n",
    "    ret_daily = []\n",
    "    for i in stock:\n",
    "        data_daily = ff.read_min(i).copy()\n",
    "        data_daily.index = pd.to_datetime(ff.read_min(i).index).strftime('%Y%m%d')\n",
    "        ret_daily.append((data_daily.loc[day,'close']/data_daily.loc[day,'open'][0] - 1).values)\n",
    "    ret_all.append(np.mean(ret_daily,axis = 0))"
   ]
  },
  {
   "cell_type": "code",
   "execution_count": null,
   "id": "9065d005-8eb9-47a5-8e65-af6d7cba8bd1",
   "metadata": {},
   "outputs": [],
   "source": [
    "plt.plot(np.mean(ret_all,axis = 0))"
   ]
  },
  {
   "cell_type": "code",
   "execution_count": null,
   "id": "787263e5-ea94-4eb6-bc67-2850f95d4c8e",
   "metadata": {},
   "outputs": [],
   "source": [
    "plt.plot(ret_all[1])"
   ]
  },
  {
   "cell_type": "code",
   "execution_count": 34,
   "id": "257b47ed-ebc5-48d5-b2c3-3cf1fd982807",
   "metadata": {},
   "outputs": [
    {
     "data": {
      "text/html": [
       "<div>\n",
       "<style scoped>\n",
       "    .dataframe tbody tr th:only-of-type {\n",
       "        vertical-align: middle;\n",
       "    }\n",
       "\n",
       "    .dataframe tbody tr th {\n",
       "        vertical-align: top;\n",
       "    }\n",
       "\n",
       "    .dataframe thead th {\n",
       "        text-align: right;\n",
       "    }\n",
       "</style>\n",
       "<table border=\"1\" class=\"dataframe\">\n",
       "  <thead>\n",
       "    <tr style=\"text-align: right;\">\n",
       "      <th></th>\n",
       "      <th>20200102</th>\n",
       "      <th>20200103</th>\n",
       "      <th>20200106</th>\n",
       "      <th>20200107</th>\n",
       "      <th>20200108</th>\n",
       "      <th>20200109</th>\n",
       "      <th>20200110</th>\n",
       "      <th>20200113</th>\n",
       "      <th>20200114</th>\n",
       "      <th>20200115</th>\n",
       "      <th>...</th>\n",
       "      <th>20240221</th>\n",
       "      <th>20240222</th>\n",
       "      <th>20240223</th>\n",
       "      <th>20240226</th>\n",
       "      <th>20240227</th>\n",
       "      <th>20240228</th>\n",
       "      <th>20240229</th>\n",
       "      <th>20240301</th>\n",
       "      <th>20240304</th>\n",
       "      <th>20240305</th>\n",
       "    </tr>\n",
       "  </thead>\n",
       "  <tbody>\n",
       "    <tr>\n",
       "      <th>000001.SZ</th>\n",
       "      <td>0.0</td>\n",
       "      <td>0.0</td>\n",
       "      <td>0.0</td>\n",
       "      <td>0.0</td>\n",
       "      <td>0.0</td>\n",
       "      <td>0.0</td>\n",
       "      <td>0.0</td>\n",
       "      <td>0.0</td>\n",
       "      <td>0.0</td>\n",
       "      <td>0.0</td>\n",
       "      <td>...</td>\n",
       "      <td>0.0</td>\n",
       "      <td>0.0</td>\n",
       "      <td>0.0</td>\n",
       "      <td>0.0</td>\n",
       "      <td>0.0</td>\n",
       "      <td>0.0</td>\n",
       "      <td>0.0</td>\n",
       "      <td>0.0</td>\n",
       "      <td>0.0</td>\n",
       "      <td>NaN</td>\n",
       "    </tr>\n",
       "    <tr>\n",
       "      <th>000002.SZ</th>\n",
       "      <td>0.0</td>\n",
       "      <td>0.0</td>\n",
       "      <td>0.0</td>\n",
       "      <td>0.0</td>\n",
       "      <td>0.0</td>\n",
       "      <td>0.0</td>\n",
       "      <td>0.0</td>\n",
       "      <td>0.0</td>\n",
       "      <td>0.0</td>\n",
       "      <td>0.0</td>\n",
       "      <td>...</td>\n",
       "      <td>0.0</td>\n",
       "      <td>0.0</td>\n",
       "      <td>0.0</td>\n",
       "      <td>0.0</td>\n",
       "      <td>0.0</td>\n",
       "      <td>0.0</td>\n",
       "      <td>0.0</td>\n",
       "      <td>0.0</td>\n",
       "      <td>0.0</td>\n",
       "      <td>NaN</td>\n",
       "    </tr>\n",
       "    <tr>\n",
       "      <th>000004.SZ</th>\n",
       "      <td>0.0</td>\n",
       "      <td>0.0</td>\n",
       "      <td>0.0</td>\n",
       "      <td>0.0</td>\n",
       "      <td>0.0</td>\n",
       "      <td>0.0</td>\n",
       "      <td>0.0</td>\n",
       "      <td>0.0</td>\n",
       "      <td>0.0</td>\n",
       "      <td>0.0</td>\n",
       "      <td>...</td>\n",
       "      <td>0.0</td>\n",
       "      <td>0.0</td>\n",
       "      <td>0.0</td>\n",
       "      <td>0.0</td>\n",
       "      <td>0.0</td>\n",
       "      <td>0.0</td>\n",
       "      <td>0.0</td>\n",
       "      <td>0.0</td>\n",
       "      <td>0.0</td>\n",
       "      <td>NaN</td>\n",
       "    </tr>\n",
       "    <tr>\n",
       "      <th>000005.SZ</th>\n",
       "      <td>0.0</td>\n",
       "      <td>0.0</td>\n",
       "      <td>0.0</td>\n",
       "      <td>0.0</td>\n",
       "      <td>0.0</td>\n",
       "      <td>0.0</td>\n",
       "      <td>0.0</td>\n",
       "      <td>0.0</td>\n",
       "      <td>0.0</td>\n",
       "      <td>0.0</td>\n",
       "      <td>...</td>\n",
       "      <td>NaN</td>\n",
       "      <td>NaN</td>\n",
       "      <td>NaN</td>\n",
       "      <td>NaN</td>\n",
       "      <td>NaN</td>\n",
       "      <td>NaN</td>\n",
       "      <td>NaN</td>\n",
       "      <td>NaN</td>\n",
       "      <td>NaN</td>\n",
       "      <td>NaN</td>\n",
       "    </tr>\n",
       "    <tr>\n",
       "      <th>000006.SZ</th>\n",
       "      <td>0.0</td>\n",
       "      <td>0.0</td>\n",
       "      <td>0.0</td>\n",
       "      <td>0.0</td>\n",
       "      <td>0.0</td>\n",
       "      <td>0.0</td>\n",
       "      <td>0.0</td>\n",
       "      <td>0.0</td>\n",
       "      <td>0.0</td>\n",
       "      <td>0.0</td>\n",
       "      <td>...</td>\n",
       "      <td>0.0</td>\n",
       "      <td>0.0</td>\n",
       "      <td>0.0</td>\n",
       "      <td>0.0</td>\n",
       "      <td>0.0</td>\n",
       "      <td>0.0</td>\n",
       "      <td>0.0</td>\n",
       "      <td>0.0</td>\n",
       "      <td>0.0</td>\n",
       "      <td>NaN</td>\n",
       "    </tr>\n",
       "    <tr>\n",
       "      <th>...</th>\n",
       "      <td>...</td>\n",
       "      <td>...</td>\n",
       "      <td>...</td>\n",
       "      <td>...</td>\n",
       "      <td>...</td>\n",
       "      <td>...</td>\n",
       "      <td>...</td>\n",
       "      <td>...</td>\n",
       "      <td>...</td>\n",
       "      <td>...</td>\n",
       "      <td>...</td>\n",
       "      <td>...</td>\n",
       "      <td>...</td>\n",
       "      <td>...</td>\n",
       "      <td>...</td>\n",
       "      <td>...</td>\n",
       "      <td>...</td>\n",
       "      <td>...</td>\n",
       "      <td>...</td>\n",
       "      <td>...</td>\n",
       "      <td>...</td>\n",
       "    </tr>\n",
       "    <tr>\n",
       "      <th>873703.BJ</th>\n",
       "      <td>NaN</td>\n",
       "      <td>NaN</td>\n",
       "      <td>NaN</td>\n",
       "      <td>NaN</td>\n",
       "      <td>NaN</td>\n",
       "      <td>NaN</td>\n",
       "      <td>NaN</td>\n",
       "      <td>NaN</td>\n",
       "      <td>NaN</td>\n",
       "      <td>NaN</td>\n",
       "      <td>...</td>\n",
       "      <td>NaN</td>\n",
       "      <td>NaN</td>\n",
       "      <td>NaN</td>\n",
       "      <td>NaN</td>\n",
       "      <td>NaN</td>\n",
       "      <td>NaN</td>\n",
       "      <td>NaN</td>\n",
       "      <td>NaN</td>\n",
       "      <td>NaN</td>\n",
       "      <td>NaN</td>\n",
       "    </tr>\n",
       "    <tr>\n",
       "      <th>873706.BJ</th>\n",
       "      <td>NaN</td>\n",
       "      <td>NaN</td>\n",
       "      <td>NaN</td>\n",
       "      <td>NaN</td>\n",
       "      <td>NaN</td>\n",
       "      <td>NaN</td>\n",
       "      <td>NaN</td>\n",
       "      <td>NaN</td>\n",
       "      <td>NaN</td>\n",
       "      <td>NaN</td>\n",
       "      <td>...</td>\n",
       "      <td>NaN</td>\n",
       "      <td>NaN</td>\n",
       "      <td>NaN</td>\n",
       "      <td>NaN</td>\n",
       "      <td>NaN</td>\n",
       "      <td>NaN</td>\n",
       "      <td>NaN</td>\n",
       "      <td>NaN</td>\n",
       "      <td>NaN</td>\n",
       "      <td>NaN</td>\n",
       "    </tr>\n",
       "    <tr>\n",
       "      <th>873726.BJ</th>\n",
       "      <td>NaN</td>\n",
       "      <td>NaN</td>\n",
       "      <td>NaN</td>\n",
       "      <td>NaN</td>\n",
       "      <td>NaN</td>\n",
       "      <td>NaN</td>\n",
       "      <td>NaN</td>\n",
       "      <td>NaN</td>\n",
       "      <td>NaN</td>\n",
       "      <td>NaN</td>\n",
       "      <td>...</td>\n",
       "      <td>NaN</td>\n",
       "      <td>NaN</td>\n",
       "      <td>NaN</td>\n",
       "      <td>NaN</td>\n",
       "      <td>NaN</td>\n",
       "      <td>NaN</td>\n",
       "      <td>NaN</td>\n",
       "      <td>NaN</td>\n",
       "      <td>NaN</td>\n",
       "      <td>NaN</td>\n",
       "    </tr>\n",
       "    <tr>\n",
       "      <th>873806.BJ</th>\n",
       "      <td>NaN</td>\n",
       "      <td>NaN</td>\n",
       "      <td>NaN</td>\n",
       "      <td>NaN</td>\n",
       "      <td>NaN</td>\n",
       "      <td>NaN</td>\n",
       "      <td>NaN</td>\n",
       "      <td>NaN</td>\n",
       "      <td>NaN</td>\n",
       "      <td>NaN</td>\n",
       "      <td>...</td>\n",
       "      <td>NaN</td>\n",
       "      <td>NaN</td>\n",
       "      <td>NaN</td>\n",
       "      <td>NaN</td>\n",
       "      <td>NaN</td>\n",
       "      <td>NaN</td>\n",
       "      <td>NaN</td>\n",
       "      <td>NaN</td>\n",
       "      <td>NaN</td>\n",
       "      <td>NaN</td>\n",
       "    </tr>\n",
       "    <tr>\n",
       "      <th>873833.BJ</th>\n",
       "      <td>NaN</td>\n",
       "      <td>NaN</td>\n",
       "      <td>NaN</td>\n",
       "      <td>NaN</td>\n",
       "      <td>NaN</td>\n",
       "      <td>NaN</td>\n",
       "      <td>NaN</td>\n",
       "      <td>NaN</td>\n",
       "      <td>NaN</td>\n",
       "      <td>NaN</td>\n",
       "      <td>...</td>\n",
       "      <td>NaN</td>\n",
       "      <td>NaN</td>\n",
       "      <td>NaN</td>\n",
       "      <td>NaN</td>\n",
       "      <td>NaN</td>\n",
       "      <td>NaN</td>\n",
       "      <td>NaN</td>\n",
       "      <td>NaN</td>\n",
       "      <td>NaN</td>\n",
       "      <td>NaN</td>\n",
       "    </tr>\n",
       "  </tbody>\n",
       "</table>\n",
       "<p>5539 rows × 1010 columns</p>\n",
       "</div>"
      ],
      "text/plain": [
       "          20200102 20200103 20200106 20200107 20200108 20200109 20200110  \\\n",
       "000001.SZ      0.0      0.0      0.0      0.0      0.0      0.0      0.0   \n",
       "000002.SZ      0.0      0.0      0.0      0.0      0.0      0.0      0.0   \n",
       "000004.SZ      0.0      0.0      0.0      0.0      0.0      0.0      0.0   \n",
       "000005.SZ      0.0      0.0      0.0      0.0      0.0      0.0      0.0   \n",
       "000006.SZ      0.0      0.0      0.0      0.0      0.0      0.0      0.0   \n",
       "...            ...      ...      ...      ...      ...      ...      ...   \n",
       "873703.BJ      NaN      NaN      NaN      NaN      NaN      NaN      NaN   \n",
       "873706.BJ      NaN      NaN      NaN      NaN      NaN      NaN      NaN   \n",
       "873726.BJ      NaN      NaN      NaN      NaN      NaN      NaN      NaN   \n",
       "873806.BJ      NaN      NaN      NaN      NaN      NaN      NaN      NaN   \n",
       "873833.BJ      NaN      NaN      NaN      NaN      NaN      NaN      NaN   \n",
       "\n",
       "          20200113 20200114 20200115  ... 20240221 20240222 20240223 20240226  \\\n",
       "000001.SZ      0.0      0.0      0.0  ...      0.0      0.0      0.0      0.0   \n",
       "000002.SZ      0.0      0.0      0.0  ...      0.0      0.0      0.0      0.0   \n",
       "000004.SZ      0.0      0.0      0.0  ...      0.0      0.0      0.0      0.0   \n",
       "000005.SZ      0.0      0.0      0.0  ...      NaN      NaN      NaN      NaN   \n",
       "000006.SZ      0.0      0.0      0.0  ...      0.0      0.0      0.0      0.0   \n",
       "...            ...      ...      ...  ...      ...      ...      ...      ...   \n",
       "873703.BJ      NaN      NaN      NaN  ...      NaN      NaN      NaN      NaN   \n",
       "873706.BJ      NaN      NaN      NaN  ...      NaN      NaN      NaN      NaN   \n",
       "873726.BJ      NaN      NaN      NaN  ...      NaN      NaN      NaN      NaN   \n",
       "873806.BJ      NaN      NaN      NaN  ...      NaN      NaN      NaN      NaN   \n",
       "873833.BJ      NaN      NaN      NaN  ...      NaN      NaN      NaN      NaN   \n",
       "\n",
       "          20240227 20240228 20240229 20240301 20240304 20240305  \n",
       "000001.SZ      0.0      0.0      0.0      0.0      0.0      NaN  \n",
       "000002.SZ      0.0      0.0      0.0      0.0      0.0      NaN  \n",
       "000004.SZ      0.0      0.0      0.0      0.0      0.0      NaN  \n",
       "000005.SZ      NaN      NaN      NaN      NaN      NaN      NaN  \n",
       "000006.SZ      0.0      0.0      0.0      0.0      0.0      NaN  \n",
       "...            ...      ...      ...      ...      ...      ...  \n",
       "873703.BJ      NaN      NaN      NaN      NaN      NaN      NaN  \n",
       "873706.BJ      NaN      NaN      NaN      NaN      NaN      NaN  \n",
       "873726.BJ      NaN      NaN      NaN      NaN      NaN      NaN  \n",
       "873806.BJ      NaN      NaN      NaN      NaN      NaN      NaN  \n",
       "873833.BJ      NaN      NaN      NaN      NaN      NaN      NaN  \n",
       "\n",
       "[5539 rows x 1010 columns]"
      ]
     },
     "execution_count": 34,
     "metadata": {},
     "output_type": "execute_result"
    }
   ],
   "source": [
    "(ff.read('high').loc[:,'20200102':'20240305']-ff.read('close').loc[ff.read('up_limit').index,'20200102':'20240305']) * condition_1 * condition_3 * condition_4_open_mid  * ff.filter0.loc[filter_2.index,filter_2.columns]"
   ]
  },
  {
   "cell_type": "code",
   "execution_count": 35,
   "id": "07022ac1-a50e-44f2-9e23-e78a5d93955f",
   "metadata": {},
   "outputs": [],
   "source": [
    "data_filter = (condition_1 * condition_3 * condition_4_open_high  * ff.filter0.loc[filter_2.index,filter_2.columns]).replace({0.0:np.nan})\n",
    "filtered_index = data_filter.index.str.startswith('300') | data_filter.index.str.startswith('688') | data_filter.index.str.endswith('BJ')\n",
    "data_filter.loc[filtered_index,:] = np.nan"
   ]
  },
  {
   "cell_type": "code",
   "execution_count": 36,
   "id": "3dba5acd-49b9-4957-b200-72305b1b112e",
   "metadata": {},
   "outputs": [],
   "source": [
    "high_filter = ff.read('high').loc[:,'20200102':'20240305']\n",
    "close_filter = ff.read('close').loc[ff.read('up_limit').index,'20200102':'20240305']"
   ]
  },
  {
   "cell_type": "code",
   "execution_count": 37,
   "id": "3891c304-b609-4b91-af38-6d29e15ab710",
   "metadata": {},
   "outputs": [
    {
     "name": "stdout",
     "output_type": "stream",
     "text": [
      "首板炸板 mid T0日最高价涨停 T0日尾板不涨停 T1日开盘不涨停 T1开盘高开\n",
      "        open     close       low      high\n",
      "T0  1.011660  1.061179  0.997258  1.101850\n",
      "T1  1.095341  1.099702  1.051994  1.134225\n",
      "T2  1.101180  1.102532  1.064875  1.141436\n",
      "T3  1.105973  1.105529  1.069282  1.143887\n",
      "T4  1.104835  1.105431  1.071450  1.142184\n"
     ]
    },
    {
     "data": {
      "image/png": "[encoded data removed]",
      "text/plain": [
       "<Figure size 800x575 with 2 Axes>"
      ]
     },
     "metadata": {},
     "output_type": "display_data"
    },
    {
     "name": "stdout",
     "output_type": "stream",
     "text": [
      "首板炸板 mid\n",
      "日均发生次数: 0.22871287128712872\n",
      "日均发生中位数: 0.0\n",
      "日均发生概率 0.16930693069306932\n"
     ]
    }
   ],
   "source": [
    "condition_5 = ((high_filter-close_filter)  * data_filter > ((high_filter-close_filter)  * data_filter).quantile(2/3)).replace({True:1,False:0}) \n",
    "filter_2 = condition_1 * condition_3 * condition_4_open_high  * condition_5 * ff.filter0.loc[filter_2.index,filter_2.columns] \n",
    "filtered_index = filter_2.index.str.startswith('300') | filter_2.index.str.startswith('688') | filter_2.index.str.endswith('BJ')\n",
    "filter_2.loc[filtered_index,:] = np.nan\n",
    "print('首板炸板 mid T0日最高价涨停 T0日尾板不涨停 T1日开盘不涨停 T1开盘高开')\n",
    "daily_K_line(filter_2,5,open,close,high,low)\n",
    "print('首板炸板 mid')\n",
    "print('日均发生次数:',filter_2.sum().mean()) \n",
    "print('日均发生中位数:',filter_2.sum().median())\n",
    "print('日均发生概率',(filter_2.sum()>0).sum()/filter_2.shape[1])"
   ]
  },
  {
   "cell_type": "code",
   "execution_count": null,
   "id": "18bfffce-ad75-45c5-ad44-f92647701882",
   "metadata": {},
   "outputs": [],
   "source": []
  }
 ],
 "metadata": {
  "kernelspec": {
   "display_name": "Python 3 (ipykernel)",
   "language": "python",
   "name": "python3"
  },
  "language_info": {
   "codemirror_mode": {
    "name": "ipython",
    "version": 3
   },
   "file_extension": ".py",
   "mimetype": "text/x-python",
   "name": "python",
   "nbconvert_exporter": "python",
   "pygments_lexer": "ipython3",
   "version": "3.9.16"
  }
 },
 "nbformat": 4,
 "nbformat_minor": 5
}
