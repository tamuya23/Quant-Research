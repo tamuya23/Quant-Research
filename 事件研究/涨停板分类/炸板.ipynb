{
 "cells": [
  {
   "cell_type": "code",
   "execution_count": 1,
   "id": "cf28b967-9a4f-4556-b340-1af6ea5e9915",
   "metadata": {},
   "outputs": [],
   "source": [
    "import sys\n",
    "sys.path.append('/home/wangs/rs/lib')\n",
    "import ff\n",
    "import pickle\n",
    "import numpy as np\n",
    "import pandas as pd\n",
    "import seaborn as sns\n",
    "import matplotlib.pyplot as plt\n",
    "sns.set_style(\"whitegrid\")\n",
    "sns.set_palette(\"pastel\")\n",
    "from multiprocessing import Pool\n",
    "from tqdm import tqdm\n",
    "import statsmodels.api as sm\n",
    "from datetime import datetime\n",
    "import mplfinance as mpf\n",
    "from functools import partial"
   ]
  },
  {
   "cell_type": "code",
   "execution_count": 22,
   "id": "6328fc5b-b90e-4782-bbeb-044a4a9826cd",
   "metadata": {},
   "outputs": [],
   "source": [
    "stock_list = ff.read('close').index.str.startswith('300') | ff.read('close').index.str.startswith('688') | ff.read('close').index.str.endswith('BJ')"
   ]
  },
  {
   "cell_type": "code",
   "execution_count": 3,
   "id": "6b64fb45-4732-4ced-86dc-eec45e32c86e",
   "metadata": {},
   "outputs": [],
   "source": [
    "stock_list = ff.read('close').index[~stock_list]"
   ]
  },
  {
   "cell_type": "code",
   "execution_count": 4,
   "id": "b2d2c147-50b9-49bf-ace6-c1ec807b83fe",
   "metadata": {},
   "outputs": [],
   "source": [
    "time_list = ff.read('close').loc[:,'20200102':'20240305'].columns"
   ]
  },
  {
   "cell_type": "code",
   "execution_count": 5,
   "id": "d76ea2b1-83f4-4d1d-a6f7-0e8c313dfefb",
   "metadata": {},
   "outputs": [],
   "source": [
    "filter0 = ff.filter0.loc[stock_list,time_list]\n",
    "up = ff.read('up').loc[stock_list,time_list] * filter0\n",
    "close = ff.read('close').loc[stock_list,time_list] * filter0\n",
    "pre_close = ff.read('pre_close').loc[stock_list,time_list] *filter0\n",
    "high = ff.read('high').loc[stock_list,time_list] * filter0\n",
    "up_limit = ff.read('up_limit').loc[stock_list,time_list] * filter0"
   ]
  },
  {
   "cell_type": "code",
   "execution_count": 6,
   "id": "c9119b9a-e837-4d5f-96c2-ec48f5abc107",
   "metadata": {},
   "outputs": [],
   "source": [
    "ret10 = high/close.shift(1,axis = 1)"
   ]
  },
  {
   "cell_type": "code",
   "execution_count": 7,
   "id": "870546ce-9856-48f0-aa3d-6bdc6d6f4bd1",
   "metadata": {},
   "outputs": [
    {
     "name": "stdout",
     "output_type": "stream",
     "text": [
      "8% mean 0.4032142092870353\n",
      "8% median 0.4087854764243889\n",
      "9% mean 0.5092777941953591\n",
      "9% median 0.5154273931049631\n",
      "10% mean 0.6189582642859737\n",
      "10% median 0.6264107006647053\n"
     ]
    }
   ],
   "source": [
    "ratio_8 = up.sum()/(ret10 >= 1.08).sum()\n",
    "mean_8 = ratio_8.rolling(window = 10).mean()\n",
    "ratio_9 = up.sum()/(ret10 >= 1.09).sum()\n",
    "mean_9 = ratio_9.rolling(window = 10).mean()\n",
    "ratio_10 = up.sum()/(ret10 >= 1.098).sum()\n",
    "mean_10 = ratio_10.rolling(window = 10).mean()\n",
    "print('8% mean',mean_8.mean())\n",
    "print('8% median',mean_8.median())\n",
    "print('9% mean',mean_9.mean())\n",
    "print('9% median',mean_9.median())\n",
    "print('10% mean',mean_10.mean())\n",
    "print('10% median',mean_10.median())"
   ]
  },
  {
   "cell_type": "code",
   "execution_count": 8,
   "id": "1f2ef323-34f5-4de1-ad67-b2a876537c01",
   "metadata": {},
   "outputs": [],
   "source": [
    "event = (ret10 >= 1.07) * up.replace({np.nan:True,1:False})"
   ]
  },
  {
   "cell_type": "code",
   "execution_count": 9,
   "id": "185dddb4-831f-4ed6-b4c8-8e9234b99971",
   "metadata": {},
   "outputs": [],
   "source": [
    "open_ = (ff.read('open')*ff.read('post')).loc[stock_list,time_list] * filter0\n",
    "close_ = (ff.read('close')*ff.read('post')).loc[stock_list,time_list] * filter0\n",
    "low_ = (ff.read('low')*ff.read('post')).loc[stock_list,time_list] * filter0\n",
    "high_ = (ff.read('high')*ff.read('post')).loc[stock_list,time_list] * filter0"
   ]
  },
  {
   "cell_type": "code",
   "execution_count": 10,
   "id": "6b84f9e8-7ec2-41f5-9e78-819e0f30ee31",
   "metadata": {},
   "outputs": [],
   "source": [
    "def daily_K_line(event,n,open,close,high,low):\n",
    "    # 日均事件K线\n",
    "    T0open=event*open  # 以T0open作为基准\n",
    "    pre_close = event * close.shift(axis = 1)\n",
    "    data=pd.DataFrame(columns=['T'+str(j) for j in range(n)])\n",
    "    for j in range(n):\n",
    "        _open=(event*open.shift(-j,axis=1))/pre_close\n",
    "        _close=(event*close.shift(-j,axis=1))/pre_close\n",
    "        _low=(event*low.shift(-j,axis=1))/pre_close\n",
    "        _high=(event*high.shift(-j,axis=1))/pre_close\n",
    "        lst=[_open.mean().mean(),_close.mean().mean(),_low.mean().mean(),_high.mean().mean()]\n",
    "        data['T'+str(j)]=lst\n",
    "    data.index=['open','close','low','high']\n",
    "    data=data.T\n",
    "    data.index=pd.to_datetime(['20200101','20200102','20200103','20200104','20200105'])\n",
    "    mpf.plot(data,type='candle',style='default')\n",
    "    return data"
   ]
  },
  {
   "cell_type": "code",
   "execution_count": 11,
   "id": "4839dabc-22cb-4924-a424-986d4c23d86c",
   "metadata": {},
   "outputs": [
    {
     "name": "stdout",
     "output_type": "stream",
     "text": [
      "最高涨幅 >=7%\n"
     ]
    },
    {
     "data": {
      "image/png": "[encoded data removed]",
      "text/plain": [
       "<Figure size 800x575 with 2 Axes>"
      ]
     },
     "metadata": {},
     "output_type": "display_data"
    },
    {
     "data": {
      "text/html": [
       "<div>\n",
       "<style scoped>\n",
       "    .dataframe tbody tr th:only-of-type {\n",
       "        vertical-align: middle;\n",
       "    }\n",
       "\n",
       "    .dataframe tbody tr th {\n",
       "        vertical-align: top;\n",
       "    }\n",
       "\n",
       "    .dataframe thead th {\n",
       "        text-align: right;\n",
       "    }\n",
       "</style>\n",
       "<table border=\"1\" class=\"dataframe\">\n",
       "  <thead>\n",
       "    <tr style=\"text-align: right;\">\n",
       "      <th></th>\n",
       "      <th>open</th>\n",
       "      <th>close</th>\n",
       "      <th>low</th>\n",
       "      <th>high</th>\n",
       "    </tr>\n",
       "  </thead>\n",
       "  <tbody>\n",
       "    <tr>\n",
       "      <th>2020-01-01</th>\n",
       "      <td>1.008806</td>\n",
       "      <td>1.048300</td>\n",
       "      <td>0.990730</td>\n",
       "      <td>1.088257</td>\n",
       "    </tr>\n",
       "    <tr>\n",
       "      <th>2020-01-02</th>\n",
       "      <td>1.039769</td>\n",
       "      <td>1.044216</td>\n",
       "      <td>1.011758</td>\n",
       "      <td>1.076684</td>\n",
       "    </tr>\n",
       "    <tr>\n",
       "      <th>2020-01-03</th>\n",
       "      <td>1.040045</td>\n",
       "      <td>1.041769</td>\n",
       "      <td>1.012454</td>\n",
       "      <td>1.073118</td>\n",
       "    </tr>\n",
       "    <tr>\n",
       "      <th>2020-01-04</th>\n",
       "      <td>1.039318</td>\n",
       "      <td>1.041531</td>\n",
       "      <td>1.012619</td>\n",
       "      <td>1.071433</td>\n",
       "    </tr>\n",
       "    <tr>\n",
       "      <th>2020-01-05</th>\n",
       "      <td>1.038882</td>\n",
       "      <td>1.040607</td>\n",
       "      <td>1.012450</td>\n",
       "      <td>1.069895</td>\n",
       "    </tr>\n",
       "  </tbody>\n",
       "</table>\n",
       "</div>"
      ],
      "text/plain": [
       "                open     close       low      high\n",
       "2020-01-01  1.008806  1.048300  0.990730  1.088257\n",
       "2020-01-02  1.039769  1.044216  1.011758  1.076684\n",
       "2020-01-03  1.040045  1.041769  1.012454  1.073118\n",
       "2020-01-04  1.039318  1.041531  1.012619  1.071433\n",
       "2020-01-05  1.038882  1.040607  1.012450  1.069895"
      ]
     },
     "execution_count": 11,
     "metadata": {},
     "output_type": "execute_result"
    }
   ],
   "source": [
    "print('最高涨幅 >=7%')\n",
    "daily_K_line(event,5,open_,close_,high_,low_)"
   ]
  },
  {
   "cell_type": "code",
   "execution_count": 12,
   "id": "d48e6c70-4ff0-49a5-8b43-43957fafb38b",
   "metadata": {},
   "outputs": [
    {
     "data": {
      "image/png": "[encoded data removed]",
      "text/plain": [
       "<Figure size 800x575 with 2 Axes>"
      ]
     },
     "metadata": {},
     "output_type": "display_data"
    },
    {
     "data": {
      "text/html": [
       "<div>\n",
       "<style scoped>\n",
       "    .dataframe tbody tr th:only-of-type {\n",
       "        vertical-align: middle;\n",
       "    }\n",
       "\n",
       "    .dataframe tbody tr th {\n",
       "        vertical-align: top;\n",
       "    }\n",
       "\n",
       "    .dataframe thead th {\n",
       "        text-align: right;\n",
       "    }\n",
       "</style>\n",
       "<table border=\"1\" class=\"dataframe\">\n",
       "  <thead>\n",
       "    <tr style=\"text-align: right;\">\n",
       "      <th></th>\n",
       "      <th>open</th>\n",
       "      <th>close</th>\n",
       "      <th>low</th>\n",
       "      <th>high</th>\n",
       "    </tr>\n",
       "  </thead>\n",
       "  <tbody>\n",
       "    <tr>\n",
       "      <th>2020-01-01</th>\n",
       "      <td>1.012302</td>\n",
       "      <td>1.055614</td>\n",
       "      <td>0.991772</td>\n",
       "      <td>1.099800</td>\n",
       "    </tr>\n",
       "    <tr>\n",
       "      <th>2020-01-02</th>\n",
       "      <td>1.043593</td>\n",
       "      <td>1.049407</td>\n",
       "      <td>1.014216</td>\n",
       "      <td>1.084394</td>\n",
       "    </tr>\n",
       "    <tr>\n",
       "      <th>2020-01-03</th>\n",
       "      <td>1.043921</td>\n",
       "      <td>1.045619</td>\n",
       "      <td>1.014833</td>\n",
       "      <td>1.079357</td>\n",
       "    </tr>\n",
       "    <tr>\n",
       "      <th>2020-01-04</th>\n",
       "      <td>1.042710</td>\n",
       "      <td>1.045382</td>\n",
       "      <td>1.014840</td>\n",
       "      <td>1.077124</td>\n",
       "    </tr>\n",
       "    <tr>\n",
       "      <th>2020-01-05</th>\n",
       "      <td>1.042418</td>\n",
       "      <td>1.044300</td>\n",
       "      <td>1.014752</td>\n",
       "      <td>1.075154</td>\n",
       "    </tr>\n",
       "  </tbody>\n",
       "</table>\n",
       "</div>"
      ],
      "text/plain": [
       "                open     close       low      high\n",
       "2020-01-01  1.012302  1.055614  0.991772  1.099800\n",
       "2020-01-02  1.043593  1.049407  1.014216  1.084394\n",
       "2020-01-03  1.043921  1.045619  1.014833  1.079357\n",
       "2020-01-04  1.042710  1.045382  1.014840  1.077124\n",
       "2020-01-05  1.042418  1.044300  1.014752  1.075154"
      ]
     },
     "execution_count": 12,
     "metadata": {},
     "output_type": "execute_result"
    }
   ],
   "source": [
    "event = (ret10 >= 1.09) * up.replace({1:False,np.nan:True})\n",
    "daily_K_line(event,5,open_,close_,high_,low_)"
   ]
  },
  {
   "cell_type": "code",
   "execution_count": 18,
   "id": "4771edb0-1ad5-410d-b5b1-957a7a98b290",
   "metadata": {},
   "outputs": [],
   "source": [
    "open_ = (ff.read('open')*ff.read('post')).loc[stock_list,time_list]\n",
    "close_ = (ff.read('close')*ff.read('post')).loc[stock_list,time_list]\n",
    "low_ = (ff.read('low')*ff.read('post')).loc[stock_list,time_list]\n",
    "high_ = (ff.read('high')*ff.read('post')).loc[stock_list,time_list]"
   ]
  },
  {
   "cell_type": "code",
   "execution_count": 13,
   "id": "88cda949-9837-490b-90bf-98d21321c34b",
   "metadata": {},
   "outputs": [],
   "source": [
    "condition_1 = (high/pre_close > 1.075)\n",
    "condition_2 = (close != up_limit).replace({True:1,False:0})\n",
    "condition_2 = (condition_2.rolling(window = 5,axis = 1,closed = 'left').sum() == 5) #前五天的条件"
   ]
  },
  {
   "cell_type": "code",
   "execution_count": 21,
   "id": "cb540d66-f57e-450b-842b-952be3aecb33",
   "metadata": {},
   "outputs": [
    {
     "data": {
      "image/png": "[encoded data removed]",
      "text/plain": [
       "<Figure size 800x575 with 2 Axes>"
      ]
     },
     "metadata": {},
     "output_type": "display_data"
    },
    {
     "data": {
      "text/html": [
       "<div>\n",
       "<style scoped>\n",
       "    .dataframe tbody tr th:only-of-type {\n",
       "        vertical-align: middle;\n",
       "    }\n",
       "\n",
       "    .dataframe tbody tr th {\n",
       "        vertical-align: top;\n",
       "    }\n",
       "\n",
       "    .dataframe thead th {\n",
       "        text-align: right;\n",
       "    }\n",
       "</style>\n",
       "<table border=\"1\" class=\"dataframe\">\n",
       "  <thead>\n",
       "    <tr style=\"text-align: right;\">\n",
       "      <th></th>\n",
       "      <th>open</th>\n",
       "      <th>close</th>\n",
       "      <th>low</th>\n",
       "      <th>high</th>\n",
       "    </tr>\n",
       "  </thead>\n",
       "  <tbody>\n",
       "    <tr>\n",
       "      <th>2020-01-01</th>\n",
       "      <td>1.009025</td>\n",
       "      <td>1.070129</td>\n",
       "      <td>0.997619</td>\n",
       "      <td>1.094406</td>\n",
       "    </tr>\n",
       "    <tr>\n",
       "      <th>2020-01-02</th>\n",
       "      <td>1.072764</td>\n",
       "      <td>1.073967</td>\n",
       "      <td>1.040925</td>\n",
       "      <td>1.109111</td>\n",
       "    </tr>\n",
       "    <tr>\n",
       "      <th>2020-01-03</th>\n",
       "      <td>1.071370</td>\n",
       "      <td>1.073054</td>\n",
       "      <td>1.042358</td>\n",
       "      <td>1.105645</td>\n",
       "    </tr>\n",
       "    <tr>\n",
       "      <th>2020-01-04</th>\n",
       "      <td>1.070210</td>\n",
       "      <td>1.072514</td>\n",
       "      <td>1.042857</td>\n",
       "      <td>1.103572</td>\n",
       "    </tr>\n",
       "    <tr>\n",
       "      <th>2020-01-05</th>\n",
       "      <td>1.069867</td>\n",
       "      <td>1.072017</td>\n",
       "      <td>1.042952</td>\n",
       "      <td>1.102083</td>\n",
       "    </tr>\n",
       "  </tbody>\n",
       "</table>\n",
       "</div>"
      ],
      "text/plain": [
       "                open     close       low      high\n",
       "2020-01-01  1.009025  1.070129  0.997619  1.094406\n",
       "2020-01-02  1.072764  1.073967  1.040925  1.109111\n",
       "2020-01-03  1.071370  1.073054  1.042358  1.105645\n",
       "2020-01-04  1.070210  1.072514  1.042857  1.103572\n",
       "2020-01-05  1.069867  1.072017  1.042952  1.102083"
      ]
     },
     "execution_count": 21,
     "metadata": {},
     "output_type": "execute_result"
    }
   ],
   "source": [
    "event = (condition_1 * condition_2).replace({False:np.nan})\n",
    "daily_K_line(event * ff.filter0,5,open_,close_,high_,low_)"
   ]
  },
  {
   "cell_type": "code",
   "execution_count": 23,
   "id": "8f205c6f-641d-43ab-94ab-be0637072071",
   "metadata": {},
   "outputs": [],
   "source": [
    "condition_1 = (close/pre_close > 1.075)\n",
    "condition_2 = (close != up_limit).replace({True:1,False:0})\n",
    "condition_2 = (condition_2.rolling(window = 5,axis = 1,closed = 'left').sum() == 5) #前五天的条件"
   ]
  },
  {
   "cell_type": "code",
   "execution_count": 24,
   "id": "40933906-d667-442d-95cf-e613e6879bf2",
   "metadata": {},
   "outputs": [
    {
     "data": {
      "image/png": "[encoded data removed]",
      "text/plain": [
       "<Figure size 800x575 with 2 Axes>"
      ]
     },
     "metadata": {},
     "output_type": "display_data"
    },
    {
     "data": {
      "text/html": [
       "<div>\n",
       "<style scoped>\n",
       "    .dataframe tbody tr th:only-of-type {\n",
       "        vertical-align: middle;\n",
       "    }\n",
       "\n",
       "    .dataframe tbody tr th {\n",
       "        vertical-align: top;\n",
       "    }\n",
       "\n",
       "    .dataframe thead th {\n",
       "        text-align: right;\n",
       "    }\n",
       "</style>\n",
       "<table border=\"1\" class=\"dataframe\">\n",
       "  <thead>\n",
       "    <tr style=\"text-align: right;\">\n",
       "      <th></th>\n",
       "      <th>open</th>\n",
       "      <th>close</th>\n",
       "      <th>low</th>\n",
       "      <th>high</th>\n",
       "    </tr>\n",
       "  </thead>\n",
       "  <tbody>\n",
       "    <tr>\n",
       "      <th>2020-01-01</th>\n",
       "      <td>1.011436</td>\n",
       "      <td>1.097080</td>\n",
       "      <td>1.002379</td>\n",
       "      <td>1.101167</td>\n",
       "    </tr>\n",
       "    <tr>\n",
       "      <th>2020-01-02</th>\n",
       "      <td>1.110182</td>\n",
       "      <td>1.108445</td>\n",
       "      <td>1.071586</td>\n",
       "      <td>1.150102</td>\n",
       "    </tr>\n",
       "    <tr>\n",
       "      <th>2020-01-03</th>\n",
       "      <td>1.105911</td>\n",
       "      <td>1.107765</td>\n",
       "      <td>1.072745</td>\n",
       "      <td>1.144975</td>\n",
       "    </tr>\n",
       "    <tr>\n",
       "      <th>2020-01-04</th>\n",
       "      <td>1.103187</td>\n",
       "      <td>1.105881</td>\n",
       "      <td>1.072742</td>\n",
       "      <td>1.141154</td>\n",
       "    </tr>\n",
       "    <tr>\n",
       "      <th>2020-01-05</th>\n",
       "      <td>1.102142</td>\n",
       "      <td>1.105164</td>\n",
       "      <td>1.072579</td>\n",
       "      <td>1.138590</td>\n",
       "    </tr>\n",
       "  </tbody>\n",
       "</table>\n",
       "</div>"
      ],
      "text/plain": [
       "                open     close       low      high\n",
       "2020-01-01  1.011436  1.097080  1.002379  1.101167\n",
       "2020-01-02  1.110182  1.108445  1.071586  1.150102\n",
       "2020-01-03  1.105911  1.107765  1.072745  1.144975\n",
       "2020-01-04  1.103187  1.105881  1.072742  1.141154\n",
       "2020-01-05  1.102142  1.105164  1.072579  1.138590"
      ]
     },
     "execution_count": 24,
     "metadata": {},
     "output_type": "execute_result"
    }
   ],
   "source": [
    "event = (condition_1 * condition_2).replace({False:np.nan})\n",
    "daily_K_line(event * ff.filter0,5,open_,close_,high_,low_)"
   ]
  },
  {
   "cell_type": "code",
   "execution_count": null,
   "id": "88d45f1e-00f2-4e81-bdd0-c3317a355c7a",
   "metadata": {},
   "outputs": [],
   "source": []
  }
 ],
 "metadata": {
  "kernelspec": {
   "display_name": "Python 3 (ipykernel)",
   "language": "python",
   "name": "python3"
  },
  "language_info": {
   "codemirror_mode": {
    "name": "ipython",
    "version": 3
   },
   "file_extension": ".py",
   "mimetype": "text/x-python",
   "name": "python",
   "nbconvert_exporter": "python",
   "pygments_lexer": "ipython3",
   "version": "3.9.16"
  }
 },
 "nbformat": 4,
 "nbformat_minor": 5
}
