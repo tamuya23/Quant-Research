{
 "cells": [
  {
   "cell_type": "code",
   "execution_count": 1,
   "id": "5fc0ce68-6f05-4a0d-9423-98ac9b3ecdb4",
   "metadata": {},
   "outputs": [],
   "source": [
    "import sys\n",
    "import pandas as pd\n",
    "sys.path.append('/home/wangs/rs/lib')\n",
    "# sys.path.append('/home/wangs/rs/qza')\n",
    "import os\n",
    "import numpy as np\n",
    "from multiprocessing import Pool\n",
    "from tqdm import tqdm\n",
    "import zipfile\n",
    "import datetime\n",
    "import warnings\n",
    "warnings.filterwarnings('ignore')\n",
    "import matplotlib.pyplot as plt\n",
    "import imp\n",
    "import ff"
   ]
  },
  {
   "cell_type": "code",
   "execution_count": 2,
   "id": "61d89375-761b-44bd-85a7-be8aa8f10432",
   "metadata": {},
   "outputs": [],
   "source": [
    "# 所有加密货币的名字\n",
    "currency_names=['BTC','ETH','XRP','BNB','TRX','ADA','ICP','APE','ARB','ARPA','ATOM','AVAX','BAKE','DOT','ETH',\"FIL\",'INJ','LINK','MKR','NEAR','NEO','RUNE','SEI','SOL','SUI','UNI','VET','WLD']\n",
    "# currency_names = ['BTC', 'ETH', 'XRP', 'LTC', 'BCH', 'EOS', 'BNB', 'XLM', 'TRX', 'ADA']\n",
    "# 读取一个币种的高开低收成交量\n",
    "coin = \"BTC\"\n",
    "ff.read_binance(coin)\n",
    "# 预处理要用到的工具函数\n",
    "freq = 15 # 15分钟为周期采样\n",
    "resample_rule = \"{}min\".format(freq)\n",
    "\n",
    "# Convert index from str into pd.Datetime\n",
    "def timing(df):\n",
    "    df.index = pd.to_datetime(df.index)\n",
    "    df.index.name = None\n",
    "    return df\n",
    "\n",
    "def naming(df, name):\n",
    "    df.name = name\n",
    "    return df\n",
    "\n",
    "def phase_transformer(s): # s = \"20220101 010300\"\n",
    "    minute = int(s[11:13])\n",
    "    return f\"{s[:11]}{minute-minute%freq:02d}\"\n",
    "\n",
    "start, end = \"20200101\", \"20240101\"\n",
    "# 读取数据\n",
    "def currency_data(currency_name):\n",
    "    global start, end\n",
    "    data = ff.read_binance(currency_name).rename(columns={'o':'open', 'h':'high', 'l':'low', 'c':'close', 'v':'volume'}).loc[start:end]\n",
    "    data['tradedate'] = data.index.str[:8]\n",
    "    data['tradehour'] = data.index.str[:11]\n",
    "    data['tradephase'] = data.index.str[:15]\n",
    "    data['tradephase'] = data.tradephase.apply(phase_transformer) # 如果要重采样的话，使用函数phase_transformer进行时间切分\n",
    "    data = timing(data) # 将data的行索引转化为pd.datetime形式\n",
    "    return data.reindex(pd.date_range(start=pd.to_datetime(start), \n",
    "                                      end=pd.to_datetime(end), \n",
    "                                      freq=\"1min\", inclusive=\"left\")) # 补充上缺失的时间索引"
   ]
  },
  {
   "cell_type": "code",
   "execution_count": 3,
   "id": "583b2be8-6b84-410d-a2a8-7f0554a249f6",
   "metadata": {},
   "outputs": [],
   "source": [
    "data = [currency_data(currency_name)['close'] for currency_name in currency_names]\n",
    "data = pd.DataFrame(data).T\n",
    "data.columns = currency_names"
   ]
  },
  {
   "cell_type": "code",
   "execution_count": 49,
   "id": "30f7ed2d-172c-43d2-9dcc-9e46741548c4",
   "metadata": {},
   "outputs": [
    {
     "name": "stdout",
     "output_type": "stream",
     "text": [
      "当前进程的内存使用：10.9527 GB\n",
      "电脑总内存：1007.4503 GB\n",
      "当前使用的总内存占比： 67.7\n",
      "cpu个数： 256\n"
     ]
    }
   ],
   "source": [
    "import psutil\n",
    "import os\n",
    "print(u'当前进程的内存使用：%.4f GB' % (psutil.Process(os.getpid()).memory_info().rss / 1024 ** 3) )\n",
    "info = psutil.virtual_memory()\n",
    "print(u'电脑总内存：%.4f GB' % (info.total / 1024 ** 3))\n",
    "print(u'当前使用的总内存占比：', info.percent)\n",
    "print(u'cpu个数：', psutil.cpu_count())"
   ]
  },
  {
   "cell_type": "code",
   "execution_count": 11,
   "id": "18b06227-195b-47f0-8fe1-81c809bdfbb8",
   "metadata": {},
   "outputs": [
    {
     "data": {
      "text/plain": [
       "2020-01-01 00:00:00           NaN\n",
       "2020-01-01 00:01:00           NaN\n",
       "2020-01-01 00:02:00           NaN\n",
       "2020-01-01 00:03:00           NaN\n",
       "2020-01-01 00:04:00     7210.5970\n",
       "                          ...    \n",
       "2023-12-31 23:55:00    42461.3105\n",
       "2023-12-31 23:56:00    42453.6780\n",
       "2023-12-31 23:57:00    42451.0675\n",
       "2023-12-31 23:58:00    42452.0050\n",
       "2023-12-31 23:59:00    42457.1585\n",
       "Name: close, Length: 2101493, dtype: float64"
      ]
     },
     "execution_count": 11,
     "metadata": {},
     "output_type": "execute_result"
    }
   ],
   "source": [
    "currency_data('BTC').iloc[:,0:4].stack().rolling(window = 20).mean().unstack()['close']"
   ]
  },
  {
   "cell_type": "code",
   "execution_count": 19,
   "id": "4b449ecf-ca4d-4a0b-be55-67bbe2cc3350",
   "metadata": {},
   "outputs": [],
   "source": [
    "def stock_mean(n):\n",
    "    try:\n",
    "        stock_mean = currency_data(n).iloc[:,0:4].stack().rolling(window = 20).mean().unstack()['close']\n",
    "        # stock_mean = data.stack().rolling(window = 20).mean().unstack()['high']\n",
    "    except:\n",
    "        return pd.Series(np.nan,index = data.index).values\n",
    "    return pd.Series(stock_mean,index = data.index).values"
   ]
  },
  {
   "cell_type": "code",
   "execution_count": 21,
   "id": "ad884aaa-359a-4e43-ae1f-42a7da9941b6",
   "metadata": {
    "scrolled": true
   },
   "outputs": [
    {
     "name": "stderr",
     "output_type": "stream",
     "text": [
      "100%|████████████████████████████████████████████████████████████████| 28/28 [00:10<00:00,  2.74it/s]\n"
     ]
    }
   ],
   "source": [
    "with Pool(24) as p:\n",
    "    res_lst = list(tqdm(p.imap(stock_mean,currency_names),total = len(currency_names)))"
   ]
  },
  {
   "cell_type": "code",
   "execution_count": 22,
   "id": "f55bed2c-f823-4fd8-823c-4162f7b29332",
   "metadata": {},
   "outputs": [],
   "source": [
    "data_mean = np.vstack(res_lst)"
   ]
  },
  {
   "cell_type": "code",
   "execution_count": 24,
   "id": "a8052cb8-60f8-4d41-8551-39ede68baa35",
   "metadata": {},
   "outputs": [
    {
     "name": "stderr",
     "output_type": "stream",
     "text": [
      "100%|████████████████████████████████████████████████████████████████| 28/28 [00:10<00:00,  2.58it/s]\n"
     ]
    }
   ],
   "source": [
    "def stock_std(n):\n",
    "    try:\n",
    "        stock_std = currency_data(n).iloc[:,0:4].stack().rolling(window = 20).std().unstack()['close']\n",
    "        # stock_std = data.stack().rolling(window = 20).std().unstack()['high']\n",
    "    except:\n",
    "        return pd.Series(np.nan,index = data.index).values\n",
    "    return pd.Series(stock_std,index = data.index).values\n",
    "with Pool(24) as p:\n",
    "    res_lst = list(tqdm(p.imap(stock_std,currency_names),total = len(currency_names)))"
   ]
  },
  {
   "cell_type": "code",
   "execution_count": 75,
   "id": "3fb1b414-f7a3-46ed-b45d-c2e4b6a2a812",
   "metadata": {},
   "outputs": [
    {
     "data": {
      "text/plain": [
       "array([      nan,       nan,       nan,       nan, 7210.597 , 7214.561 ,\n",
       "       7215.8725, 7215.3255, 7213.6695, 7213.032 , 7212.396 , 7210.8045,\n",
       "       7210.1945, 7210.443 , 7209.664 , 7208.957 , 7209.221 , 7208.3855,\n",
       "       7207.799 , 7209.2135, 7211.643 , 7213.6165, 7216.1085, 7218.4445,\n",
       "       7219.42  , 7218.73  , 7218.561 , 7218.42  , 7218.1645, 7218.3285,\n",
       "       7219.4705, 7220.709 , 7221.3725, 7221.657 , 7221.702 , 7220.963 ,\n",
       "       7218.8955, 7217.503 , 7216.984 , 7215.609 , 7214.6865, 7214.855 ,\n",
       "       7215.597 , 7215.7145, 7216.322 , 7216.253 , 7216.164 , 7215.668 ,\n",
       "       7215.6665, 7215.4625, 7215.45  , 7215.6295, 7215.8235, 7215.6535,\n",
       "       7215.901 , 7216.427 , 7216.25  , 7215.3215, 7214.534 , 7213.737 ,\n",
       "       7212.5345, 7211.1555, 7210.1745, 7209.0135, 7207.5295, 7206.2495,\n",
       "       7205.978 , 7206.6205, 7207.343 , 7208.0895, 7209.054 , 7209.4685,\n",
       "       7209.2625, 7209.06  , 7208.755 , 7207.903 , 7207.1245, 7206.7215,\n",
       "       7206.478 , 7206.5715, 7207.6705, 7208.605 , 7208.3295, 7207.7075,\n",
       "       7206.837 , 7205.0335, 7203.3355, 7202.275 , 7201.5495, 7201.122 ,\n",
       "       7201.3625, 7201.802 , 7201.465 , 7200.6035, 7199.206 , 7197.138 ,\n",
       "       7194.712 , 7192.318 , 7189.529 , 7185.7795])"
      ]
     },
     "execution_count": 75,
     "metadata": {},
     "output_type": "execute_result"
    }
   ],
   "source": [
    "data_mean[0][:100]"
   ]
  },
  {
   "cell_type": "code",
   "execution_count": 25,
   "id": "d3dfe384-742f-4c43-aa95-0a72a8ee46ac",
   "metadata": {},
   "outputs": [],
   "source": [
    "data_std = np.vstack(res_lst)"
   ]
  },
  {
   "cell_type": "code",
   "execution_count": 28,
   "id": "46514dd8-9d7e-4710-ae79-15463e041b6a",
   "metadata": {},
   "outputs": [],
   "source": [
    "up_status = data.values.T > (data_std + data_mean)\n",
    "down_status = data.values.T < (data_mean - data_std)\n",
    "mid_status = (data.values.T <= (data_std + data_mean)) * (data.values.T >= (data_mean - data_std))"
   ]
  },
  {
   "cell_type": "code",
   "execution_count": 32,
   "id": "82efaaf4-34dd-4a77-83d1-025a81fd501e",
   "metadata": {},
   "outputs": [
    {
     "data": {
      "text/plain": [
       "array([[False, False, False, ...,  True,  True,  True],\n",
       "       [False, False, False, ..., False, False,  True],\n",
       "       [False, False, False, ...,  True,  True,  True],\n",
       "       ...,\n",
       "       [False, False, False, ..., False,  True,  True],\n",
       "       [False, False, False, ...,  True,  True,  True],\n",
       "       [False, False, False, ..., False,  True,  True]])"
      ]
     },
     "execution_count": 32,
     "metadata": {},
     "output_type": "execute_result"
    }
   ],
   "source": [
    "mid_status"
   ]
  },
  {
   "cell_type": "code",
   "execution_count": 51,
   "id": "8d0db566-06e9-45c4-9c06-7fdada4eb89b",
   "metadata": {},
   "outputs": [],
   "source": [
    "def volume_min(n):\n",
    "    try:\n",
    "        test = currency_data(n).iloc[:,4]\n",
    "        volume_daily = test.rolling(window = 1440).sum()\n",
    "        volume_daily = volume_daily[volume_daily.index.strftime(\"%Y-%m-%d %H:%M:%S\").str.endswith('23:59:00')]\n",
    "        result = test / np.repeat(volume_daily.values,1440)\n",
    "        return pd.Series(result,index = data.index).values\n",
    "    except:\n",
    "        return pd.Series(np.nan,index = data_all.index).values"
   ]
  },
  {
   "cell_type": "code",
   "execution_count": 52,
   "id": "623f61a2-4311-4319-8c9e-acb1d3531eab",
   "metadata": {},
   "outputs": [
    {
     "name": "stderr",
     "output_type": "stream",
     "text": [
      "100%|████████████████████████████████████████████████████████████████| 28/28 [00:13<00:00,  2.13it/s]\n"
     ]
    }
   ],
   "source": [
    "with Pool(24) as p:\n",
    "    res_lst = list(tqdm(p.imap(volume_min,currency_names),total = len(currency_names)))"
   ]
  },
  {
   "cell_type": "code",
   "execution_count": 53,
   "id": "ba869773-d54a-4bcb-997e-1bf9b1d0f764",
   "metadata": {},
   "outputs": [],
   "source": [
    "data_volume_min = np.vstack(res_lst)"
   ]
  },
  {
   "cell_type": "code",
   "execution_count": 54,
   "id": "51a89b54-de7e-43ee-b6ab-e41e92ace41b",
   "metadata": {},
   "outputs": [],
   "source": [
    "Cor_up_stock_volume = data_volume_min * up_status\n",
    "Cor_down_stock_volume = data_volume_min * down_status\n",
    "Cor_mid_stock_volume = data_volume_min * mid_status"
   ]
  },
  {
   "cell_type": "code",
   "execution_count": 59,
   "id": "5cf924d4-a7c5-4857-9237-215e196aa82a",
   "metadata": {},
   "outputs": [],
   "source": [
    "def stock_corr(n):\n",
    "    corr = []\n",
    "    for i in range(1461):\n",
    "        corr.append(np.corrcoef(single_stock_volume[n][i],relate_stock_volume[n][i])[0,1])\n",
    "    return corr"
   ]
  },
  {
   "cell_type": "code",
   "execution_count": 61,
   "id": "18b8b5b2-c13c-44d0-8ed0-a4dc1b8f0ee3",
   "metadata": {
    "scrolled": true
   },
   "outputs": [],
   "source": [
    "single_stock_volume = np.reshape(data_volume_min,(28,-1,1440))"
   ]
  },
  {
   "cell_type": "code",
   "execution_count": 62,
   "id": "968781b6-5a3b-475d-9b2b-b5762631ea46",
   "metadata": {},
   "outputs": [],
   "source": [
    "relate_stock_volume = np.reshape((up_status * np.nansum(Cor_up_stock_volume,axis = 0) + mid_status * np.nansum(Cor_mid_stock_volume,axis = 0) + down_status* np.nansum(Cor_down_stock_volume,axis = 0)),(28,-1,1440))"
   ]
  },
  {
   "cell_type": "code",
   "execution_count": 63,
   "id": "2eee12e3-044d-49f8-a47d-43c82ed2a40c",
   "metadata": {},
   "outputs": [
    {
     "name": "stderr",
     "output_type": "stream",
     "text": [
      "100%|███████████████████████████████████████████████████████████████| 28/28 [00:00<00:00, 121.38it/s]\n"
     ]
    }
   ],
   "source": [
    "with Pool(24) as p:\n",
    "    res_lst = list(tqdm(p.imap(stock_corr,range(28)),total = len(range(28))))"
   ]
  },
  {
   "cell_type": "code",
   "execution_count": 64,
   "id": "6db21ac5-cd48-4bbf-880f-7b9709624a08",
   "metadata": {},
   "outputs": [],
   "source": [
    "corr_result = np.vstack(res_lst)"
   ]
  },
  {
   "cell_type": "code",
   "execution_count": 67,
   "id": "4292f3ea-978b-4207-824b-9ae8e7d7d69b",
   "metadata": {},
   "outputs": [
    {
     "data": {
      "text/plain": [
       "(28, 1461)"
      ]
     },
     "execution_count": 67,
     "metadata": {},
     "output_type": "execute_result"
    }
   ],
   "source": [
    "np.shape(corr_result)"
   ]
  },
  {
   "cell_type": "code",
   "execution_count": 76,
   "id": "d369ba5a-198e-4d46-956d-7a6ba88f9cf1",
   "metadata": {},
   "outputs": [],
   "source": [
    "factor = pd.DataFrame(ff.rolling_window(corr_result,window = 20).mean(axis = -1) + ff.rolling_window(corr_result,window = 20).std(axis = -1))/2"
   ]
  },
  {
   "cell_type": "code",
   "execution_count": null,
   "id": "43017401-4464-4cae-8143-0229587e593e",
   "metadata": {},
   "outputs": [],
   "source": []
  }
 ],
 "metadata": {
  "kernelspec": {
   "display_name": "Python 3 (ipykernel)",
   "language": "python",
   "name": "python3"
  },
  "language_info": {
   "codemirror_mode": {
    "name": "ipython",
    "version": 3
   },
   "file_extension": ".py",
   "mimetype": "text/x-python",
   "name": "python",
   "nbconvert_exporter": "python",
   "pygments_lexer": "ipython3",
   "version": "3.9.16"
  }
 },
 "nbformat": 4,
 "nbformat_minor": 5
}
